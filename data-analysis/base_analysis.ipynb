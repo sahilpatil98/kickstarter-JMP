{
 "cells": [
  {
   "cell_type": "markdown",
   "metadata": {},
   "source": [
    "# Analysis on Kickstarter"
   ]
  },
  {
   "cell_type": "code",
   "execution_count": 1,
   "metadata": {},
   "outputs": [],
   "source": [
    "# Import Libraries\n",
    "import numpy as np\n",
    "import pandas as pd\n",
    "import matplotlib.pyplot as plt\n",
    "import seaborn as sns\n",
    "import statsmodels.formula.api as smf\n",
    "from rdd import rdd\n",
    "from sklearn.linear_model import LogisticRegression\n",
    "from sklearn.linear_model import LinearRegression\n",
    "# Show all columns\n",
    "pd.set_option('display.max_columns', None)\n"
   ]
  },
  {
   "cell_type": "markdown",
   "metadata": {},
   "source": [
    "# Function for Kernels"
   ]
  },
  {
   "cell_type": "code",
   "execution_count": 2,
   "metadata": {},
   "outputs": [],
   "source": [
    "class Kernels:\n",
    "    def __init__(self):\n",
    "        pass\n",
    "        \n",
    "\n",
    "    # Triangular kernel\n",
    "    def triangular_kernel(R, c, h):\n",
    "        indicator = (np.abs(R - c) <= h).astype(float)\n",
    "        return indicator * (1 - np.abs(R - c) / h)\n",
    "    \n",
    "    # Epanechnikov kernel\n",
    "    def epanechnikov_kernel(R, c, h):\n",
    "        indicator = (np.abs(R - c) <= h).astype(float)\n",
    "        return indicator * (3/4) * (1 - ((R - c) / h) ** 2)\n",
    "    "
   ]
  },
  {
   "cell_type": "markdown",
   "metadata": {},
   "source": [
    "# Plotting Dataframe Generation"
   ]
  },
  {
   "cell_type": "code",
   "execution_count": 3,
   "metadata": {},
   "outputs": [],
   "source": [
    "# Generate Plotting Dataframe\n",
    "def generate_plotting_df(data):\n",
    "    cutoff = 0\n",
    "    bandwidth = 10000\n",
    "    bin_size = 20\n",
    "\n",
    "    plotting_df = data.copy()\n",
    "\n",
    "    plotting_df = plotting_df[(plotting_df['dollars_to_goal'] <= bandwidth) & (plotting_df['dollars_to_goal'] >= -bandwidth)]\n",
    "    # Split data into left and right of the cutoff\n",
    "    left_df = plotting_df[(plotting_df['state'] == 'failed') & (plotting_df['dollars_to_goal'] < cutoff)]\n",
    "    right_df = plotting_df[(plotting_df['state'] == 'successful') & (plotting_df['dollars_to_goal'] >= cutoff)]\n",
    "\n",
    "    # Bin each subset separately\n",
    "    left_df['dollars_to_goal_binned'] = pd.cut(left_df['dollars_to_goal'], bins=bin_size)\n",
    "    right_df['dollars_to_goal_binned'] = pd.cut(right_df['dollars_to_goal'], bins=bin_size)\n",
    "\n",
    "    # Aggregate the binned data for each subset\n",
    "    left_binned_data = left_df.groupby('dollars_to_goal_binned').agg({\n",
    "        'total_successful_after_first': 'mean',\n",
    "        'total_failed_after_first': 'mean',\n",
    "        'total_canceled_after_first': 'mean',\n",
    "        'total_raised_after_first_usd': 'mean',\n",
    "        'total_campaigns_after_first': 'mean',\n",
    "        'dollars_to_goal': 'size'  # Counts the number of observations in each bin\n",
    "    }).reset_index().rename(columns={'dollars_to_goal': 'n_obs'})\n",
    "    right_binned_data = right_df.groupby('dollars_to_goal_binned').agg({\n",
    "        'total_successful_after_first': 'mean',\n",
    "        'total_failed_after_first': 'mean',\n",
    "        'total_canceled_after_first': 'mean',\n",
    "        'total_raised_after_first_usd': 'mean',\n",
    "        'total_campaigns_after_first': 'mean',\n",
    "        'dollars_to_goal': 'size',  # Counts the number of observations in each bin\n",
    "    }).reset_index().rename(columns={'dollars_to_goal': 'n_obs'})\n",
    "\n",
    "    # Add a midpoint for each bin for both left and right data\n",
    "    left_binned_data['dollars_to_goal'] = left_binned_data['dollars_to_goal_binned'].apply(lambda interval: interval.mid)\n",
    "    right_binned_data['dollars_to_goal'] = right_binned_data['dollars_to_goal_binned'].apply(lambda interval: interval.mid)\n",
    "\n",
    "    #left_binned_data['dollars_to_goal_2'] = left_binned_data['dollars_to_goal'] ** 2\n",
    "    #right_binned_data['dollars_to_goal_2'] = right_binned_data['dollars_to_goal'] ** 2\n",
    "    # Combine the binned data for both sides of the cutoff\n",
    "    plotting_df = pd.concat([left_binned_data, right_binned_data], ignore_index=True)\n",
    "\n",
    "    return plotting_df"
   ]
  },
  {
   "cell_type": "markdown",
   "metadata": {},
   "source": [
    "# Import Data"
   ]
  },
  {
   "cell_type": "code",
   "execution_count": 4,
   "metadata": {},
   "outputs": [
    {
     "data": {
      "text/plain": [
       "(328652, 148)"
      ]
     },
     "execution_count": 4,
     "metadata": {},
     "output_type": "execute_result"
    }
   ],
   "source": [
    "# Load the data\n",
    "df = pd.read_json('../data/creator_first_project.json', lines = True)\n",
    "df.shape"
   ]
  },
  {
   "cell_type": "markdown",
   "metadata": {},
   "source": [
    "# Visualize the Data"
   ]
  },
  {
   "cell_type": "code",
   "execution_count": 11,
   "metadata": {},
   "outputs": [
    {
     "data": {
      "text/plain": [
       "Text(0.5, 1.0, 'New Kickstarter Creators by Year')"
      ]
     },
     "execution_count": 11,
     "metadata": {},
     "output_type": "execute_result"
    },
    {
     "data": {
      "image/png": "[encoded data removed]",
      "text/plain": [
       "<Figure size 1000x600 with 1 Axes>"
      ]
     },
     "metadata": {},
     "output_type": "display_data"
    }
   ],
   "source": [
    "# New Kickstarter Creators by Year\n",
    "df['year'] = df['launched_at'].dt.year\n",
    "df['month'] = df['launched_at'].dt.month\n",
    "\n",
    "# Plot\n",
    "plt.figure(figsize=(10,6))\n",
    "sns.countplot(data=df, x='year')\n",
    "plt.title('New Kickstarter Creators by Year')"
   ]
  },
  {
   "cell_type": "markdown",
   "metadata": {},
   "source": [
    "## Check first project statistics"
   ]
  },
  {
   "cell_type": "code",
   "execution_count": 6,
   "metadata": {},
   "outputs": [],
   "source": [
    "# Convert some key statistics to integers\n",
    "df['spotlight'] = df['spotlight'].astype(int)\n",
    "\n",
    "# Replace missing with zeros for prelaunch_activated\n",
    "df['prelaunch_activated'] = df['prelaunch_activated'].fillna(0)"
   ]
  },
  {
   "cell_type": "code",
   "execution_count": 7,
   "metadata": {},
   "outputs": [
    {
     "data": {
      "text/html": [
       "<div>\n",
       "<style scoped>\n",
       "    .dataframe tbody tr th:only-of-type {\n",
       "        vertical-align: middle;\n",
       "    }\n",
       "\n",
       "    .dataframe tbody tr th {\n",
       "        vertical-align: top;\n",
       "    }\n",
       "\n",
       "    .dataframe thead th {\n",
       "        text-align: right;\n",
       "    }\n",
       "</style>\n",
       "<table border=\"1\" class=\"dataframe\">\n",
       "  <thead>\n",
       "    <tr style=\"text-align: right;\">\n",
       "      <th></th>\n",
       "      <th>usd_goal</th>\n",
       "      <th>usd_pledged</th>\n",
       "      <th>staff_pick</th>\n",
       "      <th>backers_count</th>\n",
       "      <th>spotlight</th>\n",
       "      <th>prelaunch_activated</th>\n",
       "      <th>total_raised_after_first</th>\n",
       "    </tr>\n",
       "  </thead>\n",
       "  <tbody>\n",
       "    <tr>\n",
       "      <th>count</th>\n",
       "      <td>328652.00</td>\n",
       "      <td>328652.00</td>\n",
       "      <td>321019.00</td>\n",
       "      <td>328652.00</td>\n",
       "      <td>328652.00</td>\n",
       "      <td>328652.00</td>\n",
       "      <td>32889.00</td>\n",
       "    </tr>\n",
       "    <tr>\n",
       "      <th>mean</th>\n",
       "      <td>39749.07</td>\n",
       "      <td>12231.96</td>\n",
       "      <td>0.11</td>\n",
       "      <td>129.54</td>\n",
       "      <td>0.50</td>\n",
       "      <td>0.08</td>\n",
       "      <td>166221.98</td>\n",
       "    </tr>\n",
       "    <tr>\n",
       "      <th>std</th>\n",
       "      <td>1049282.91</td>\n",
       "      <td>97368.42</td>\n",
       "      <td>0.32</td>\n",
       "      <td>936.50</td>\n",
       "      <td>0.50</td>\n",
       "      <td>0.28</td>\n",
       "      <td>1799620.83</td>\n",
       "    </tr>\n",
       "    <tr>\n",
       "      <th>min</th>\n",
       "      <td>0.51</td>\n",
       "      <td>0.00</td>\n",
       "      <td>0.00</td>\n",
       "      <td>0.00</td>\n",
       "      <td>0.00</td>\n",
       "      <td>0.00</td>\n",
       "      <td>1.00</td>\n",
       "    </tr>\n",
       "    <tr>\n",
       "      <th>25%</th>\n",
       "      <td>2000.00</td>\n",
       "      <td>73.21</td>\n",
       "      <td>0.00</td>\n",
       "      <td>3.00</td>\n",
       "      <td>0.00</td>\n",
       "      <td>0.00</td>\n",
       "      <td>2707.00</td>\n",
       "    </tr>\n",
       "    <tr>\n",
       "      <th>50%</th>\n",
       "      <td>5000.00</td>\n",
       "      <td>1228.00</td>\n",
       "      <td>0.00</td>\n",
       "      <td>21.00</td>\n",
       "      <td>0.00</td>\n",
       "      <td>0.00</td>\n",
       "      <td>9246.00</td>\n",
       "    </tr>\n",
       "    <tr>\n",
       "      <th>75%</th>\n",
       "      <td>15000.00</td>\n",
       "      <td>6055.00</td>\n",
       "      <td>0.00</td>\n",
       "      <td>77.00</td>\n",
       "      <td>1.00</td>\n",
       "      <td>0.00</td>\n",
       "      <td>34974.00</td>\n",
       "    </tr>\n",
       "    <tr>\n",
       "      <th>max</th>\n",
       "      <td>152350076.00</td>\n",
       "      <td>13285226.36</td>\n",
       "      <td>1.00</td>\n",
       "      <td>219382.00</td>\n",
       "      <td>1.00</td>\n",
       "      <td>1.00</td>\n",
       "      <td>120530708.00</td>\n",
       "    </tr>\n",
       "  </tbody>\n",
       "</table>\n",
       "</div>"
      ],
      "text/plain": [
       "           usd_goal  usd_pledged staff_pick backers_count  spotlight  \\\n",
       "count     328652.00    328652.00  321019.00     328652.00  328652.00   \n",
       "mean       39749.07     12231.96       0.11        129.54       0.50   \n",
       "std      1049282.91     97368.42       0.32        936.50       0.50   \n",
       "min            0.51         0.00       0.00          0.00       0.00   \n",
       "25%         2000.00        73.21       0.00          3.00       0.00   \n",
       "50%         5000.00      1228.00       0.00         21.00       0.00   \n",
       "75%        15000.00      6055.00       0.00         77.00       1.00   \n",
       "max    152350076.00  13285226.36       1.00     219382.00       1.00   \n",
       "\n",
       "      prelaunch_activated total_raised_after_first  \n",
       "count           328652.00                 32889.00  \n",
       "mean                 0.08                166221.98  \n",
       "std                  0.28               1799620.83  \n",
       "min                  0.00                     1.00  \n",
       "25%                  0.00                  2707.00  \n",
       "50%                  0.00                  9246.00  \n",
       "75%                  0.00                 34974.00  \n",
       "max                  1.00             120530708.00  "
      ]
     },
     "execution_count": 7,
     "metadata": {},
     "output_type": "execute_result"
    }
   ],
   "source": [
    "df[['usd_goal', 'usd_pledged', 'staff_pick', 'backers_count', 'spotlight', 'prelaunch_activated', 'total_raised_after_first']].describe().apply(lambda s: s.apply('{0:.2f}'.format))"
   ]
  },
  {
   "cell_type": "markdown",
   "metadata": {},
   "source": [
    "Define the Discontinuity"
   ]
  },
  {
   "cell_type": "code",
   "execution_count": 8,
   "metadata": {},
   "outputs": [],
   "source": [
    "# Create Discontinuity Columns\n",
    "df['percent_to_goal'] = df['usd_pledged'] / df['usd_goal']\n",
    "df['dollars_to_goal'] = df['usd_pledged']  - df['usd_goal']"
   ]
  },
  {
   "cell_type": "markdown",
   "metadata": {},
   "source": [
    "## Percent to Goal"
   ]
  },
  {
   "cell_type": "code",
   "execution_count": 9,
   "metadata": {},
   "outputs": [
    {
     "data": {
      "text/plain": [
       "\"plt.figure(figsize=(15,15))\\nax = plt.subplot(5, 1, 1)\\n\\nsns.scatterplot(data=plotting_df, x = 'percent_to_goal', y = 'total_successful_after_first', ax = ax)\\nax.axvline(x = 1, color = 'red', linestyle = '--')\\nax.set_xlabel('')\\n\\nax = plt.subplot(5, 1, 2)\\nsns.scatterplot(data = plotting_df, x = 'percent_to_goal', y = 'total_failed_after_first', ax = ax)\\nax.axvline(x = 1, color = 'red', linestyle = '--')\\nax.set_xlabel('')\\n\\nax = plt.subplot(5, 1, 3)\\nsns.scatterplot(data = plotting_df, x = 'percent_to_goal', y = 'total_canceled_after_first', ax = ax)\\nax.axvline(x = 1, color = 'red', linestyle = '--')\\nax.set_xlabel('')\\n\\nax = plt.subplot(5, 1, 4)\\nsns.scatterplot(data = plotting_df, x = 'percent_to_goal', y = 'total_campaigns_after_first', ax = ax)\\nax.axvline(x = 1, color = 'red', linestyle = '--')\\nax.set_xlabel('')\\n\\nax = plt.subplot(5, 1, 5)\\nsns.scatterplot(data = plotting_df, x = 'percent_to_goal', y = 'total_raised_after_first', ax = ax)\\nax.axvline(x = 1, color = 'red', linestyle = '--')\\nax.set_xlabel('Percent to Goal')\\n\""
      ]
     },
     "execution_count": 9,
     "metadata": {},
     "output_type": "execute_result"
    }
   ],
   "source": [
    "'''plt.figure(figsize=(15,15))\n",
    "ax = plt.subplot(5, 1, 1)\n",
    "\n",
    "sns.scatterplot(data=plotting_df, x = 'percent_to_goal', y = 'total_successful_after_first', ax = ax)\n",
    "ax.axvline(x = 1, color = 'red', linestyle = '--')\n",
    "ax.set_xlabel('')\n",
    "\n",
    "ax = plt.subplot(5, 1, 2)\n",
    "sns.scatterplot(data = plotting_df, x = 'percent_to_goal', y = 'total_failed_after_first', ax = ax)\n",
    "ax.axvline(x = 1, color = 'red', linestyle = '--')\n",
    "ax.set_xlabel('')\n",
    "\n",
    "ax = plt.subplot(5, 1, 3)\n",
    "sns.scatterplot(data = plotting_df, x = 'percent_to_goal', y = 'total_canceled_after_first', ax = ax)\n",
    "ax.axvline(x = 1, color = 'red', linestyle = '--')\n",
    "ax.set_xlabel('')\n",
    "\n",
    "ax = plt.subplot(5, 1, 4)\n",
    "sns.scatterplot(data = plotting_df, x = 'percent_to_goal', y = 'total_campaigns_after_first', ax = ax)\n",
    "ax.axvline(x = 1, color = 'red', linestyle = '--')\n",
    "ax.set_xlabel('')\n",
    "\n",
    "ax = plt.subplot(5, 1, 5)\n",
    "sns.scatterplot(data = plotting_df, x = 'percent_to_goal', y = 'total_raised_after_first', ax = ax)\n",
    "ax.axvline(x = 1, color = 'red', linestyle = '--')\n",
    "ax.set_xlabel('Percent to Goal')\n",
    "'''"
   ]
  },
  {
   "cell_type": "code",
   "execution_count": 10,
   "metadata": {},
   "outputs": [
    {
     "data": {
      "text/plain": [
       "'plotting_df'"
      ]
     },
     "execution_count": 10,
     "metadata": {},
     "output_type": "execute_result"
    }
   ],
   "source": [
    "'''plotting_df'''"
   ]
  },
  {
   "cell_type": "markdown",
   "metadata": {},
   "source": [
    "## Dollars to Goal"
   ]
  },
  {
   "cell_type": "code",
   "execution_count": 11,
   "metadata": {},
   "outputs": [
    {
     "name": "stderr",
     "output_type": "stream",
     "text": [
      "C:\\Users\\d0tam\\AppData\\Local\\Temp\\ipykernel_21572\\3549554930.py:15: SettingWithCopyWarning: \n",
      "A value is trying to be set on a copy of a slice from a DataFrame.\n",
      "Try using .loc[row_indexer,col_indexer] = value instead\n",
      "\n",
      "See the caveats in the documentation: https://pandas.pydata.org/pandas-docs/stable/user_guide/indexing.html#returning-a-view-versus-a-copy\n",
      "  left_df['dollars_to_goal_binned'] = pd.cut(left_df['dollars_to_goal'], bins=bin_size)\n",
      "C:\\Users\\d0tam\\AppData\\Local\\Temp\\ipykernel_21572\\3549554930.py:16: SettingWithCopyWarning: \n",
      "A value is trying to be set on a copy of a slice from a DataFrame.\n",
      "Try using .loc[row_indexer,col_indexer] = value instead\n",
      "\n",
      "See the caveats in the documentation: https://pandas.pydata.org/pandas-docs/stable/user_guide/indexing.html#returning-a-view-versus-a-copy\n",
      "  right_df['dollars_to_goal_binned'] = pd.cut(right_df['dollars_to_goal'], bins=bin_size)\n",
      "C:\\Users\\d0tam\\AppData\\Local\\Temp\\ipykernel_21572\\3549554930.py:19: FutureWarning: The default of observed=False is deprecated and will be changed to True in a future version of pandas. Pass observed=False to retain current behavior or observed=True to adopt the future default and silence this warning.\n",
      "  left_binned_data = left_df.groupby('dollars_to_goal_binned').agg({\n",
      "C:\\Users\\d0tam\\AppData\\Local\\Temp\\ipykernel_21572\\3549554930.py:27: FutureWarning: The default of observed=False is deprecated and will be changed to True in a future version of pandas. Pass observed=False to retain current behavior or observed=True to adopt the future default and silence this warning.\n",
      "  right_binned_data = right_df.groupby('dollars_to_goal_binned').agg({\n"
     ]
    },
    {
     "data": {
      "text/plain": [
       "<Axes: xlabel='dollars_to_goal', ylabel='Count'>"
      ]
     },
     "execution_count": 11,
     "metadata": {},
     "output_type": "execute_result"
    },
    {
     "data": {
      "image/png": "[encoded data removed]",
      "text/plain": [
       "<Figure size 1000x600 with 1 Axes>"
      ]
     },
     "metadata": {},
     "output_type": "display_data"
    }
   ],
   "source": [
    "# Generate plotting df\n",
    "plotting_df = generate_plotting_df(df)\n",
    "\n",
    "# Add Threshold Column\n",
    "plotting_df['threshold'] = plotting_df['dollars_to_goal'] >= 0\n",
    "\n",
    "# Plot percent to goal on x axis and total number of projects on y axis\n",
    "plt.figure(figsize=(10,6))\n",
    "plt.xlim(-10000, 10000)\n",
    "sns.histplot(data=plotting_df, x='dollars_to_goal', weights = 'n_obs', bins = 20)"
   ]
  },
  {
   "cell_type": "code",
   "execution_count": 12,
   "metadata": {},
   "outputs": [
    {
     "data": {
      "text/plain": [
       "Text(0.5, 0, 'Dollars to Goal')"
      ]
     },
     "execution_count": 12,
     "metadata": {},
     "output_type": "execute_result"
    },
    {
     "data": {
      "image/png": "[encoded data removed]",
      "text/plain": [
       "<Figure size 1500x1500 with 5 Axes>"
      ]
     },
     "metadata": {},
     "output_type": "display_data"
    }
   ],
   "source": [
    "plt.figure(figsize=(15,15))\n",
    "ax = plt.subplot(5, 1, 1)\n",
    "\n",
    "sns.scatterplot(data=plotting_df, x = 'dollars_to_goal', y = 'total_successful_after_first', ax = ax)\n",
    "ax.axvline(x = 1, color = 'red', linestyle = '--')\n",
    "ax.set_xlabel('')\n",
    "\n",
    "ax = plt.subplot(5, 1, 2)\n",
    "sns.scatterplot(data = plotting_df, x = 'dollars_to_goal', y = 'total_failed_after_first', ax = ax)\n",
    "ax.axvline(x = 1, color = 'red', linestyle = '--')\n",
    "ax.set_xlabel('')\n",
    "\n",
    "ax = plt.subplot(5, 1, 3)\n",
    "sns.scatterplot(data = plotting_df, x = 'dollars_to_goal', y = 'total_canceled_after_first', ax = ax)\n",
    "ax.axvline(x = 1, color = 'red', linestyle = '--')\n",
    "ax.set_xlabel('')\n",
    "\n",
    "ax = plt.subplot(5, 1, 4)\n",
    "sns.scatterplot(data = plotting_df, x = 'dollars_to_goal', y = 'total_campaigns_after_first', ax = ax)\n",
    "ax.axvline(x = 1, color = 'red', linestyle = '--')\n",
    "ax.set_xlabel('')\n",
    "\n",
    "ax = plt.subplot(5, 1, 5)\n",
    "sns.scatterplot(data = plotting_df, x = 'dollars_to_goal', y = 'total_raised_after_first_usd', ax = ax)\n",
    "ax.axvline(x = 1, color = 'red', linestyle = '--')\n",
    "ax.set_xlabel('Dollars to Goal')\n"
   ]
  },
  {
   "cell_type": "code",
   "execution_count": 13,
   "metadata": {},
   "outputs": [
    {
     "data": {
      "text/html": [
       "<div>\n",
       "<style scoped>\n",
       "    .dataframe tbody tr th:only-of-type {\n",
       "        vertical-align: middle;\n",
       "    }\n",
       "\n",
       "    .dataframe tbody tr th {\n",
       "        vertical-align: top;\n",
       "    }\n",
       "\n",
       "    .dataframe thead th {\n",
       "        text-align: right;\n",
       "    }\n",
       "</style>\n",
       "<table border=\"1\" class=\"dataframe\">\n",
       "  <thead>\n",
       "    <tr style=\"text-align: right;\">\n",
       "      <th></th>\n",
       "      <th>dollars_to_goal_binned</th>\n",
       "      <th>total_successful_after_first</th>\n",
       "      <th>total_failed_after_first</th>\n",
       "      <th>total_canceled_after_first</th>\n",
       "      <th>total_raised_after_first_usd</th>\n",
       "      <th>total_campaigns_after_first</th>\n",
       "      <th>n_obs</th>\n",
       "      <th>dollars_to_goal</th>\n",
       "      <th>threshold</th>\n",
       "    </tr>\n",
       "  </thead>\n",
       "  <tbody>\n",
       "    <tr>\n",
       "      <th>0</th>\n",
       "      <td>(-10010.0, -9500.0]</td>\n",
       "      <td>1.430000</td>\n",
       "      <td>1.264706</td>\n",
       "      <td>1.000000</td>\n",
       "      <td>9153.303169</td>\n",
       "      <td>1.359408</td>\n",
       "      <td>6489</td>\n",
       "      <td>-9755.00000</td>\n",
       "      <td>False</td>\n",
       "    </tr>\n",
       "    <tr>\n",
       "      <th>1</th>\n",
       "      <td>(-9500.0, -9000.001]</td>\n",
       "      <td>1.582090</td>\n",
       "      <td>1.215385</td>\n",
       "      <td>1.000000</td>\n",
       "      <td>15063.442336</td>\n",
       "      <td>1.556452</td>\n",
       "      <td>1543</td>\n",
       "      <td>-9250.00050</td>\n",
       "      <td>False</td>\n",
       "    </tr>\n",
       "    <tr>\n",
       "      <th>2</th>\n",
       "      <td>(-9000.001, -8500.001]</td>\n",
       "      <td>1.685714</td>\n",
       "      <td>1.340909</td>\n",
       "      <td>1.000000</td>\n",
       "      <td>15272.990063</td>\n",
       "      <td>1.651007</td>\n",
       "      <td>1663</td>\n",
       "      <td>-8750.00100</td>\n",
       "      <td>False</td>\n",
       "    </tr>\n",
       "    <tr>\n",
       "      <th>3</th>\n",
       "      <td>(-8500.001, -8000.002]</td>\n",
       "      <td>1.516667</td>\n",
       "      <td>1.213333</td>\n",
       "      <td>2.000000</td>\n",
       "      <td>12547.348780</td>\n",
       "      <td>1.539683</td>\n",
       "      <td>1431</td>\n",
       "      <td>-8250.00150</td>\n",
       "      <td>False</td>\n",
       "    </tr>\n",
       "    <tr>\n",
       "      <th>4</th>\n",
       "      <td>(-8000.002, -7500.002]</td>\n",
       "      <td>1.500000</td>\n",
       "      <td>1.184211</td>\n",
       "      <td>1.100000</td>\n",
       "      <td>12125.654115</td>\n",
       "      <td>1.419355</td>\n",
       "      <td>2673</td>\n",
       "      <td>-7750.00200</td>\n",
       "      <td>False</td>\n",
       "    </tr>\n",
       "    <tr>\n",
       "      <th>5</th>\n",
       "      <td>(-7500.002, -7000.003]</td>\n",
       "      <td>1.448718</td>\n",
       "      <td>1.183206</td>\n",
       "      <td>1.500000</td>\n",
       "      <td>12112.728009</td>\n",
       "      <td>1.428571</td>\n",
       "      <td>2350</td>\n",
       "      <td>-7250.00250</td>\n",
       "      <td>False</td>\n",
       "    </tr>\n",
       "    <tr>\n",
       "      <th>6</th>\n",
       "      <td>(-7000.003, -6500.003]</td>\n",
       "      <td>1.723684</td>\n",
       "      <td>1.209302</td>\n",
       "      <td>1.166667</td>\n",
       "      <td>21743.665896</td>\n",
       "      <td>1.507692</td>\n",
       "      <td>2479</td>\n",
       "      <td>-6750.00300</td>\n",
       "      <td>False</td>\n",
       "    </tr>\n",
       "    <tr>\n",
       "      <th>7</th>\n",
       "      <td>(-6500.003, -6000.004]</td>\n",
       "      <td>1.776316</td>\n",
       "      <td>1.152174</td>\n",
       "      <td>1.222222</td>\n",
       "      <td>10382.265634</td>\n",
       "      <td>1.527273</td>\n",
       "      <td>2087</td>\n",
       "      <td>-6250.00350</td>\n",
       "      <td>False</td>\n",
       "    </tr>\n",
       "    <tr>\n",
       "      <th>8</th>\n",
       "      <td>(-6000.004, -5500.004]</td>\n",
       "      <td>2.175926</td>\n",
       "      <td>1.331288</td>\n",
       "      <td>1.200000</td>\n",
       "      <td>16372.367188</td>\n",
       "      <td>1.863454</td>\n",
       "      <td>3012</td>\n",
       "      <td>-5750.00400</td>\n",
       "      <td>False</td>\n",
       "    </tr>\n",
       "    <tr>\n",
       "      <th>9</th>\n",
       "      <td>(-5500.004, -5000.005]</td>\n",
       "      <td>2.009709</td>\n",
       "      <td>1.210145</td>\n",
       "      <td>1.500000</td>\n",
       "      <td>9278.749772</td>\n",
       "      <td>1.709957</td>\n",
       "      <td>2398</td>\n",
       "      <td>-5250.00450</td>\n",
       "      <td>False</td>\n",
       "    </tr>\n",
       "    <tr>\n",
       "      <th>10</th>\n",
       "      <td>(-5000.005, -4500.005]</td>\n",
       "      <td>1.699074</td>\n",
       "      <td>1.264529</td>\n",
       "      <td>1.022727</td>\n",
       "      <td>11679.252307</td>\n",
       "      <td>1.498563</td>\n",
       "      <td>8735</td>\n",
       "      <td>-4750.00500</td>\n",
       "      <td>False</td>\n",
       "    </tr>\n",
       "    <tr>\n",
       "      <th>11</th>\n",
       "      <td>(-4500.005, -4000.006]</td>\n",
       "      <td>1.414966</td>\n",
       "      <td>1.257310</td>\n",
       "      <td>1.000000</td>\n",
       "      <td>9114.398823</td>\n",
       "      <td>1.420712</td>\n",
       "      <td>3213</td>\n",
       "      <td>-4250.00550</td>\n",
       "      <td>False</td>\n",
       "    </tr>\n",
       "    <tr>\n",
       "      <th>12</th>\n",
       "      <td>(-4000.006, -3500.006]</td>\n",
       "      <td>1.645503</td>\n",
       "      <td>1.248927</td>\n",
       "      <td>1.045455</td>\n",
       "      <td>12319.554576</td>\n",
       "      <td>1.554726</td>\n",
       "      <td>4148</td>\n",
       "      <td>-3750.00600</td>\n",
       "      <td>False</td>\n",
       "    </tr>\n",
       "    <tr>\n",
       "      <th>13</th>\n",
       "      <td>(-3500.006, -3000.007]</td>\n",
       "      <td>1.723529</td>\n",
       "      <td>1.158590</td>\n",
       "      <td>1.055556</td>\n",
       "      <td>9750.225999</td>\n",
       "      <td>1.525199</td>\n",
       "      <td>4108</td>\n",
       "      <td>-3250.00650</td>\n",
       "      <td>False</td>\n",
       "    </tr>\n",
       "    <tr>\n",
       "      <th>14</th>\n",
       "      <td>(-3000.007, -2500.007]</td>\n",
       "      <td>1.831325</td>\n",
       "      <td>1.353474</td>\n",
       "      <td>1.272727</td>\n",
       "      <td>7149.620874</td>\n",
       "      <td>1.764925</td>\n",
       "      <td>5996</td>\n",
       "      <td>-2750.00700</td>\n",
       "      <td>False</td>\n",
       "    </tr>\n",
       "    <tr>\n",
       "      <th>15</th>\n",
       "      <td>(-2500.007, -2000.008]</td>\n",
       "      <td>1.836735</td>\n",
       "      <td>1.222874</td>\n",
       "      <td>1.076923</td>\n",
       "      <td>15733.395443</td>\n",
       "      <td>1.618445</td>\n",
       "      <td>5879</td>\n",
       "      <td>-2250.00750</td>\n",
       "      <td>False</td>\n",
       "    </tr>\n",
       "    <tr>\n",
       "      <th>16</th>\n",
       "      <td>(-2000.008, -1500.008]</td>\n",
       "      <td>1.524715</td>\n",
       "      <td>1.235925</td>\n",
       "      <td>1.083333</td>\n",
       "      <td>7548.135406</td>\n",
       "      <td>1.469821</td>\n",
       "      <td>6798</td>\n",
       "      <td>-1750.00800</td>\n",
       "      <td>False</td>\n",
       "    </tr>\n",
       "    <tr>\n",
       "      <th>17</th>\n",
       "      <td>(-1500.008, -1000.009]</td>\n",
       "      <td>2.100671</td>\n",
       "      <td>1.250000</td>\n",
       "      <td>1.025641</td>\n",
       "      <td>9089.127315</td>\n",
       "      <td>1.760369</td>\n",
       "      <td>6809</td>\n",
       "      <td>-1250.00850</td>\n",
       "      <td>False</td>\n",
       "    </tr>\n",
       "    <tr>\n",
       "      <th>18</th>\n",
       "      <td>(-1000.009, -500.009]</td>\n",
       "      <td>2.062350</td>\n",
       "      <td>1.285714</td>\n",
       "      <td>1.157895</td>\n",
       "      <td>7534.616606</td>\n",
       "      <td>1.796992</td>\n",
       "      <td>9842</td>\n",
       "      <td>-750.00900</td>\n",
       "      <td>False</td>\n",
       "    </tr>\n",
       "    <tr>\n",
       "      <th>19</th>\n",
       "      <td>(-500.009, -0.0097]</td>\n",
       "      <td>2.174603</td>\n",
       "      <td>1.390940</td>\n",
       "      <td>1.351351</td>\n",
       "      <td>5865.421594</td>\n",
       "      <td>2.012922</td>\n",
       "      <td>9583</td>\n",
       "      <td>-250.00935</td>\n",
       "      <td>False</td>\n",
       "    </tr>\n",
       "    <tr>\n",
       "      <th>20</th>\n",
       "      <td>(-10.0, 500.0]</td>\n",
       "      <td>2.277791</td>\n",
       "      <td>1.208475</td>\n",
       "      <td>1.083900</td>\n",
       "      <td>15891.600047</td>\n",
       "      <td>2.253822</td>\n",
       "      <td>74085</td>\n",
       "      <td>245.00000</td>\n",
       "      <td>True</td>\n",
       "    </tr>\n",
       "    <tr>\n",
       "      <th>21</th>\n",
       "      <td>(500.0, 1000.0]</td>\n",
       "      <td>2.430101</td>\n",
       "      <td>1.213389</td>\n",
       "      <td>1.094828</td>\n",
       "      <td>21047.581284</td>\n",
       "      <td>2.423423</td>\n",
       "      <td>21760</td>\n",
       "      <td>750.00000</td>\n",
       "      <td>True</td>\n",
       "    </tr>\n",
       "    <tr>\n",
       "      <th>22</th>\n",
       "      <td>(1000.0, 1500.0]</td>\n",
       "      <td>2.636908</td>\n",
       "      <td>1.195402</td>\n",
       "      <td>1.125000</td>\n",
       "      <td>28040.132300</td>\n",
       "      <td>2.632067</td>\n",
       "      <td>11895</td>\n",
       "      <td>1250.00000</td>\n",
       "      <td>True</td>\n",
       "    </tr>\n",
       "    <tr>\n",
       "      <th>23</th>\n",
       "      <td>(1500.0, 2000.0]</td>\n",
       "      <td>2.787170</td>\n",
       "      <td>1.093750</td>\n",
       "      <td>1.121951</td>\n",
       "      <td>41774.670272</td>\n",
       "      <td>2.744741</td>\n",
       "      <td>7332</td>\n",
       "      <td>1750.00000</td>\n",
       "      <td>True</td>\n",
       "    </tr>\n",
       "    <tr>\n",
       "      <th>24</th>\n",
       "      <td>(2000.0, 2500.0]</td>\n",
       "      <td>2.555556</td>\n",
       "      <td>1.235849</td>\n",
       "      <td>1.161290</td>\n",
       "      <td>47425.624731</td>\n",
       "      <td>2.584321</td>\n",
       "      <td>5336</td>\n",
       "      <td>2250.00000</td>\n",
       "      <td>True</td>\n",
       "    </tr>\n",
       "    <tr>\n",
       "      <th>25</th>\n",
       "      <td>(2500.0, 3000.0]</td>\n",
       "      <td>3.092493</td>\n",
       "      <td>1.135802</td>\n",
       "      <td>1.280000</td>\n",
       "      <td>61633.588541</td>\n",
       "      <td>3.073325</td>\n",
       "      <td>3783</td>\n",
       "      <td>2750.00000</td>\n",
       "      <td>True</td>\n",
       "    </tr>\n",
       "    <tr>\n",
       "      <th>26</th>\n",
       "      <td>(3000.0, 3500.0]</td>\n",
       "      <td>3.037196</td>\n",
       "      <td>1.192982</td>\n",
       "      <td>1.318182</td>\n",
       "      <td>54746.503238</td>\n",
       "      <td>3.020408</td>\n",
       "      <td>3159</td>\n",
       "      <td>3250.00000</td>\n",
       "      <td>True</td>\n",
       "    </tr>\n",
       "    <tr>\n",
       "      <th>27</th>\n",
       "      <td>(3500.0, 4000.0]</td>\n",
       "      <td>2.975518</td>\n",
       "      <td>1.153846</td>\n",
       "      <td>1.111111</td>\n",
       "      <td>69161.534605</td>\n",
       "      <td>2.960993</td>\n",
       "      <td>2463</td>\n",
       "      <td>3750.00000</td>\n",
       "      <td>True</td>\n",
       "    </tr>\n",
       "    <tr>\n",
       "      <th>28</th>\n",
       "      <td>(4000.0, 4500.0]</td>\n",
       "      <td>2.966337</td>\n",
       "      <td>1.575000</td>\n",
       "      <td>1.375000</td>\n",
       "      <td>73644.743162</td>\n",
       "      <td>3.050096</td>\n",
       "      <td>2124</td>\n",
       "      <td>4250.00000</td>\n",
       "      <td>True</td>\n",
       "    </tr>\n",
       "    <tr>\n",
       "      <th>29</th>\n",
       "      <td>(4500.0, 5000.0]</td>\n",
       "      <td>3.348525</td>\n",
       "      <td>1.210526</td>\n",
       "      <td>1.066667</td>\n",
       "      <td>75503.573583</td>\n",
       "      <td>3.310606</td>\n",
       "      <td>1604</td>\n",
       "      <td>4750.00000</td>\n",
       "      <td>True</td>\n",
       "    </tr>\n",
       "    <tr>\n",
       "      <th>30</th>\n",
       "      <td>(5000.0, 5500.0]</td>\n",
       "      <td>3.204663</td>\n",
       "      <td>1.194444</td>\n",
       "      <td>1.200000</td>\n",
       "      <td>77245.645644</td>\n",
       "      <td>3.220844</td>\n",
       "      <td>1626</td>\n",
       "      <td>5250.00000</td>\n",
       "      <td>True</td>\n",
       "    </tr>\n",
       "    <tr>\n",
       "      <th>31</th>\n",
       "      <td>(5500.0, 6000.0]</td>\n",
       "      <td>2.738983</td>\n",
       "      <td>1.333333</td>\n",
       "      <td>1.000000</td>\n",
       "      <td>53631.703833</td>\n",
       "      <td>2.784314</td>\n",
       "      <td>1330</td>\n",
       "      <td>5750.00000</td>\n",
       "      <td>True</td>\n",
       "    </tr>\n",
       "    <tr>\n",
       "      <th>32</th>\n",
       "      <td>(6000.0, 6500.0]</td>\n",
       "      <td>2.930796</td>\n",
       "      <td>1.080000</td>\n",
       "      <td>1.166667</td>\n",
       "      <td>62277.341630</td>\n",
       "      <td>2.888525</td>\n",
       "      <td>1287</td>\n",
       "      <td>6250.00000</td>\n",
       "      <td>True</td>\n",
       "    </tr>\n",
       "    <tr>\n",
       "      <th>33</th>\n",
       "      <td>(6500.0, 7000.0]</td>\n",
       "      <td>2.747126</td>\n",
       "      <td>1.000000</td>\n",
       "      <td>1.000000</td>\n",
       "      <td>74553.347091</td>\n",
       "      <td>2.735294</td>\n",
       "      <td>1027</td>\n",
       "      <td>6750.00000</td>\n",
       "      <td>True</td>\n",
       "    </tr>\n",
       "    <tr>\n",
       "      <th>34</th>\n",
       "      <td>(7000.0, 7500.0]</td>\n",
       "      <td>2.723577</td>\n",
       "      <td>1.050000</td>\n",
       "      <td>1.000000</td>\n",
       "      <td>60147.761612</td>\n",
       "      <td>2.736220</td>\n",
       "      <td>977</td>\n",
       "      <td>7250.00000</td>\n",
       "      <td>True</td>\n",
       "    </tr>\n",
       "    <tr>\n",
       "      <th>35</th>\n",
       "      <td>(7500.0, 8000.0]</td>\n",
       "      <td>2.586854</td>\n",
       "      <td>1.052632</td>\n",
       "      <td>1.166667</td>\n",
       "      <td>81853.308389</td>\n",
       "      <td>2.546256</td>\n",
       "      <td>856</td>\n",
       "      <td>7750.00000</td>\n",
       "      <td>True</td>\n",
       "    </tr>\n",
       "    <tr>\n",
       "      <th>36</th>\n",
       "      <td>(8000.0, 8500.0]</td>\n",
       "      <td>3.290155</td>\n",
       "      <td>1.000000</td>\n",
       "      <td>1.250000</td>\n",
       "      <td>120619.599125</td>\n",
       "      <td>3.252475</td>\n",
       "      <td>814</td>\n",
       "      <td>8250.00000</td>\n",
       "      <td>True</td>\n",
       "    </tr>\n",
       "    <tr>\n",
       "      <th>37</th>\n",
       "      <td>(8500.0, 9000.0]</td>\n",
       "      <td>2.554217</td>\n",
       "      <td>1.176471</td>\n",
       "      <td>1.000000</td>\n",
       "      <td>71410.607155</td>\n",
       "      <td>2.625731</td>\n",
       "      <td>678</td>\n",
       "      <td>8750.00000</td>\n",
       "      <td>True</td>\n",
       "    </tr>\n",
       "    <tr>\n",
       "      <th>38</th>\n",
       "      <td>(9000.0, 9500.0]</td>\n",
       "      <td>3.283133</td>\n",
       "      <td>1.142857</td>\n",
       "      <td>1.125000</td>\n",
       "      <td>114471.483995</td>\n",
       "      <td>3.305882</td>\n",
       "      <td>669</td>\n",
       "      <td>9250.00000</td>\n",
       "      <td>True</td>\n",
       "    </tr>\n",
       "    <tr>\n",
       "      <th>39</th>\n",
       "      <td>(9500.0, 10000.0]</td>\n",
       "      <td>2.727891</td>\n",
       "      <td>1.000000</td>\n",
       "      <td>1.000000</td>\n",
       "      <td>92618.217182</td>\n",
       "      <td>2.746667</td>\n",
       "      <td>517</td>\n",
       "      <td>9750.00000</td>\n",
       "      <td>True</td>\n",
       "    </tr>\n",
       "  </tbody>\n",
       "</table>\n",
       "</div>"
      ],
      "text/plain": [
       "    dollars_to_goal_binned  total_successful_after_first  \\\n",
       "0      (-10010.0, -9500.0]                      1.430000   \n",
       "1     (-9500.0, -9000.001]                      1.582090   \n",
       "2   (-9000.001, -8500.001]                      1.685714   \n",
       "3   (-8500.001, -8000.002]                      1.516667   \n",
       "4   (-8000.002, -7500.002]                      1.500000   \n",
       "5   (-7500.002, -7000.003]                      1.448718   \n",
       "6   (-7000.003, -6500.003]                      1.723684   \n",
       "7   (-6500.003, -6000.004]                      1.776316   \n",
       "8   (-6000.004, -5500.004]                      2.175926   \n",
       "9   (-5500.004, -5000.005]                      2.009709   \n",
       "10  (-5000.005, -4500.005]                      1.699074   \n",
       "11  (-4500.005, -4000.006]                      1.414966   \n",
       "12  (-4000.006, -3500.006]                      1.645503   \n",
       "13  (-3500.006, -3000.007]                      1.723529   \n",
       "14  (-3000.007, -2500.007]                      1.831325   \n",
       "15  (-2500.007, -2000.008]                      1.836735   \n",
       "16  (-2000.008, -1500.008]                      1.524715   \n",
       "17  (-1500.008, -1000.009]                      2.100671   \n",
       "18   (-1000.009, -500.009]                      2.062350   \n",
       "19     (-500.009, -0.0097]                      2.174603   \n",
       "20          (-10.0, 500.0]                      2.277791   \n",
       "21         (500.0, 1000.0]                      2.430101   \n",
       "22        (1000.0, 1500.0]                      2.636908   \n",
       "23        (1500.0, 2000.0]                      2.787170   \n",
       "24        (2000.0, 2500.0]                      2.555556   \n",
       "25        (2500.0, 3000.0]                      3.092493   \n",
       "26        (3000.0, 3500.0]                      3.037196   \n",
       "27        (3500.0, 4000.0]                      2.975518   \n",
       "28        (4000.0, 4500.0]                      2.966337   \n",
       "29        (4500.0, 5000.0]                      3.348525   \n",
       "30        (5000.0, 5500.0]                      3.204663   \n",
       "31        (5500.0, 6000.0]                      2.738983   \n",
       "32        (6000.0, 6500.0]                      2.930796   \n",
       "33        (6500.0, 7000.0]                      2.747126   \n",
       "34        (7000.0, 7500.0]                      2.723577   \n",
       "35        (7500.0, 8000.0]                      2.586854   \n",
       "36        (8000.0, 8500.0]                      3.290155   \n",
       "37        (8500.0, 9000.0]                      2.554217   \n",
       "38        (9000.0, 9500.0]                      3.283133   \n",
       "39       (9500.0, 10000.0]                      2.727891   \n",
       "\n",
       "    total_failed_after_first  total_canceled_after_first  \\\n",
       "0                   1.264706                    1.000000   \n",
       "1                   1.215385                    1.000000   \n",
       "2                   1.340909                    1.000000   \n",
       "3                   1.213333                    2.000000   \n",
       "4                   1.184211                    1.100000   \n",
       "5                   1.183206                    1.500000   \n",
       "6                   1.209302                    1.166667   \n",
       "7                   1.152174                    1.222222   \n",
       "8                   1.331288                    1.200000   \n",
       "9                   1.210145                    1.500000   \n",
       "10                  1.264529                    1.022727   \n",
       "11                  1.257310                    1.000000   \n",
       "12                  1.248927                    1.045455   \n",
       "13                  1.158590                    1.055556   \n",
       "14                  1.353474                    1.272727   \n",
       "15                  1.222874                    1.076923   \n",
       "16                  1.235925                    1.083333   \n",
       "17                  1.250000                    1.025641   \n",
       "18                  1.285714                    1.157895   \n",
       "19                  1.390940                    1.351351   \n",
       "20                  1.208475                    1.083900   \n",
       "21                  1.213389                    1.094828   \n",
       "22                  1.195402                    1.125000   \n",
       "23                  1.093750                    1.121951   \n",
       "24                  1.235849                    1.161290   \n",
       "25                  1.135802                    1.280000   \n",
       "26                  1.192982                    1.318182   \n",
       "27                  1.153846                    1.111111   \n",
       "28                  1.575000                    1.375000   \n",
       "29                  1.210526                    1.066667   \n",
       "30                  1.194444                    1.200000   \n",
       "31                  1.333333                    1.000000   \n",
       "32                  1.080000                    1.166667   \n",
       "33                  1.000000                    1.000000   \n",
       "34                  1.050000                    1.000000   \n",
       "35                  1.052632                    1.166667   \n",
       "36                  1.000000                    1.250000   \n",
       "37                  1.176471                    1.000000   \n",
       "38                  1.142857                    1.125000   \n",
       "39                  1.000000                    1.000000   \n",
       "\n",
       "    total_raised_after_first_usd  total_campaigns_after_first  n_obs  \\\n",
       "0                    9153.303169                     1.359408   6489   \n",
       "1                   15063.442336                     1.556452   1543   \n",
       "2                   15272.990063                     1.651007   1663   \n",
       "3                   12547.348780                     1.539683   1431   \n",
       "4                   12125.654115                     1.419355   2673   \n",
       "5                   12112.728009                     1.428571   2350   \n",
       "6                   21743.665896                     1.507692   2479   \n",
       "7                   10382.265634                     1.527273   2087   \n",
       "8                   16372.367188                     1.863454   3012   \n",
       "9                    9278.749772                     1.709957   2398   \n",
       "10                  11679.252307                     1.498563   8735   \n",
       "11                   9114.398823                     1.420712   3213   \n",
       "12                  12319.554576                     1.554726   4148   \n",
       "13                   9750.225999                     1.525199   4108   \n",
       "14                   7149.620874                     1.764925   5996   \n",
       "15                  15733.395443                     1.618445   5879   \n",
       "16                   7548.135406                     1.469821   6798   \n",
       "17                   9089.127315                     1.760369   6809   \n",
       "18                   7534.616606                     1.796992   9842   \n",
       "19                   5865.421594                     2.012922   9583   \n",
       "20                  15891.600047                     2.253822  74085   \n",
       "21                  21047.581284                     2.423423  21760   \n",
       "22                  28040.132300                     2.632067  11895   \n",
       "23                  41774.670272                     2.744741   7332   \n",
       "24                  47425.624731                     2.584321   5336   \n",
       "25                  61633.588541                     3.073325   3783   \n",
       "26                  54746.503238                     3.020408   3159   \n",
       "27                  69161.534605                     2.960993   2463   \n",
       "28                  73644.743162                     3.050096   2124   \n",
       "29                  75503.573583                     3.310606   1604   \n",
       "30                  77245.645644                     3.220844   1626   \n",
       "31                  53631.703833                     2.784314   1330   \n",
       "32                  62277.341630                     2.888525   1287   \n",
       "33                  74553.347091                     2.735294   1027   \n",
       "34                  60147.761612                     2.736220    977   \n",
       "35                  81853.308389                     2.546256    856   \n",
       "36                 120619.599125                     3.252475    814   \n",
       "37                  71410.607155                     2.625731    678   \n",
       "38                 114471.483995                     3.305882    669   \n",
       "39                  92618.217182                     2.746667    517   \n",
       "\n",
       "    dollars_to_goal  threshold  \n",
       "0       -9755.00000      False  \n",
       "1       -9250.00050      False  \n",
       "2       -8750.00100      False  \n",
       "3       -8250.00150      False  \n",
       "4       -7750.00200      False  \n",
       "5       -7250.00250      False  \n",
       "6       -6750.00300      False  \n",
       "7       -6250.00350      False  \n",
       "8       -5750.00400      False  \n",
       "9       -5250.00450      False  \n",
       "10      -4750.00500      False  \n",
       "11      -4250.00550      False  \n",
       "12      -3750.00600      False  \n",
       "13      -3250.00650      False  \n",
       "14      -2750.00700      False  \n",
       "15      -2250.00750      False  \n",
       "16      -1750.00800      False  \n",
       "17      -1250.00850      False  \n",
       "18       -750.00900      False  \n",
       "19       -250.00935      False  \n",
       "20        245.00000       True  \n",
       "21        750.00000       True  \n",
       "22       1250.00000       True  \n",
       "23       1750.00000       True  \n",
       "24       2250.00000       True  \n",
       "25       2750.00000       True  \n",
       "26       3250.00000       True  \n",
       "27       3750.00000       True  \n",
       "28       4250.00000       True  \n",
       "29       4750.00000       True  \n",
       "30       5250.00000       True  \n",
       "31       5750.00000       True  \n",
       "32       6250.00000       True  \n",
       "33       6750.00000       True  \n",
       "34       7250.00000       True  \n",
       "35       7750.00000       True  \n",
       "36       8250.00000       True  \n",
       "37       8750.00000       True  \n",
       "38       9250.00000       True  \n",
       "39       9750.00000       True  "
      ]
     },
     "execution_count": 13,
     "metadata": {},
     "output_type": "execute_result"
    }
   ],
   "source": [
    "plotting_df"
   ]
  },
  {
   "cell_type": "code",
   "execution_count": 14,
   "metadata": {},
   "outputs": [
    {
     "data": {
      "image/png": "[encoded data removed]",
      "text/plain": [
       "<Figure size 640x480 with 1 Axes>"
      ]
     },
     "metadata": {},
     "output_type": "display_data"
    }
   ],
   "source": [
    "# Base Plot\n",
    "plt.figure()\n",
    "plt.plot(plotting_df['dollars_to_goal'], plotting_df['total_raised_after_first_usd'], 'o')\n",
    "plt.xlabel('US Dollars to Goal')\n",
    "plt.ylabel('Total Raised After First Project (USD)', labelpad=-3)\n",
    "plt.axvline(x=0, color='red', linestyle='--', label='Threshold')\n",
    "plt.title('Total Raised (Lifetime) After First Project by US Dollars to Goal')\n",
    "\n",
    "plt.savefig('../images/total_raised_after_first_usd.png')"
   ]
  },
  {
   "cell_type": "markdown",
   "metadata": {},
   "source": [
    "# Discontinuity Analysis"
   ]
  },
  {
   "cell_type": "markdown",
   "metadata": {},
   "source": [
    "## Percent to Goal"
   ]
  },
  {
   "cell_type": "code",
   "execution_count": 15,
   "metadata": {},
   "outputs": [],
   "source": [
    "rdd_df = df.assign(threshold = (df['percent_to_goal'] > 1).astype(int)).sort_values('percent_to_goal').reset_index(drop=True)\n",
    "rdd_df['percent_to_goal*threshold'] = rdd_df['percent_to_goal'] * rdd_df['threshold']"
   ]
  },
  {
   "cell_type": "markdown",
   "metadata": {},
   "source": [
    "Naive Model"
   ]
  },
  {
   "cell_type": "code",
   "execution_count": 16,
   "metadata": {},
   "outputs": [
    {
     "data": {
      "text/html": [
       "<table class=\"simpletable\">\n",
       "<tr>\n",
       "              <td></td>                 <th>coef</th>     <th>std err</th>      <th>t</th>      <th>P>|t|</th>  <th>[0.025</th>    <th>0.975]</th>  \n",
       "</tr>\n",
       "<tr>\n",
       "  <th>Intercept</th>                 <td>    1.7095</td> <td>    0.068</td> <td>   25.080</td> <td> 0.000</td> <td>    1.576</td> <td>    1.843</td>\n",
       "</tr>\n",
       "<tr>\n",
       "  <th>percent_to_goal</th>           <td>    0.1566</td> <td>    0.187</td> <td>    0.838</td> <td> 0.402</td> <td>   -0.210</td> <td>    0.523</td>\n",
       "</tr>\n",
       "<tr>\n",
       "  <th>threshold</th>                 <td>    0.9045</td> <td>    0.072</td> <td>   12.554</td> <td> 0.000</td> <td>    0.763</td> <td>    1.046</td>\n",
       "</tr>\n",
       "<tr>\n",
       "  <th>percent_to_goal:threshold</th> <td>   -0.1558</td> <td>    0.187</td> <td>   -0.834</td> <td> 0.404</td> <td>   -0.522</td> <td>    0.210</td>\n",
       "</tr>\n",
       "</table>"
      ],
      "text/latex": [
       "\\begin{center}\n",
       "\\begin{tabular}{lcccccc}\n",
       "\\toprule\n",
       "                                     & \\textbf{coef} & \\textbf{std err} & \\textbf{t} & \\textbf{P$> |$t$|$} & \\textbf{[0.025} & \\textbf{0.975]}  \\\\\n",
       "\\midrule\n",
       "\\textbf{Intercept}                   &       1.7095  &        0.068     &    25.080  &         0.000        &        1.576    &        1.843     \\\\\n",
       "\\textbf{percent\\_to\\_goal}           &       0.1566  &        0.187     &     0.838  &         0.402        &       -0.210    &        0.523     \\\\\n",
       "\\textbf{threshold}                   &       0.9045  &        0.072     &    12.554  &         0.000        &        0.763    &        1.046     \\\\\n",
       "\\textbf{percent\\_to\\_goal:threshold} &      -0.1558  &        0.187     &    -0.834  &         0.404        &       -0.522    &        0.210     \\\\\n",
       "\\bottomrule\n",
       "\\end{tabular}\n",
       "\\end{center}"
      ],
      "text/plain": [
       "<class 'statsmodels.iolib.table.SimpleTable'>"
      ]
     },
     "execution_count": 16,
     "metadata": {},
     "output_type": "execute_result"
    }
   ],
   "source": [
    "model = smf.wls('total_successful_after_first ~ percent_to_goal + threshold + percent_to_goal*threshold', rdd_df).fit()\n",
    "\n",
    "model.summary().tables[1]"
   ]
  },
  {
   "cell_type": "code",
   "execution_count": 17,
   "metadata": {},
   "outputs": [
    {
     "ename": "TypeError",
     "evalue": "generate_plotting_df() takes 1 positional argument but 3 were given",
     "output_type": "error",
     "traceback": [
      "\u001b[1;31m---------------------------------------------------------------------------\u001b[0m",
      "\u001b[1;31mTypeError\u001b[0m                                 Traceback (most recent call last)",
      "Cell \u001b[1;32mIn[17], line 2\u001b[0m\n\u001b[0;32m      1\u001b[0m \u001b[38;5;66;03m# Remove outliers\u001b[39;00m\n\u001b[1;32m----> 2\u001b[0m plotting_df \u001b[38;5;241m=\u001b[39m \u001b[43mgenerate_plotting_df\u001b[49m\u001b[43m(\u001b[49m\u001b[38;5;124;43m'\u001b[39;49m\u001b[38;5;124;43mpercent_to_goal\u001b[39;49m\u001b[38;5;124;43m'\u001b[39;49m\u001b[43m,\u001b[49m\u001b[43m \u001b[49m\u001b[38;5;241;43m1\u001b[39;49m\u001b[43m,\u001b[49m\u001b[43m \u001b[49m\u001b[38;5;241;43m20\u001b[39;49m\u001b[43m)\u001b[49m\n\u001b[0;32m      5\u001b[0m ax \u001b[38;5;241m=\u001b[39m plotting_df\u001b[38;5;241m.\u001b[39mplot\u001b[38;5;241m.\u001b[39mscatter(x \u001b[38;5;241m=\u001b[39m \u001b[38;5;124m'\u001b[39m\u001b[38;5;124mpercent_to_goal\u001b[39m\u001b[38;5;124m'\u001b[39m, y \u001b[38;5;241m=\u001b[39m \u001b[38;5;124m'\u001b[39m\u001b[38;5;124mtotal_successful_after_first\u001b[39m\u001b[38;5;124m'\u001b[39m, color \u001b[38;5;241m=\u001b[39m \u001b[38;5;124m\"\u001b[39m\u001b[38;5;124mC0\u001b[39m\u001b[38;5;124m\"\u001b[39m)\n\u001b[0;32m      7\u001b[0m \u001b[38;5;66;03m# Convert threshold to int\u001b[39;00m\n",
      "\u001b[1;31mTypeError\u001b[0m: generate_plotting_df() takes 1 positional argument but 3 were given"
     ]
    }
   ],
   "source": [
    "# Remove outliers\n",
    "plotting_df = generate_plotting_df('percent_to_goal', 1, 20)\n",
    "\n",
    "\n",
    "ax = plotting_df.plot.scatter(x = 'percent_to_goal', y = 'total_successful_after_first', color = \"C0\")\n",
    "\n",
    "# Convert threshold to int\n",
    "plotting_df['threshold'] = plotting_df['threshold'].astype(int)\n",
    "plotting_df['percent_to_goal*threshold'] = plotting_df['percent_to_goal'] * plotting_df['threshold']\n",
    "\n",
    "exog_dict = {\"percent_to_goal\": plotting_df['percent_to_goal'].values, \"threshold\": plotting_df['threshold'].values, \"percent_to_goal*threshold\": plotting_df['percent_to_goal*threshold'].values}\n",
    "plotting_df['predictions'] = model.predict(exog_dict)\n",
    "left_plotting_df = plotting_df[plotting_df['percent_to_goal'] < 1]\n",
    "right_plotting_df = plotting_df[plotting_df['percent_to_goal'] >= 1]\n",
    "left_plotting_df.plot(x = 'percent_to_goal', y = 'predictions', color = 'C1', ax = ax)\n",
    "right_plotting_df.plot(x = 'percent_to_goal', y = 'predictions', color = 'C1', ax = ax)\n",
    "ax.axvline(x = 1, color = 'red', linestyle = '--')\n",
    "plt.title('Regression Discontinuity')"
   ]
  },
  {
   "cell_type": "markdown",
   "metadata": {},
   "source": [
    "Kernel weighted RD"
   ]
  },
  {
   "cell_type": "code",
   "execution_count": null,
   "metadata": {},
   "outputs": [],
   "source": [
    "def kernel(R, c, h):\n",
    "    indicator = (np.abs(R - c) <= h).astype(float)\n",
    "    return indicator * (1 - np.abs(R - c) / h)"
   ]
  },
  {
   "cell_type": "code",
   "execution_count": null,
   "metadata": {},
   "outputs": [],
   "source": [
    "plt.plot(sorted(rdd_df[\"percent_to_goal\"]), kernel(rdd_df[\"percent_to_goal\"], c=1, h=1))\n",
    "plt.xlabel(\"Percent to Goal\")\n",
    "plt.ylabel(\"Weight\")\n",
    "plt.xlim(-2, 4)\n",
    "plt.title(\"Kernel Weight by Goal Percentage\");"
   ]
  },
  {
   "cell_type": "code",
   "execution_count": null,
   "metadata": {},
   "outputs": [],
   "source": [
    "model = smf.wls(\"total_successful_after_first ~ percent_to_goal*threshold\", data = rdd_df, weights = kernel(rdd_df['percent_to_goal'], c=1, h=1)).fit()\n",
    "\n",
    "model.summary().tables[1]"
   ]
  },
  {
   "cell_type": "code",
   "execution_count": null,
   "metadata": {},
   "outputs": [],
   "source": [
    "ax = plotting_df.plot.scatter(x = 'percent_to_goal', y = 'total_successful_after_first', color = \"C0\")\n",
    "\n",
    "# Convert threshold to int\n",
    "plotting_df['threshold'] = plotting_df['threshold'].astype(int)\n",
    "plotting_df['percent_to_goal*threshold'] = plotting_df['percent_to_goal'] * plotting_df['threshold']\n",
    "\n",
    "exog_dict = {\"percent_to_goal\": plotting_df['percent_to_goal'].values, \"threshold\": plotting_df['threshold'].values, \"percent_to_goal*threshold\": plotting_df['percent_to_goal*threshold'].values}\n",
    "plotting_df['predictions'] = model.predict(exog_dict)\n",
    "left_plotting_df = plotting_df[plotting_df['percent_to_goal'] < 1]\n",
    "right_plotting_df = plotting_df[plotting_df['percent_to_goal'] >= 1]\n",
    "left_plotting_df.plot(x = 'percent_to_goal', y = 'predictions', color = 'C1', ax = ax)\n",
    "right_plotting_df.plot(x = 'percent_to_goal', y = 'predictions', color = 'C1', ax = ax)\n",
    "ax.axvline(x = 1, color = 'red', linestyle = '--')\n",
    "plt.title('Regression Discontinuity')"
   ]
  },
  {
   "cell_type": "code",
   "execution_count": null,
   "metadata": {},
   "outputs": [],
   "source": [
    "plt.figure(figsize=(15,15))\n",
    "\n",
    "\n",
    "exog_dict = {\"percent_to_goal\": plotting_df['percent_to_goal'].values, \"threshold\": plotting_df['threshold'].values, \"percent_to_goal*threshold\": plotting_df['percent_to_goal*threshold'].values}\n",
    "plotting_df['threshold'] = plotting_df['threshold'].astype(int)\n",
    "plotting_df['percent_to_goal*threshold'] = plotting_df['percent_to_goal'] * plotting_df['threshold']\n",
    "\n",
    "for p, cause in enumerate([\"total_successful_after_first\", \"total_failed_after_first\", \"total_canceled_after_first\", \"total_campaigns_after_first\", \"total_raised_after_first\"], 1):\n",
    "    ax = plt.subplot(5,1,p)\n",
    "    ax = plotting_df.plot.scatter(x = 'percent_to_goal', y = cause, color = \"C0\", ax = ax)\n",
    "\n",
    "    m = smf.wls(f\"{cause}~percent_to_goal*threshold\", rdd_df, weights = kernel(rdd_df['percent_to_goal'], c=1, h=1)).fit()\n",
    "    ate_pct = 100*((m.params[\"threshold\"] + m.params[\"Intercept\"])/m.params[\"Intercept\"] - 1)\n",
    "\n",
    "    plt.title(f\"Impact of Kickstarter on {cause}: {np.round(ate_pct, 2)}%\")\n",
    "    # Convert threshold to int\n",
    "\n",
    "    plotting_df['predictions'] = m.predict(exog_dict)\n",
    "    left_plotting_df = plotting_df[plotting_df['percent_to_goal'] < 1]\n",
    "    right_plotting_df = plotting_df[plotting_df['percent_to_goal'] >= 1]\n",
    "    left_plotting_df.plot(x = 'percent_to_goal', y = 'predictions', color = 'C1', ax = ax)\n",
    "    right_plotting_df.plot(x = 'percent_to_goal', y = 'predictions', color = 'C1', ax = ax)\n",
    "    ax.axvline(x = 1, color = 'red', linestyle = '--')\n",
    "    plt.title('Regression Discontinuity')\n",
    "    plt.legend()\n",
    "\n",
    "    plt.xlim(0, 2)\n",
    "    \n",
    "    \n",
    "\n",
    "plt.tight_layout()"
   ]
  },
  {
   "cell_type": "markdown",
   "metadata": {},
   "source": [
    "# Dollars to Goal"
   ]
  },
  {
   "cell_type": "markdown",
   "metadata": {},
   "source": [
    "## Data Create"
   ]
  },
  {
   "cell_type": "code",
   "execution_count": null,
   "metadata": {},
   "outputs": [],
   "source": [
    "plotting_df = generate_plotting_df(df)"
   ]
  },
  {
   "cell_type": "code",
   "execution_count": null,
   "metadata": {},
   "outputs": [],
   "source": [
    "df = df.assign(threshold = (df['dollars_to_goal'] > 1).astype(int)).sort_values('dollars_to_goal').reset_index(drop=True)\n",
    "df['dollars_to_goal*threshold'] = df['dollars_to_goal'] * df['threshold']\n",
    "\n",
    "df['dollars_to_goal_2'] = df['dollars_to_goal'] ** 2\n",
    "df['dollars_to_goal_2*threshold'] = df['dollars_to_goal_2'] * df['threshold']"
   ]
  },
  {
   "cell_type": "code",
   "execution_count": null,
   "metadata": {},
   "outputs": [],
   "source": [
    "# Create df with no NAs in successful_after_first\n",
    "ml_df = df.dropna(subset=['total_successful_after_first'])\n",
    "print(ml_df.shape)\n",
    "\n",
    "\n",
    "copy_df = df.copy()\n",
    "copy_df['total_successful_after_first'] = copy_df['total_successful_after_first'].fillna(0)\n",
    "filled_df = copy_df.dropna(subset=['total_successful_after_first'])\n",
    "print(filled_df.shape)"
   ]
  },
  {
   "cell_type": "markdown",
   "metadata": {},
   "source": [
    "## Successful after first\n"
   ]
  },
  {
   "cell_type": "markdown",
   "metadata": {},
   "source": [
    "### Base"
   ]
  },
  {
   "cell_type": "code",
   "execution_count": null,
   "metadata": {},
   "outputs": [],
   "source": [
    "# Fit the model\n",
    "X = ml_df[['dollars_to_goal', 'threshold', 'dollars_to_goal*threshold']]\n",
    "y = ml_df['total_successful_after_first']\n",
    "\n",
    "\n",
    "model = LinearRegression(fit_intercept=True).fit(X,y)\n",
    "\n",
    "\n",
    "# Print param names and coefficients\n",
    "coef_dict = {}\n",
    "for coef, feat in zip(model.coef_, model.feature_names_in_):\n",
    "    coef_dict[feat] = \"{:.10f}\".format(coef)\n",
    "\n",
    "coef_dict"
   ]
  },
  {
   "cell_type": "code",
   "execution_count": null,
   "metadata": {},
   "outputs": [],
   "source": [
    "table_model = smf.wls('total_successful_after_first ~ dollars_to_goal + threshold + dollars_to_goal*threshold', \n",
    "                data = ml_df).fit()\n",
    "\n",
    "table_model.summary()\n"
   ]
  },
  {
   "cell_type": "code",
   "execution_count": null,
   "metadata": {},
   "outputs": [],
   "source": [
    "# Remove outliers\n",
    "plt.figure()\n",
    "plt.scatter(plotting_df['dollars_to_goal'], plotting_df['total_successful_after_first'], color = \"C0\")\n",
    "\n",
    "# Create threshold and Interaction Variable\n",
    "cutoff = 0\n",
    "plotting_df['threshold'] = 0\n",
    "plotting_df.loc[plotting_df['dollars_to_goal'] > cutoff, 'threshold'] = 1\n",
    "\n",
    "# Convert threshold to int\n",
    "plotting_df['threshold'] = plotting_df['threshold'].astype(int)\n",
    "plotting_df['dollars_to_goal*threshold'] = plotting_df['dollars_to_goal'] * plotting_df['threshold']\n",
    "\n",
    "exog_dict = plotting_df[['dollars_to_goal', 'threshold', 'dollars_to_goal*threshold']]\n",
    "plotting_df['predictions'] = model.predict(exog_dict)\n",
    "left_plotting_df = plotting_df[plotting_df['dollars_to_goal'] < cutoff]\n",
    "right_plotting_df = plotting_df[plotting_df['dollars_to_goal'] >= cutoff]\n",
    "plt.plot(left_plotting_df['dollars_to_goal'], left_plotting_df['predictions'], color = 'C2', label = 'Below Cutoff')\n",
    "plt.plot(right_plotting_df['dollars_to_goal'], right_plotting_df['predictions'], color = 'C1', label = 'Above Cutoff')\n",
    "plt.legend()\n",
    "plt.axvline(x = 1, color = 'red', linestyle = '--')\n",
    "plt.ylabel('Total Successful (Lifetime)')\n",
    "plt.xlabel('USD to Goal')\n",
    "plt.title('Effect of Completing the First Campaign on Total Successful (Lifetime)')\n",
    "\n",
    "\n"
   ]
  },
  {
   "cell_type": "markdown",
   "metadata": {},
   "source": [
    "### Triangular Kernel"
   ]
  },
  {
   "cell_type": "code",
   "execution_count": null,
   "metadata": {},
   "outputs": [],
   "source": [
    "weights = Kernels.triangular_kernel(ml_df['dollars_to_goal'], c = 0, h = 10000)\n",
    "X, y = ml_df[['dollars_to_goal', 'threshold', 'dollars_to_goal*threshold']], ml_df['total_successful_after_first']\n",
    "\n",
    "model = LinearRegression(fit_intercept=True).fit(X,y, sample_weight=weights)\n",
    "\n",
    "# Print param names and coefficients\n",
    "coef_dict = {}\n",
    "for coef, feat in zip(model.coef_, model.feature_names_in_):\n",
    "    coef_dict[feat] = \"{:.10f}\".format(coef)\n",
    "\n",
    "coef_dict\n"
   ]
  },
  {
   "cell_type": "code",
   "execution_count": null,
   "metadata": {},
   "outputs": [],
   "source": [
    "cutoff = 0\n",
    "bandwidth = 10000\n",
    "weights = Kernels.triangular_kernel(ml_df['dollars_to_goal'], c = 0, h = 10000)\n",
    "\n",
    "table_model = smf.wls('total_successful_after_first ~ dollars_to_goal + threshold + dollars_to_goal*threshold', \n",
    "                data = ml_df,\n",
    "                weights = weights).fit()\n",
    "\n",
    "table_model.summary()\n",
    "\n"
   ]
  },
  {
   "cell_type": "code",
   "execution_count": null,
   "metadata": {},
   "outputs": [],
   "source": [
    "# Remove outliers\n",
    "plt.figure()\n",
    "plt.scatter(plotting_df['dollars_to_goal'], plotting_df['total_successful_after_first'], color = \"C0\")\n",
    "\n",
    "# Create threshold and Interaction Variable\n",
    "cutoff = 0\n",
    "plotting_df['threshold'] = 0\n",
    "plotting_df.loc[plotting_df['dollars_to_goal'] > cutoff, 'threshold'] = 1\n",
    "\n",
    "# Convert threshold to int\n",
    "plotting_df['threshold'] = plotting_df['threshold'].astype(int)\n",
    "plotting_df['dollars_to_goal*threshold'] = plotting_df['dollars_to_goal'] * plotting_df['threshold']\n",
    "\n",
    "exog_dict = plotting_df[['dollars_to_goal', 'threshold', 'dollars_to_goal*threshold']]\n",
    "plotting_df['predictions'] = model.predict(exog_dict)\n",
    "left_plotting_df = plotting_df[plotting_df['dollars_to_goal'] < cutoff]\n",
    "right_plotting_df = plotting_df[plotting_df['dollars_to_goal'] >= cutoff]\n",
    "plt.plot(left_plotting_df['dollars_to_goal'], left_plotting_df['predictions'], color = 'C2', label = 'Below Cutoff')\n",
    "plt.plot(right_plotting_df['dollars_to_goal'], right_plotting_df['predictions'], color = 'C1', label = 'Above Cutoff')\n",
    "plt.legend()\n",
    "plt.axvline(x = 0, color = 'red', linestyle = '--')\n",
    "plt.ylabel('Total Successful (Lifetime)')\n",
    "plt.xlabel('USD to Goal')\n",
    "plt.title('Completing the First Campaign on Total Successful (Lifetime) with Triangular Kernel')\n",
    "\n",
    "\n"
   ]
  },
  {
   "cell_type": "markdown",
   "metadata": {},
   "source": [
    "### Kernel and Controls"
   ]
  },
  {
   "cell_type": "code",
   "execution_count": null,
   "metadata": {},
   "outputs": [],
   "source": [
    "weights = Kernels.triangular_kernel(ml_df['dollars_to_goal'], c = cutoff, h = bandwidth)\n",
    "weights[weights == 0] = 1e-10\n",
    "\n",
    "all_categories = sorted(ml_df['category_name'].unique())\n",
    "\n",
    "model = smf.wls('total_successful_after_first ~ dollars_to_goal + threshold + dollars_to_goal*threshold + goal + backers_count + staff_pick + prelaunch_activated + C(category_name, levels=all_categories)', \n",
    "                data = ml_df, \n",
    "                weights = weights).fit()\n",
    "\n",
    "model.summary().tables[1]\n"
   ]
  },
  {
   "cell_type": "markdown",
   "metadata": {},
   "source": [
    "### Quadratic"
   ]
  },
  {
   "cell_type": "code",
   "execution_count": null,
   "metadata": {},
   "outputs": [],
   "source": [
    "X, y = ml_df[['dollars_to_goal', 'threshold', 'dollars_to_goal*threshold', 'dollars_to_goal_2', 'dollars_to_goal_2*threshold']], ml_df['total_successful_after_first']\n",
    "\n",
    "model = LinearRegression(fit_intercept=True).fit(X,y, sample_weight=weights)\n",
    "\n",
    "# Print param names and coefficients\n",
    "coef_dict = {}\n",
    "for coef, feat in zip(model.coef_, model.feature_names_in_):\n",
    "    coef_dict[feat] = \"{:.10f}\".format(coef)\n",
    "\n",
    "coef_dict\n"
   ]
  },
  {
   "cell_type": "code",
   "execution_count": null,
   "metadata": {},
   "outputs": [],
   "source": [
    "# Remove outliers\n",
    "plt.figure()\n",
    "plt.scatter(plotting_df['dollars_to_goal'], plotting_df['total_successful_after_first'], color = \"C0\")\n",
    "\n",
    "# Create threshold and Interaction Variable\n",
    "cutoff = 0\n",
    "plotting_df['threshold'] = 0\n",
    "plotting_df.loc[plotting_df['dollars_to_goal'] > cutoff, 'threshold'] = 1\n",
    "\n",
    "# Convert threshold to int\n",
    "plotting_df['threshold'] = plotting_df['threshold'].astype(int)\n",
    "plotting_df['dollars_to_goal*threshold'] = plotting_df['dollars_to_goal'] * plotting_df['threshold']\n",
    "plotting_df['dollars_to_goal_2'] = plotting_df['dollars_to_goal'] ** 2\n",
    "plotting_df['dollars_to_goal_2*threshold'] = plotting_df['dollars_to_goal_2'] * plotting_df['threshold']\n",
    "\n",
    "exog_dict = plotting_df[['dollars_to_goal', 'threshold', 'dollars_to_goal*threshold', 'dollars_to_goal_2', 'dollars_to_goal_2*threshold']]\n",
    "plotting_df['predictions'] = model.predict(exog_dict)\n",
    "left_plotting_df = plotting_df[plotting_df['dollars_to_goal'] < cutoff]\n",
    "right_plotting_df = plotting_df[plotting_df['dollars_to_goal'] >= cutoff]\n",
    "plt.plot(left_plotting_df['dollars_to_goal'], left_plotting_df['predictions'], color = 'C2', label = 'Below Cutoff')\n",
    "plt.plot(right_plotting_df['dollars_to_goal'], right_plotting_df['predictions'], color = 'C1', label = 'Above Cutoff')\n",
    "plt.legend()\n",
    "plt.axvline(x = 0, color = 'red', linestyle = '--')\n",
    "plt.ylabel('Total Successful (Lifetime)')\n",
    "plt.xlabel('USD to Goal')\n",
    "plt.title('Completing the First Campaign on Total Successful (Lifetime) with Triangular Kernel')\n",
    "\n",
    "\n"
   ]
  },
  {
   "cell_type": "markdown",
   "metadata": {},
   "source": [
    "## Raised after first"
   ]
  },
  {
   "cell_type": "markdown",
   "metadata": {},
   "source": [
    "### Base "
   ]
  },
  {
   "cell_type": "code",
   "execution_count": null,
   "metadata": {},
   "outputs": [],
   "source": [
    "# Create df with no NAs in successful_after_first\n",
    "ml_df = df.dropna(subset=['total_raised_after_first_usd'])\n",
    "print(ml_df.shape)\n",
    "\n",
    "\n",
    "copy_df = df.copy()\n",
    "copy_df['total_raised_after_first_usd'] = copy_df['total_raised_after_first_usd'].fillna(0)\n",
    "filled_df = copy_df.dropna(subset=['total_raised_after_first_usd'])\n",
    "print(filled_df.shape)"
   ]
  },
  {
   "cell_type": "code",
   "execution_count": null,
   "metadata": {},
   "outputs": [],
   "source": [
    "# Fit the model\n",
    "X = ml_df[['dollars_to_goal', 'threshold', 'dollars_to_goal*threshold']]\n",
    "y = ml_df['total_raised_after_first_usd']\n",
    "\n",
    "\n",
    "model = LinearRegression(fit_intercept=True).fit(X,y)\n",
    "\n",
    "\n",
    "# Print param names and coefficients\n",
    "coef_dict = {}\n",
    "for coef, feat in zip(model.coef_, model.feature_names_in_):\n",
    "    coef_dict[feat] = \"{:.10f}\".format(coef)\n",
    "\n",
    "coef_dict"
   ]
  },
  {
   "cell_type": "code",
   "execution_count": null,
   "metadata": {},
   "outputs": [],
   "source": [
    "table_model = smf.wls('total_raised_after_first_usd ~ dollars_to_goal + threshold + dollars_to_goal*threshold', \n",
    "                data = ml_df).fit()\n",
    "\n",
    "table_model.summary()\n"
   ]
  },
  {
   "cell_type": "markdown",
   "metadata": {},
   "source": [
    "### filed data"
   ]
  },
  {
   "cell_type": "code",
   "execution_count": null,
   "metadata": {},
   "outputs": [],
   "source": [
    "# Fit the model\n",
    "X = filled_df[['dollars_to_goal', 'threshold', 'dollars_to_goal*threshold']]\n",
    "y = filled_df['total_raised_after_first_usd']\n",
    "\n",
    "\n",
    "model = LinearRegression(fit_intercept=True).fit(X,y)\n",
    "\n",
    "\n",
    "# Print param names and coefficients\n",
    "coef_dict = {}\n",
    "for coef, feat in zip(model.coef_, model.feature_names_in_):\n",
    "    coef_dict[feat] = \"{:.10f}\".format(coef)\n",
    "\n",
    "coef_dict"
   ]
  },
  {
   "cell_type": "code",
   "execution_count": null,
   "metadata": {},
   "outputs": [],
   "source": [
    "table_model = smf.wls('total_raised_after_first_usd ~ dollars_to_goal + threshold + dollars_to_goal*threshold', \n",
    "                data = filled_df).fit()\n",
    "\n",
    "table_model.summary()\n"
   ]
  },
  {
   "cell_type": "code",
   "execution_count": null,
   "metadata": {},
   "outputs": [],
   "source": [
    "# Remove outliers\n",
    "plt.figure()\n",
    "plt.scatter(plotting_df['dollars_to_goal'], plotting_df['total_raised_after_first_usd'], color = \"C0\")\n",
    "\n",
    "# Create threshold and Interaction Variable\n",
    "cutoff = 0\n",
    "plotting_df['threshold'] = 0\n",
    "plotting_df.loc[plotting_df['dollars_to_goal'] > cutoff, 'threshold'] = 1\n",
    "\n",
    "# Convert threshold to int\n",
    "plotting_df['threshold'] = plotting_df['threshold'].astype(int)\n",
    "plotting_df['dollars_to_goal*threshold'] = plotting_df['dollars_to_goal'] * plotting_df['threshold']\n",
    "plotting_df['dollars_to_goal_2'] = plotting_df['dollars_to_goal'] ** 2\n",
    "plotting_df['dollars_to_goal_2*threshold'] = plotting_df['dollars_to_goal_2'] * plotting_df['threshold']\n",
    "\n",
    "exog_dict = plotting_df[['dollars_to_goal', 'threshold', 'dollars_to_goal*threshold']]\n",
    "plotting_df['predictions'] = model.predict(exog_dict)\n",
    "left_plotting_df = plotting_df[plotting_df['dollars_to_goal'] < cutoff]\n",
    "right_plotting_df = plotting_df[plotting_df['dollars_to_goal'] >= cutoff]\n",
    "plt.plot(left_plotting_df['dollars_to_goal'], left_plotting_df['predictions'], color = 'C2', label = 'Below Cutoff')\n",
    "plt.plot(right_plotting_df['dollars_to_goal'], right_plotting_df['predictions'], color = 'C1', label = 'Above Cutoff')\n",
    "plt.legend()\n",
    "plt.axvline(x = 0, color = 'red', linestyle = '--')\n",
    "plt.ylabel('Total Raised (Lifetime)')\n",
    "plt.xlabel('USD to Goal')\n",
    "plt.title('Completing the First Campaign on Total Raised (Lifetime)')\n",
    "\n",
    "\n"
   ]
  },
  {
   "cell_type": "markdown",
   "metadata": {},
   "source": [
    "### Trinagular Kernel"
   ]
  },
  {
   "cell_type": "code",
   "execution_count": null,
   "metadata": {},
   "outputs": [],
   "source": [
    "weights = Kernels.triangular_kernel(ml_df['dollars_to_goal'], c = 0, h = 10000)\n",
    "X, y = ml_df[['dollars_to_goal', 'threshold', 'dollars_to_goal*threshold']], ml_df['total_raised_after_first_usd']\n",
    "\n",
    "model = LinearRegression(fit_intercept=True).fit(X,y, sample_weight=weights)\n",
    "\n",
    "# Print param names and coefficients\n",
    "coef_dict = {}\n",
    "for coef, feat in zip(model.coef_, model.feature_names_in_):\n",
    "    coef_dict[feat] = \"{:.10f}\".format(coef)\n",
    "\n",
    "coef_dict\n"
   ]
  },
  {
   "cell_type": "code",
   "execution_count": null,
   "metadata": {},
   "outputs": [],
   "source": [
    "cutoff = 0\n",
    "bandwidth = 10000\n",
    "weights = Kernels.triangular_kernel(ml_df['dollars_to_goal'], c = 0, h = 10000)\n",
    "\n",
    "table_model = smf.wls('total_raised_after_first_usd ~ dollars_to_goal + threshold + dollars_to_goal*threshold', \n",
    "                data = ml_df,\n",
    "                weights = weights).fit()\n",
    "\n",
    "table_model.summary()\n",
    "\n"
   ]
  },
  {
   "cell_type": "code",
   "execution_count": null,
   "metadata": {},
   "outputs": [],
   "source": [
    "# Remove outliers\n",
    "plt.figure()\n",
    "plt.scatter(plotting_df['dollars_to_goal'], plotting_df['total_raised_after_first_usd'], color = \"C0\")\n",
    "\n",
    "# Create threshold and Interaction Variable\n",
    "cutoff = 0\n",
    "plotting_df['threshold'] = 0\n",
    "plotting_df.loc[plotting_df['dollars_to_goal'] > cutoff, 'threshold'] = 1\n",
    "\n",
    "# Convert threshold to int\n",
    "plotting_df['threshold'] = plotting_df['threshold'].astype(int)\n",
    "plotting_df['dollars_to_goal*threshold'] = plotting_df['dollars_to_goal'] * plotting_df['threshold']\n",
    "\n",
    "exog_dict = plotting_df[['dollars_to_goal', 'threshold', 'dollars_to_goal*threshold']]\n",
    "plotting_df['predictions'] = model.predict(exog_dict)\n",
    "left_plotting_df = plotting_df[plotting_df['dollars_to_goal'] < cutoff]\n",
    "right_plotting_df = plotting_df[plotting_df['dollars_to_goal'] >= cutoff]\n",
    "plt.plot(left_plotting_df['dollars_to_goal'], left_plotting_df['predictions'], color = 'C2', label = 'Below Cutoff')\n",
    "plt.plot(right_plotting_df['dollars_to_goal'], right_plotting_df['predictions'], color = 'C1', label = 'Above Cutoff')\n",
    "plt.legend()\n",
    "plt.axvline(x = 0, color = 'red', linestyle = '--')\n",
    "plt.ylabel('Total Raised (Lifetime)')\n",
    "plt.xlabel('USD to Goal')\n",
    "plt.title('Completing the First Campaign on Total Raised (Lifetime) with Triangular Kernel')\n",
    "\n",
    "plt.savefig('../images/all_kickstarters/total_raised_lifetime_triangular_kernel.png')\n"
   ]
  },
  {
   "cell_type": "markdown",
   "metadata": {},
   "source": [
    "# McCrary Test"
   ]
  },
  {
   "cell_type": "code",
   "execution_count": null,
   "metadata": {},
   "outputs": [],
   "source": [
    "bins = np.linspace(0, 2, 20)\n",
    "\n",
    "rdd_df['bin'] = pd.cut(rdd_df['dollars_to_goal'], bins)\n",
    "\n",
    "# Get Bin Counts\n",
    "bin_counts = rdd_df['bin'].value_counts(sort = False)\n",
    "\n",
    "# Calculate the midpoints for each bin\n",
    "midpoints = bins[:-1] + (bins[1:] - bins[:-1]) / 2\n",
    "\n",
    "# Plot the bar plot\n",
    "plt.bar(midpoints, bin_counts, width=(bins[1] - bins[0]), align='center')\n",
    "plt.xlabel('Percent to Goal')\n",
    "plt.ylabel('Count')\n",
    "plt.title('Binned Data with Midpoints')\n",
    "plt.show()\n"
   ]
  },
  {
   "cell_type": "markdown",
   "metadata": {},
   "source": [
    "# RD Analysis with Optimal Bandwidth (IK)"
   ]
  },
  {
   "cell_type": "markdown",
   "metadata": {},
   "source": [
    "Set Thresholds"
   ]
  },
  {
   "cell_type": "code",
   "execution_count": null,
   "metadata": {},
   "outputs": [],
   "source": [
    "perc_threshold = 1\n",
    "abs_threshold = 0"
   ]
  },
  {
   "cell_type": "markdown",
   "metadata": {},
   "source": [
    "Identify Optimal Bandwidth"
   ]
  },
  {
   "cell_type": "code",
   "execution_count": null,
   "metadata": {},
   "outputs": [],
   "source": [
    "bandwidth_opt_perc = rdd.optimal_bandwidth(X = rdd_df['percent_to_goal'], Y = rdd_df['total_successful_after_first'], cut=perc_threshold)\n",
    "bandwidth_opt_abs = rdd.optimal_bandwidth(X = rdd_df['dollars_to_goal'], Y = rdd_df['total_successful_after_first'], cut=abs_threshold)\n",
    "print(\"Optimal Percentage bandwidth:\", bandwidth_opt_perc)\n",
    "print(\"Optimal Absolute bandwidth:\", bandwidth_opt_abs)"
   ]
  },
  {
   "cell_type": "markdown",
   "metadata": {},
   "source": [
    "Restrict Data to Optimal Bandwidth"
   ]
  },
  {
   "cell_type": "code",
   "execution_count": null,
   "metadata": {},
   "outputs": [],
   "source": [
    "perc_rdd_df = rdd.truncated_data(rdd_df, 'percent_to_goal', bandwidth_opt_perc, cut=perc_threshold)\n",
    "\n",
    "#abs_rdd_df = rdd.truncated_data(rdd_df, 'dollars_to_goal', bandwidth_opt_abs, cut=abs_threshold)\n",
    "abs_rdd_df = rdd.truncated_data(rdd_df, 'dollars_to_goal', 10000, cut=abs_threshold)\n",
    "\n",
    "print(f\"Percentage RDD Shape: {perc_rdd_df.shape}\")\n",
    "print(f\"Absolute RDD Shape: {abs_rdd_df.shape}\")\n",
    "\n"
   ]
  },
  {
   "cell_type": "markdown",
   "metadata": {},
   "source": [
    "## Dollars to Goal"
   ]
  },
  {
   "cell_type": "code",
   "execution_count": null,
   "metadata": {},
   "outputs": [],
   "source": [
    "model = smf.wls(\"total_successful_after_first ~ dollars_to_goal*threshold\", data = abs_rdd_df, weights = kernel(abs_rdd_df['dollars_to_goal'], c=abs_threshold, h=bandwidth_opt_abs)).fit()\n",
    "\n",
    "model.summary().tables[1]\n"
   ]
  },
  {
   "cell_type": "code",
   "execution_count": null,
   "metadata": {},
   "outputs": [],
   "source": [
    "ate_pct = 100*((model.params[\"threshold\"] + model.params[\"Intercept\"])/model.params[\"Intercept\"] - 1)\n",
    "print(f\"Impact of Winning First Kickstarter on Total Successful Projects: {np.round(ate_pct, 2)}%\")"
   ]
  },
  {
   "cell_type": "markdown",
   "metadata": {},
   "source": [
    "## Percent to Goal"
   ]
  },
  {
   "cell_type": "code",
   "execution_count": null,
   "metadata": {},
   "outputs": [],
   "source": [
    "model = smf.wls(\"total_successful_after_first ~ percent_to_goal*threshold\", data = perc_rdd_df, weights = kernel(perc_rdd_df['percent_to_goal'], c=perc_threshold, h=bandwidth_opt_perc)).fit()\n",
    "\n",
    "model.summary().tables[1]\n"
   ]
  },
  {
   "cell_type": "code",
   "execution_count": null,
   "metadata": {},
   "outputs": [],
   "source": [
    "ate_pct = 100*((model.params[\"threshold\"] + model.params[\"Intercept\"])/model.params[\"Intercept\"] - 1)\n",
    "print(f\"Impact of Winning First Kickstarter on Total Successful Projects: {np.round(ate_pct, 2)}%\")"
   ]
  }
 ],
 "metadata": {
  "kernelspec": {
   "display_name": ".venv",
   "language": "python",
   "name": "python3"
  },
  "language_info": {
   "codemirror_mode": {
    "name": "ipython",
    "version": 3
   },
   "file_extension": ".py",
   "mimetype": "text/x-python",
   "name": "python",
   "nbconvert_exporter": "python",
   "pygments_lexer": "ipython3",
   "version": "3.13.0"
  }
 },
 "nbformat": 4,
 "nbformat_minor": 2
}
