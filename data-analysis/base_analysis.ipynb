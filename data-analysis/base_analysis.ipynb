{
 "cells": [
  {
   "cell_type": "markdown",
   "metadata": {},
   "source": [
    "# Analysis on Kickstarter"
   ]
  },
  {
   "cell_type": "code",
   "execution_count": null,
   "metadata": {},
   "outputs": [],
   "source": [
    "# Import Libraries\n",
    "import numpy as np\n",
    "import pandas as pd\n",
    "import matplotlib.pyplot as plt\n",
    "import seaborn as sns\n",
    "import statsmodels.formula.api as smf\n",
    "from rdd import rdd\n",
    "# Show all columns\n",
    "pd.set_option('display.max_columns', None)\n"
   ]
  },
  {
   "cell_type": "code",
   "execution_count": null,
   "metadata": {},
   "outputs": [],
   "source": [
    "# Load the data\n",
    "df = pd.read_json('../data/creator_first_project.json', lines = True)\n",
    "df.shape"
   ]
  },
  {
   "cell_type": "markdown",
   "metadata": {},
   "source": [
    "# Visualize the Data"
   ]
  },
  {
   "cell_type": "code",
   "execution_count": null,
   "metadata": {},
   "outputs": [],
   "source": [
    "# New Kickstarter Creators by Year\n",
    "df['year'] = df['launched_at'].dt.year\n",
    "df['month'] = df['launched_at'].dt.month\n",
    "\n",
    "# Plot\n",
    "plt.figure(figsize=(10,6))\n",
    "sns.countplot(data=df, x='year')\n",
    "plt.title('New Kickstarter Creators by Year')"
   ]
  },
  {
   "cell_type": "markdown",
   "metadata": {},
   "source": [
    "## Check first project statistics"
   ]
  },
  {
   "cell_type": "code",
   "execution_count": null,
   "metadata": {},
   "outputs": [],
   "source": [
    "# Convert some key statistics to integers\n",
    "df['spotlight'] = df['spotlight'].astype(int)\n",
    "\n",
    "# Replace missing with zeros for prelaunch_activated\n",
    "df['prelaunch_activated'] = df['prelaunch_activated'].fillna(0)"
   ]
  },
  {
   "cell_type": "code",
   "execution_count": null,
   "metadata": {},
   "outputs": [],
   "source": [
    "df[['goal', 'pledged', 'staff_pick', 'backers_count', 'spotlight', 'prelaunch_activated']].describe().apply(lambda s: s.apply('{0:.2f}'.format))"
   ]
  },
  {
   "cell_type": "markdown",
   "metadata": {},
   "source": [
    "Define the Discontinuity"
   ]
  },
  {
   "cell_type": "code",
   "execution_count": null,
   "metadata": {},
   "outputs": [],
   "source": [
    "# Create Discontinuity Columns\n",
    "df['percent_to_goal'] = df['pledged'] / df['goal']\n",
    "df['dollars_to_goal'] = df['pledged']  - df['goal']"
   ]
  },
  {
   "cell_type": "markdown",
   "metadata": {},
   "source": [
    "## Percent to Goal"
   ]
  },
  {
   "cell_type": "code",
   "execution_count": null,
   "metadata": {},
   "outputs": [],
   "source": [
    "# Create a plotting dataframe\n",
    "# Define the cutoff point\n",
    "cutoff_perc = 1  # Adjust this value based on your specific cutoff criteria\n",
    "\n",
    "\n",
    "def generate_plotting_df(variable, cuttoff_perc, bins):\n",
    "    # Create a copy of the DataFrame\n",
    "    plotting_df = df.copy()\n",
    "\n",
    "    # Remove outliers\n",
    "    plotting_df = plotting_df[(plotting_df[variable] <= 2) & (plotting_df[variable] > 0)]\n",
    "\n",
    "    # Split data into left and right of the cutoff\n",
    "    left_df = plotting_df[plotting_df[variable] < cutoff_perc]\n",
    "    right_df = plotting_df[plotting_df[variable] >= cutoff_perc]\n",
    "\n",
    "    # Bin each subset separately\n",
    "    left_df[f\"{variable}_binned\"] = pd.cut(left_df[variable], bins=20)\n",
    "    right_df[f\"{variable}_binned\"] = pd.cut(right_df[variable], bins=20)\n",
    "\n",
    "    # Aggregate the binned data for each subset\n",
    "    left_binned_data = left_df.groupby(f\"{variable}_binned\").agg({\n",
    "        'total_successful_after_first': 'mean',\n",
    "        'total_failed_after_first': 'mean',\n",
    "        'total_canceled_after_first': 'mean',\n",
    "        'total_raised_after_first': 'sum',\n",
    "        'total_campaigns_after_first': 'mean',\n",
    "        variable: 'size'  # Counts the number of observations in each bin\n",
    "    }).reset_index().rename(columns={variable: 'n_obs'})\n",
    "    right_binned_data = right_df.groupby(f\"{variable}_binned\").agg({\n",
    "        'total_successful_after_first': 'mean',\n",
    "        'total_failed_after_first': 'mean',\n",
    "        'total_canceled_after_first': 'mean',\n",
    "        'total_raised_after_first': 'sum',\n",
    "        'total_campaigns_after_first': 'mean',\n",
    "        variable: 'size'  # Counts the number of observations in each bin\n",
    "    }).reset_index().rename(columns={variable: 'n_obs'})\n",
    "\n",
    "    # Add a midpoint for each bin for both left and right data\n",
    "    left_binned_data[variable] = left_binned_data[f\"{variable}_binned\"].apply(lambda interval: interval.mid)\n",
    "    right_binned_data[variable] = right_binned_data[f\"{variable}_binned\"].apply(lambda interval: interval.mid)\n",
    "\n",
    "    # Combine the binned data for both sides of the cutoff\n",
    "    plotting_df = pd.concat([left_binned_data, right_binned_data], ignore_index=True)\n",
    "\n",
    "    # Add Threshold Column\n",
    "    plotting_df['threshold'] = plotting_df[variable] >= cutoff_perc\n",
    "    return plotting_df\n",
    "\n",
    "plotting_df = generate_plotting_df('percent_to_goal', cutoff_perc, 20)\n",
    "\n",
    "# Plot percent to goal on x axis and total number of projects on y axis\n",
    "plt.figure(figsize=(10,6))\n",
    "plt.xlim(0, 2)\n",
    "sns.histplot(data=plotting_df, x='percent_to_goal', weights = 'n_obs')"
   ]
  },
  {
   "cell_type": "code",
   "execution_count": null,
   "metadata": {},
   "outputs": [],
   "source": [
    "plt.figure(figsize=(15,15))\n",
    "ax = plt.subplot(5, 1, 1)\n",
    "\n",
    "sns.scatterplot(data=plotting_df, x = 'percent_to_goal', y = 'total_successful_after_first', ax = ax)\n",
    "ax.axvline(x = 1, color = 'red', linestyle = '--')\n",
    "ax.set_xlabel('')\n",
    "\n",
    "ax = plt.subplot(5, 1, 2)\n",
    "sns.scatterplot(data = plotting_df, x = 'percent_to_goal', y = 'total_failed_after_first', ax = ax)\n",
    "ax.axvline(x = 1, color = 'red', linestyle = '--')\n",
    "ax.set_xlabel('')\n",
    "\n",
    "ax = plt.subplot(5, 1, 3)\n",
    "sns.scatterplot(data = plotting_df, x = 'percent_to_goal', y = 'total_canceled_after_first', ax = ax)\n",
    "ax.axvline(x = 1, color = 'red', linestyle = '--')\n",
    "ax.set_xlabel('')\n",
    "\n",
    "ax = plt.subplot(5, 1, 4)\n",
    "sns.scatterplot(data = plotting_df, x = 'percent_to_goal', y = 'total_campaigns_after_first', ax = ax)\n",
    "ax.axvline(x = 1, color = 'red', linestyle = '--')\n",
    "ax.set_xlabel('')\n",
    "\n",
    "ax = plt.subplot(5, 1, 5)\n",
    "sns.scatterplot(data = plotting_df, x = 'percent_to_goal', y = 'total_raised_after_first', ax = ax)\n",
    "ax.axvline(x = 1, color = 'red', linestyle = '--')\n",
    "ax.set_xlabel('Percent to Goal')\n"
   ]
  },
  {
   "cell_type": "code",
   "execution_count": null,
   "metadata": {},
   "outputs": [],
   "source": [
    "plotting_df"
   ]
  },
  {
   "cell_type": "markdown",
   "metadata": {},
   "source": [
    "## Dollars to Goal"
   ]
  },
  {
   "cell_type": "code",
   "execution_count": null,
   "metadata": {},
   "outputs": [],
   "source": [
    "# Create a plotting dataframe\n",
    "# Define the cutoff point\n",
    "cutoff_abs = 0  # Adjust this value based on your specific cutoff criteria\n",
    "\n",
    "# Create a copy of the DataFrame\n",
    "plotting_df = df.copy()\n",
    "\n",
    "# Remove outliers\n",
    "plotting_df = plotting_df[(plotting_df['dollars_to_goal'] <= 10000) & (plotting_df['dollars_to_goal'] >= -10000)]\n",
    "# Split data into left and right of the cutoff\n",
    "left_df = plotting_df[(plotting_df['state'] == 'failed') & (plotting_df['dollars_to_goal'] < cutoff_abs)]\n",
    "right_df = plotting_df[(plotting_df['state'] == 'successful') & (plotting_df['dollars_to_goal'] >= cutoff_abs)]\n",
    "\n",
    "# Bin each subset separately\n",
    "left_df['dollars_to_goal_binned'] = pd.cut(left_df['dollars_to_goal'], bins=10)\n",
    "right_df['dollars_to_goal_binned'] = pd.cut(right_df['dollars_to_goal'], bins=10)\n",
    "\n",
    "# Aggregate the binned data for each subset\n",
    "left_binned_data = left_df.groupby('dollars_to_goal_binned').agg({\n",
    "    'total_successful_after_first': 'mean',\n",
    "    'total_failed_after_first': 'mean',\n",
    "    'total_canceled_after_first': 'mean',\n",
    "    'total_raised_after_first': 'sum',\n",
    "    'total_campaigns_after_first': 'mean',\n",
    "    'dollars_to_goal': 'size'  # Counts the number of observations in each bin\n",
    "}).reset_index().rename(columns={'dollars_to_goal': 'n_obs'})\n",
    "right_binned_data = right_df.groupby('dollars_to_goal_binned').agg({\n",
    "    'total_successful_after_first': 'mean',\n",
    "    'total_failed_after_first': 'mean',\n",
    "    'total_canceled_after_first': 'mean',\n",
    "    'total_raised_after_first': 'sum',\n",
    "    'total_campaigns_after_first': 'mean',\n",
    "    'dollars_to_goal': 'size'  # Counts the number of observations in each bin\n",
    "}).reset_index().rename(columns={'dollars_to_goal': 'n_obs'})\n",
    "\n",
    "# Add a midpoint for each bin for both left and right data\n",
    "left_binned_data['dollars_to_goal'] = left_binned_data['dollars_to_goal_binned'].apply(lambda interval: interval.mid)\n",
    "right_binned_data['dollars_to_goal'] = right_binned_data['dollars_to_goal_binned'].apply(lambda interval: interval.mid)\n",
    "\n",
    "# Combine the binned data for both sides of the cutoff\n",
    "plotting_df = pd.concat([left_binned_data, right_binned_data], ignore_index=True)\n",
    "\n",
    "# Add Threshold Column\n",
    "plotting_df['threshold'] = plotting_df['dollars_to_goal'] >= cutoff_abs\n",
    "\n",
    "# Plot percent to goal on x axis and total number of projects on y axis\n",
    "plt.figure(figsize=(10,6))\n",
    "plt.xlim(-10000, 10000)\n",
    "sns.histplot(data=plotting_df, x='dollars_to_goal', weights = 'n_obs', bins = 20)"
   ]
  },
  {
   "cell_type": "code",
   "execution_count": null,
   "metadata": {},
   "outputs": [],
   "source": [
    "plt.figure(figsize=(15,15))\n",
    "ax = plt.subplot(5, 1, 1)\n",
    "\n",
    "sns.scatterplot(data=plotting_df, x = 'dollars_to_goal', y = 'total_successful_after_first', ax = ax)\n",
    "ax.axvline(x = 1, color = 'red', linestyle = '--')\n",
    "ax.set_xlabel('')\n",
    "\n",
    "ax = plt.subplot(5, 1, 2)\n",
    "sns.scatterplot(data = plotting_df, x = 'dollars_to_goal', y = 'total_failed_after_first', ax = ax)\n",
    "ax.axvline(x = 1, color = 'red', linestyle = '--')\n",
    "ax.set_xlabel('')\n",
    "\n",
    "ax = plt.subplot(5, 1, 3)\n",
    "sns.scatterplot(data = plotting_df, x = 'dollars_to_goal', y = 'total_canceled_after_first', ax = ax)\n",
    "ax.axvline(x = 1, color = 'red', linestyle = '--')\n",
    "ax.set_xlabel('')\n",
    "\n",
    "ax = plt.subplot(5, 1, 4)\n",
    "sns.scatterplot(data = plotting_df, x = 'dollars_to_goal', y = 'total_campaigns_after_first', ax = ax)\n",
    "ax.axvline(x = 1, color = 'red', linestyle = '--')\n",
    "ax.set_xlabel('')\n",
    "\n",
    "ax = plt.subplot(5, 1, 5)\n",
    "sns.scatterplot(data = plotting_df, x = 'dollars_to_goal', y = 'total_raised_after_first', ax = ax)\n",
    "ax.axvline(x = 1, color = 'red', linestyle = '--')\n",
    "ax.set_xlabel('Dollars to Goal')\n"
   ]
  },
  {
   "cell_type": "code",
   "execution_count": null,
   "metadata": {},
   "outputs": [],
   "source": [
    "plotting_df"
   ]
  },
  {
   "cell_type": "markdown",
   "metadata": {},
   "source": [
    "# Discontinuity Analysis"
   ]
  },
  {
   "cell_type": "markdown",
   "metadata": {},
   "source": [
    "Kernel weighted RD"
   ]
  },
  {
   "cell_type": "code",
   "execution_count": null,
   "metadata": {},
   "outputs": [],
   "source": [
    "def kernel(R, c, h):\n",
    "    indicator = (np.abs(R - c) <= h).astype(float)\n",
    "    return indicator * (1 - np.abs(R - c) / h)"
   ]
  },
  {
   "cell_type": "markdown",
   "metadata": {},
   "source": [
    "## Percent to Goal"
   ]
  },
  {
   "cell_type": "code",
   "execution_count": null,
   "metadata": {},
   "outputs": [],
   "source": [
    "rdd_df = df.assign(threshold = (df['percent_to_goal'] > 1).astype(int)).sort_values('percent_to_goal').reset_index(drop=True)\n",
    "rdd_df['percent_to_goal*threshold'] = rdd_df['percent_to_goal'] * rdd_df['threshold']"
   ]
  },
  {
   "cell_type": "markdown",
   "metadata": {},
   "source": [
    "Naive Model"
   ]
  },
  {
   "cell_type": "code",
   "execution_count": null,
   "metadata": {},
   "outputs": [],
   "source": [
    "model = smf.wls('total_successful_after_first ~ percent_to_goal + threshold + percent_to_goal*threshold', rdd_df).fit()\n",
    "\n",
    "model.summary().tables[1]"
   ]
  },
  {
   "cell_type": "code",
   "execution_count": null,
   "metadata": {},
   "outputs": [],
   "source": [
    "# Remove outliers\n",
    "plotting_df = generate_plotting_df('percent_to_goal', 1, 20)\n",
    "\n",
    "\n",
    "ax = plotting_df.plot.scatter(x = 'percent_to_goal', y = 'total_successful_after_first', color = \"C0\")\n",
    "\n",
    "# Convert threshold to int\n",
    "plotting_df['threshold'] = plotting_df['threshold'].astype(int)\n",
    "plotting_df['percent_to_goal*threshold'] = plotting_df['percent_to_goal'] * plotting_df['threshold']\n",
    "\n",
    "exog_dict = {\"percent_to_goal\": plotting_df['percent_to_goal'].values, \"threshold\": plotting_df['threshold'].values, \"percent_to_goal*threshold\": plotting_df['percent_to_goal*threshold'].values}\n",
    "plotting_df['predictions'] = model.predict(exog_dict)\n",
    "left_plotting_df = plotting_df[plotting_df['percent_to_goal'] < 1]\n",
    "right_plotting_df = plotting_df[plotting_df['percent_to_goal'] >= 1]\n",
    "left_plotting_df.plot(x = 'percent_to_goal', y = 'predictions', color = 'C1', ax = ax)\n",
    "right_plotting_df.plot(x = 'percent_to_goal', y = 'predictions', color = 'C1', ax = ax)\n",
    "ax.axvline(x = 1, color = 'red', linestyle = '--')\n",
    "plt.title('Regression Discontinuity')"
   ]
  },
  {
   "cell_type": "markdown",
   "metadata": {},
   "source": [
    "Kernel weighted RD"
   ]
  },
  {
   "cell_type": "code",
   "execution_count": null,
   "metadata": {},
   "outputs": [],
   "source": [
    "def kernel(R, c, h):\n",
    "    indicator = (np.abs(R - c) <= h).astype(float)\n",
    "    return indicator * (1 - np.abs(R - c) / h)"
   ]
  },
  {
   "cell_type": "code",
   "execution_count": null,
   "metadata": {},
   "outputs": [],
   "source": [
    "plt.plot(sorted(rdd_df[\"percent_to_goal\"]), kernel(rdd_df[\"percent_to_goal\"], c=1, h=1))\n",
    "plt.xlabel(\"Percent to Goal\")\n",
    "plt.ylabel(\"Weight\")\n",
    "plt.xlim(-2, 4)\n",
    "plt.title(\"Kernel Weight by Goal Percentage\");"
   ]
  },
  {
   "cell_type": "code",
   "execution_count": null,
   "metadata": {},
   "outputs": [],
   "source": [
    "model = smf.wls(\"total_successful_after_first ~ percent_to_goal*threshold\", data = rdd_df, weights = kernel(rdd_df['percent_to_goal'], c=1, h=1)).fit()\n",
    "\n",
    "model.summary().tables[1]"
   ]
  },
  {
   "cell_type": "code",
   "execution_count": null,
   "metadata": {},
   "outputs": [],
   "source": [
    "ax = plotting_df.plot.scatter(x = 'percent_to_goal', y = 'total_successful_after_first', color = \"C0\")\n",
    "\n",
    "# Convert threshold to int\n",
    "plotting_df['threshold'] = plotting_df['threshold'].astype(int)\n",
    "plotting_df['percent_to_goal*threshold'] = plotting_df['percent_to_goal'] * plotting_df['threshold']\n",
    "\n",
    "exog_dict = {\"percent_to_goal\": plotting_df['percent_to_goal'].values, \"threshold\": plotting_df['threshold'].values, \"percent_to_goal*threshold\": plotting_df['percent_to_goal*threshold'].values}\n",
    "plotting_df['predictions'] = model.predict(exog_dict)\n",
    "left_plotting_df = plotting_df[plotting_df['percent_to_goal'] < 1]\n",
    "right_plotting_df = plotting_df[plotting_df['percent_to_goal'] >= 1]\n",
    "left_plotting_df.plot(x = 'percent_to_goal', y = 'predictions', color = 'C1', ax = ax)\n",
    "right_plotting_df.plot(x = 'percent_to_goal', y = 'predictions', color = 'C1', ax = ax)\n",
    "ax.axvline(x = 1, color = 'red', linestyle = '--')\n",
    "plt.title('Regression Discontinuity')"
   ]
  },
  {
   "cell_type": "code",
   "execution_count": null,
   "metadata": {},
   "outputs": [],
   "source": [
    "plt.figure(figsize=(15,15))\n",
    "\n",
    "\n",
    "exog_dict = {\"percent_to_goal\": plotting_df['percent_to_goal'].values, \"threshold\": plotting_df['threshold'].values, \"percent_to_goal*threshold\": plotting_df['percent_to_goal*threshold'].values}\n",
    "plotting_df['threshold'] = plotting_df['threshold'].astype(int)\n",
    "plotting_df['percent_to_goal*threshold'] = plotting_df['percent_to_goal'] * plotting_df['threshold']\n",
    "\n",
    "for p, cause in enumerate([\"total_successful_after_first\", \"total_failed_after_first\", \"total_canceled_after_first\", \"total_campaigns_after_first\", \"total_raised_after_first\"], 1):\n",
    "    ax = plt.subplot(5,1,p)\n",
    "    ax = plotting_df.plot.scatter(x = 'percent_to_goal', y = cause, color = \"C0\", ax = ax)\n",
    "\n",
    "    m = smf.wls(f\"{cause}~percent_to_goal*threshold\", rdd_df, weights = kernel(rdd_df['percent_to_goal'], c=1, h=1)).fit()\n",
    "    ate_pct = 100*((m.params[\"threshold\"] + m.params[\"Intercept\"])/m.params[\"Intercept\"] - 1)\n",
    "\n",
    "    plt.title(f\"Impact of Kickstarter on {cause}: {np.round(ate_pct, 2)}%\")\n",
    "    # Convert threshold to int\n",
    "\n",
    "    plotting_df['predictions'] = m.predict(exog_dict)\n",
    "    left_plotting_df = plotting_df[plotting_df['percent_to_goal'] < 1]\n",
    "    right_plotting_df = plotting_df[plotting_df['percent_to_goal'] >= 1]\n",
    "    left_plotting_df.plot(x = 'percent_to_goal', y = 'predictions', color = 'C1', ax = ax)\n",
    "    right_plotting_df.plot(x = 'percent_to_goal', y = 'predictions', color = 'C1', ax = ax)\n",
    "    ax.axvline(x = 1, color = 'red', linestyle = '--')\n",
    "    plt.title('Regression Discontinuity')\n",
    "    plt.legend()\n",
    "\n",
    "    plt.xlim(0, 2)\n",
    "    \n",
    "    \n",
    "\n",
    "plt.tight_layout()"
   ]
  },
  {
   "cell_type": "markdown",
   "metadata": {},
   "source": [
    "## Dollars to Goal"
   ]
  },
  {
   "cell_type": "code",
   "execution_count": null,
   "metadata": {},
   "outputs": [],
   "source": [
    "rdd_df = df.assign(threshold = (df['dollars_to_goal'] > 1).astype(int)).sort_values('dollars_to_goal').reset_index(drop=True)\n",
    "rdd_df['dollars_to_goal*threshold'] = rdd_df['dollars_to_goal'] * rdd_df['threshold']"
   ]
  },
  {
   "cell_type": "markdown",
   "metadata": {},
   "source": [
    "Naive Model"
   ]
  },
  {
   "cell_type": "code",
   "execution_count": null,
   "metadata": {},
   "outputs": [],
   "source": [
    "model = smf.wls('total_successful_after_first ~ dollars_to_goal + threshold + dollars_to_goal*threshold', rdd_df).fit()\n",
    "\n",
    "model.summary().tables[1]"
   ]
  },
  {
   "cell_type": "markdown",
   "metadata": {},
   "source": [
    "# McCrary Test"
   ]
  },
  {
   "cell_type": "code",
   "execution_count": null,
   "metadata": {},
   "outputs": [],
   "source": [
    "bins = np.linspace(0, 2, 20)\n",
    "\n",
    "rdd_df['bin'] = pd.cut(rdd_df['dollars_to_goal'], bins)\n",
    "\n",
    "# Get Bin Counts\n",
    "bin_counts = rdd_df['bin'].value_counts(sort = False)\n",
    "\n",
    "# Calculate the midpoints for each bin\n",
    "midpoints = bins[:-1] + (bins[1:] - bins[:-1]) / 2\n",
    "\n",
    "# Plot the bar plot\n",
    "plt.bar(midpoints, bin_counts, width=(bins[1] - bins[0]), align='center')\n",
    "plt.xlabel('Percent to Goal')\n",
    "plt.ylabel('Count')\n",
    "plt.title('Binned Data with Midpoints')\n",
    "plt.show()\n"
   ]
  },
  {
   "cell_type": "markdown",
   "metadata": {},
   "source": [
    "# RD Analysis with Optimal Bandwidth (IK)"
   ]
  },
  {
   "cell_type": "markdown",
   "metadata": {},
   "source": [
    "Set Thresholds"
   ]
  },
  {
   "cell_type": "code",
   "execution_count": null,
   "metadata": {},
   "outputs": [],
   "source": [
    "perc_threshold = 1\n",
    "abs_threshold = 0"
   ]
  },
  {
   "cell_type": "markdown",
   "metadata": {},
   "source": [
    "Identify Optimal Bandwidth"
   ]
  },
  {
   "cell_type": "code",
   "execution_count": null,
   "metadata": {},
   "outputs": [],
   "source": [
    "bandwidth_opt_perc = rdd.optimal_bandwidth(X = rdd_df['percent_to_goal'], Y = rdd_df['total_successful_after_first'], cut=perc_threshold)\n",
    "bandwidth_opt_abs = rdd.optimal_bandwidth(X = rdd_df['dollars_to_goal'], Y = rdd_df['total_successful_after_first'], cut=abs_threshold)\n",
    "print(\"Optimal Percentage bandwidth:\", bandwidth_opt_perc)\n",
    "print(\"Optimal Absolute bandwidth:\", bandwidth_opt_abs)"
   ]
  },
  {
   "cell_type": "markdown",
   "metadata": {},
   "source": [
    "Restrict Data to Optimal Bandwidth"
   ]
  },
  {
   "cell_type": "code",
   "execution_count": null,
   "metadata": {},
   "outputs": [],
   "source": [
    "perc_rdd_df = rdd.truncated_data(rdd_df, 'percent_to_goal', bandwidth_opt_perc, cut=perc_threshold)\n",
    "\n",
    "#abs_rdd_df = rdd.truncated_data(rdd_df, 'dollars_to_goal', bandwidth_opt_abs, cut=abs_threshold)\n",
    "abs_rdd_df = rdd.truncated_data(rdd_df, 'dollars_to_goal', 10000, cut=abs_threshold)\n",
    "\n",
    "print(f\"Percentage RDD Shape: {perc_rdd_df.shape}\")\n",
    "print(f\"Absolute RDD Shape: {abs_rdd_df.shape}\")\n",
    "\n"
   ]
  },
  {
   "cell_type": "markdown",
   "metadata": {},
   "source": [
    "## Dollars to Goal"
   ]
  },
  {
   "cell_type": "code",
   "execution_count": null,
   "metadata": {},
   "outputs": [],
   "source": [
    "model = smf.wls(\"total_successful_after_first ~ dollars_to_goal*threshold\", data = abs_rdd_df, weights = kernel(abs_rdd_df['dollars_to_goal'], c=abs_threshold, h=bandwidth_opt_abs)).fit()\n",
    "\n",
    "model.summary().tables[1]\n"
   ]
  },
  {
   "cell_type": "code",
   "execution_count": null,
   "metadata": {},
   "outputs": [],
   "source": [
    "ate_pct = 100*((model.params[\"threshold\"] + model.params[\"Intercept\"])/model.params[\"Intercept\"] - 1)\n",
    "print(f\"Impact of Winning First Kickstarter on Total Successful Projects: {np.round(ate_pct, 2)}%\")"
   ]
  },
  {
   "cell_type": "markdown",
   "metadata": {},
   "source": [
    "## Percent to Goal"
   ]
  },
  {
   "cell_type": "code",
   "execution_count": null,
   "metadata": {},
   "outputs": [],
   "source": [
    "model = smf.wls(\"total_successful_after_first ~ percent_to_goal*threshold\", data = perc_rdd_df, weights = kernel(perc_rdd_df['percent_to_goal'], c=perc_threshold, h=bandwidth_opt_perc)).fit()\n",
    "\n",
    "model.summary().tables[1]\n"
   ]
  },
  {
   "cell_type": "code",
   "execution_count": null,
   "metadata": {},
   "outputs": [],
   "source": [
    "ate_pct = 100*((model.params[\"threshold\"] + model.params[\"Intercept\"])/model.params[\"Intercept\"] - 1)\n",
    "print(f\"Impact of Winning First Kickstarter on Total Successful Projects: {np.round(ate_pct, 2)}%\")"
   ]
  }
 ],
 "metadata": {
  "kernelspec": {
   "display_name": ".venv",
   "language": "python",
   "name": "python3"
  },
  "language_info": {
   "codemirror_mode": {
    "name": "ipython",
    "version": 3
   },
   "file_extension": ".py",
   "mimetype": "text/x-python",
   "name": "python",
   "nbconvert_exporter": "python",
   "pygments_lexer": "ipython3",
   "version": "3.13.0"
  }
 },
 "nbformat": 4,
 "nbformat_minor": 2
}
