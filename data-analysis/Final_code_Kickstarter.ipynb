{
 "cells": [
  {
   "cell_type": "code",
   "execution_count": 1,
   "id": "39f292d7-e2cf-4ea2-a785-9a1964dad7bd",
   "metadata": {},
   "outputs": [],
   "source": [
    "import pandas as pd\n",
    "import gender_guesser.detector as gender\n",
    "import numpy as np\n",
    "from rdrobust import rdrobust,rdplot\n",
    "\n",
    "from rdd import rdd\n",
    "from sklearn.preprocessing import StandardScaler\n",
    "from sklearn.linear_model import LogisticRegression\n",
    "import scipy.stats\n",
    "#For Plotting\n",
    "import matplotlib.pyplot as plt\n",
    "import seaborn as sns\n",
    "from plotnine import *\n",
    "from binsreg import *\n",
    "import urllib.request"
   ]
  },
  {
   "cell_type": "code",
   "execution_count": 2,
   "id": "ba23f63f-c284-4ae2-bcf9-e16562791d79",
   "metadata": {},
   "outputs": [
    {
     "name": "stderr",
     "output_type": "stream",
     "text": [
      "C:\\Users\\d0tam\\AppData\\Local\\Temp\\ipykernel_25728\\3274978501.py:2: DtypeWarning: Columns (17,18) have mixed types. Specify dtype option on import or set low_memory=False.\n"
     ]
    }
   ],
   "source": [
    "'''Import Data'''\n",
    "df = pd.read_csv(r\"C:\\Users\\d0tam\\iCloudDrive\\Desktop\\Data\\test.csv\")\n",
    "\n"
   ]
  },
  {
   "cell_type": "code",
   "execution_count": 3,
   "id": "316394ca-fd27-477b-ace0-e986d9871dcc",
   "metadata": {},
   "outputs": [],
   "source": [
    "'''Useful Functions and Mappings'''\n",
    "\n",
    "currency_to_id = {currency: idx for idx, currency in enumerate(df['currency'].unique())}\n"
   ]
  },
  {
   "cell_type": "code",
   "execution_count": 4,
   "id": "32893781-eeec-4576-90e2-40b77d4a8409",
   "metadata": {},
   "outputs": [],
   "source": [
    "\n",
    "#Get probability weights\n",
    "def probability_weights(x, y):\n",
    "    test = pd.read_stata(r\"C:\\Users\\d0tam\\iCloudDrive\\Desktop\\PhD\\Research\\Kickstarter\\Robustness\\Data\\ICPSR_38050\\DS0001\\38050-0001-Data.dta\")\n",
    "\n",
    "    '''Clean ICPSR Data'''\n",
    "    def convert_dollar_to_float(dollar_str):\n",
    "        # Remove commas and dollar sign, then convert to float\n",
    "        return float(dollar_str.replace('$', '').replace(',', ''))\n",
    "\n",
    "    # Applying the conversion function to the 'dollar_amount' column\n",
    "    test['GOAL_IN_USD'] = test['GOAL_IN_USD'].apply(convert_dollar_to_float)\n",
    "    test['PLEDGED_IN_USD'] = test['PLEDGED_IN_USD'].apply(convert_dollar_to_float)\n",
    "\n",
    "    #Date Clean\n",
    "    test['LAUNCHED_DATE'] = pd.to_datetime(test['LAUNCHED_DATE'])\n",
    "    test['DEADLINE_DATE'] = pd.to_datetime(test['DEADLINE_DATE'])\n",
    "\n",
    "\n",
    "    #Sort\n",
    "    test = test.sort_values(by = ['UID','LAUNCHED_DATE']).reset_index(drop = True)\n",
    "\n",
    "\n",
    "    #Generate Regression Variables\n",
    "    test['first_kickstarter'] = test.groupby('UID').cumcount() == 0\n",
    "    test['first_kickstarter'] = test['first_kickstarter'].astype(int)\n",
    "\n",
    "\n",
    "\n",
    "    test['campaign_duration'] = (test['DEADLINE_DATE'] - test['LAUNCHED_DATE']).dt.days\n",
    "    test['year_of_launch'] = test['LAUNCHED_DATE'].dt.year\n",
    "\n",
    "\n",
    "\n",
    "    test['currency.id'] = test['PROJECT_CURRENCY'].map(currency_to_id)\n",
    "\n",
    "    \n",
    "    test = test.rename(columns = {'CATEGORY_ID':'category.id',\n",
    "                    'year_of_launch':'year',\n",
    "                    'GOAL_IN_USD':'goal',\n",
    "                    'PLEDGED_IN_USD':'pledged',\n",
    "                    'BACKERS_COUNT':'backers_count'})    \n",
    "        \n",
    "    test['backers_count'] = test['backers_count'].replace(np.nan, 0)\n",
    "    X = test[x]\n",
    "\n",
    "    Y = test[y].to_numpy().ravel()\n",
    "    \n",
    "\n",
    "\n",
    "    # Scale the features\n",
    "    scaler = StandardScaler()\n",
    "    X_train_scaled = scaler.fit_transform(X)\n",
    "\n",
    "\n",
    "    # Train a Logistic Regression model\n",
    "    logit_model = LogisticRegression()\n",
    "    logit_model.fit(X_train_scaled, Y)\n",
    "    \n",
    "    X_test = df[x]\n",
    "    X_test_scaled = scaler.transform(X_test)\n",
    "    y_probs = logit_model.predict_proba(X_test_scaled)[:, 1]  # Probabilities of class 1 (successful)\n",
    "\n",
    "    \n",
    "    return y_probs\n",
    "\n",
    "\n"
   ]
  },
  {
   "cell_type": "code",
   "execution_count": 5,
   "id": "647e5b32-23ca-448f-8137-937287c7f595",
   "metadata": {},
   "outputs": [],
   "source": [
    "\n",
    "# Define the states you want to keep\n",
    "valid_states = ['successful', 'failed', 'canceled']\n",
    "\n",
    "# Filter the DataFrame to keep only the valid states\n",
    "df = df[df['state'].isin(valid_states)]\n",
    "\n",
    "# Drop duplicates based on specific columns\n",
    "columns_to_check_duplicates = ['id', 'creator.id', 'goal', 'deadline']\n",
    "df = df.drop_duplicates(subset=columns_to_check_duplicates)\n",
    "\n",
    "'''Date Cleaning'''\n",
    "# Convert date columns to datetime\n",
    "date_columns = ['deadline', 'created_at', 'launched_at']\n",
    "df[date_columns] = df[date_columns].apply(pd.to_datetime, unit='s')\n",
    "\n"
   ]
  },
  {
   "cell_type": "code",
   "execution_count": 6,
   "id": "5e0fd9eb-de11-488a-9aa0-64bf8c2a1acd",
   "metadata": {},
   "outputs": [
    {
     "name": "stderr",
     "output_type": "stream",
     "text": [
      "C:\\Users\\d0tam\\AppData\\Local\\Temp\\ipykernel_25728\\4036975276.py:7: SettingWithCopyWarning: \n",
      "A value is trying to be set on a copy of a slice from a DataFrame.\n",
      "Try using .loc[row_indexer,col_indexer] = value instead\n",
      "\n",
      "See the caveats in the documentation: https://pandas.pydata.org/pandas-docs/stable/user_guide/indexing.html#returning-a-view-versus-a-copy\n"
     ]
    }
   ],
   "source": [
    "\n",
    "'''Sort'''\n",
    "df = df.sort_values(by=['creator.id', 'created_at']).reset_index(drop=True)\n",
    "\n",
    "\n",
    "'''Get Success Information'''\n",
    "df_duplicates_first_dropped = df[~(df['creator.id'].duplicated(keep=False) ^ df['creator.id'].duplicated())]\n",
    "df_duplicates_first_dropped['success'] = np.where((df_duplicates_first_dropped['pledged'] > df_duplicates_first_dropped['goal']) & (df_duplicates_first_dropped['state'] == 'successful'), 1, 0)\n",
    "grouped = df_duplicates_first_dropped.groupby('creator.id', as_index = False).agg({'success':'sum', 'creator.name':'count'})\n",
    "grouped['creator.name'] = grouped['creator.name']\n",
    "\n",
    "grouped2 = df_duplicates_first_dropped.groupby(['creator.id','success'], as_index = False).agg({'pledged':'sum'})\n",
    "grouped2 = grouped2[grouped2['success'] == 1]\n",
    "grouped2 = grouped2[['creator.id', 'pledged']]\n",
    "del df_duplicates_first_dropped\n",
    "\n",
    "\n",
    "\n",
    "df = pd.merge(df, grouped, left_on = 'creator.id', right_on = 'creator.id', how = 'left', suffixes=['', '_x'])\n",
    "df = pd.merge(df, grouped2, left_on = 'creator.id', right_on = 'creator.id', how = 'left', suffixes=['', '_y'])\n",
    "df['success_rate_after'] = df['success']/(df['creator.name_x'])\n",
    "df['success_ever'] = np.where(df['success'] > 0, 1, 0)\n",
    "df = df.rename(columns = {'success':'total_success', 'creator.name_x':'total_kickstarters', 'pledged_y':'total_raised_after'})\n",
    "\n",
    "del grouped, grouped2"
   ]
  },
  {
   "cell_type": "code",
   "execution_count": 7,
   "id": "aafa942d-cd27-4e0f-bc6f-2de7cf7001bd",
   "metadata": {},
   "outputs": [],
   "source": [
    "\n",
    "\n",
    "df['contribution'] = df['pledged']/df['goal']\n",
    "df['dollar_difference'] = df['pledged'] - df['goal']\n",
    "df['contribution'] = df['contribution'].replace(np.nan, 0)\n",
    "df['total_raised_after'] = df['total_raised_after'].replace(np.nan, 0)\n",
    "df['campaign_duration'] = (df['deadline'] - df['launched_at']).dt.days\n",
    "\n",
    "#Keep only the first kickstarter\n",
    "df = df.drop_duplicates(subset = 'creator.id', keep = 'first')\n",
    "\n",
    "\n",
    "\n",
    "#Remove Outliers\n",
    "df = df[(df['dollar_difference'] > -100000) & (df['dollar_difference'] < 100000)]\n"
   ]
  },
  {
   "cell_type": "code",
   "execution_count": 8,
   "id": "eba55c94-6f67-4a97-b011-fa733db6ef30",
   "metadata": {},
   "outputs": [],
   "source": [
    "\n",
    "\n",
    "\n",
    "'''Add Creator & Gender Information'''\n",
    "gd = gender.Detector()\n",
    "df['first_name'] = df['creator.name'].str.split(pat = ' ', n = 0, expand = True)[0]\n",
    "df['first_name'] = df['first_name'].astype(str)\n",
    "df['gender'] = df['first_name'].apply(str.capitalize).map(lambda x: gd.get_gender(x))\n",
    "\n",
    "\n",
    "\n",
    "\n"
   ]
  },
  {
   "cell_type": "code",
   "execution_count": 9,
   "id": "42f0136c-54df-4937-a7ec-c582e4580285",
   "metadata": {},
   "outputs": [],
   "source": [
    "\n",
    "\n",
    "\n",
    "\n",
    "'''Generate Variables for Regression'''\n",
    "df['year'] = df['deadline'].dt.year\n",
    "df['year'] = df['year'].astype(str)\n",
    "#df['staff_pick'] = np.where(df['staff_pick'] == True, 1, 0)\n",
    "\n",
    "\n",
    "df['contribution'] = df['contribution'].astype(float)\n",
    "df['total_success'] = df['total_success'].astype(int)\n"
   ]
  },
  {
   "cell_type": "code",
   "execution_count": 10,
   "id": "e4985158-9aed-4813-89ef-411316518497",
   "metadata": {},
   "outputs": [
    {
     "name": "stderr",
     "output_type": "stream",
     "text": [
      "C:\\Users\\d0tam\\AppData\\Local\\Temp\\ipykernel_25728\\923344293.py:8: FutureWarning: ChainedAssignmentError: behaviour will change in pandas 3.0!\n",
      "You are setting values through chained assignment. Currently this works in certain cases, but when using Copy-on-Write (which will become the default behaviour in pandas 3.0) this will never work to update the original DataFrame or Series, because the intermediate object on which we are setting values will behave as a copy.\n",
      "A typical example is when you are setting values in a column of a DataFrame, like:\n",
      "\n",
      "df[\"col\"][row_indexer] = value\n",
      "\n",
      "Use `df.loc[row_indexer, \"col\"] = values` instead, to perform the assignment in a single step and ensure this keeps updating the original `df`.\n",
      "\n",
      "See the caveats in the documentation: https://pandas.pydata.org/pandas-docs/stable/user_guide/indexing.html#returning-a-view-versus-a-copy\n",
      "\n",
      "C:\\Users\\d0tam\\AppData\\Local\\Temp\\ipykernel_25728\\923344293.py:8: SettingWithCopyWarning: \n",
      "A value is trying to be set on a copy of a slice from a DataFrame\n",
      "\n",
      "See the caveats in the documentation: https://pandas.pydata.org/pandas-docs/stable/user_guide/indexing.html#returning-a-view-versus-a-copy\n",
      "C:\\Users\\d0tam\\AppData\\Local\\Temp\\ipykernel_25728\\923344293.py:10: FutureWarning: ChainedAssignmentError: behaviour will change in pandas 3.0!\n",
      "You are setting values through chained assignment. Currently this works in certain cases, but when using Copy-on-Write (which will become the default behaviour in pandas 3.0) this will never work to update the original DataFrame or Series, because the intermediate object on which we are setting values will behave as a copy.\n",
      "A typical example is when you are setting values in a column of a DataFrame, like:\n",
      "\n",
      "df[\"col\"][row_indexer] = value\n",
      "\n",
      "Use `df.loc[row_indexer, \"col\"] = values` instead, to perform the assignment in a single step and ensure this keeps updating the original `df`.\n",
      "\n",
      "See the caveats in the documentation: https://pandas.pydata.org/pandas-docs/stable/user_guide/indexing.html#returning-a-view-versus-a-copy\n",
      "\n",
      "C:\\Users\\d0tam\\AppData\\Local\\Temp\\ipykernel_25728\\923344293.py:10: SettingWithCopyWarning: \n",
      "A value is trying to be set on a copy of a slice from a DataFrame\n",
      "\n",
      "See the caveats in the documentation: https://pandas.pydata.org/pandas-docs/stable/user_guide/indexing.html#returning-a-view-versus-a-copy\n"
     ]
    }
   ],
   "source": [
    "\n",
    "\n",
    "#Apply Currency id\n",
    "df['currency.id'] = df['currency'].map(currency_to_id)\n",
    "\n",
    "df = df.reset_index(drop = True)\n",
    "\n",
    "#Generate Few Important Variables\n",
    "df['male'] = 0\n",
    "df['male'][df['gender'] == 'male'] = 1\n",
    "df['female'] = 0\n",
    "df['female'][df['gender'] == 'female'] = 1\n",
    "df['company'] = 0\n",
    "df.loc[(df['gender'] != 'male') & (df['gender'] != 'female') & (df['gender'] != 'mostly_male') & (df['gender'] != 'mostly_female') & (df['gender'] != 'andy'), 'company'] = 1\n",
    "df['us'] = 0\n",
    "df.loc[df['location.country'] == 'US', 'us'] = 1\n"
   ]
  },
  {
   "cell_type": "code",
   "execution_count": 11,
   "id": "0d5bbf7f-ead3-4c04-9f49-a46da845ad28",
   "metadata": {},
   "outputs": [
    {
     "data": {
      "text/plain": [
       "Text(0.5, 1.0, 'Distribution of Entrepreneurs near Cutoff')"
      ]
     },
     "execution_count": 11,
     "metadata": {},
     "output_type": "execute_result"
    },
    {
     "data": {
      "image/png": "[encoded data removed]",
      "text/plain": [
       "<Figure size 640x480 with 1 Axes>"
      ]
     },
     "metadata": {},
     "output_type": "display_data"
    }
   ],
   "source": [
    "df1 = df[(df['dollar_difference'] > -10000) & (df['dollar_difference'] < 10000)]\n",
    "\n",
    "plt.figure()\n",
    "df1.round({\"dollar_difference\":-3}).groupby(\"dollar_difference\").size().plot.bar()\n",
    "plt.xlabel('Dollars to Cutoff')\n",
    "plt.ylabel('Count of Entrepreneurs')\n",
    "plt.title('Distribution of Entrepreneurs near Cutoff')"
   ]
  },
  {
   "cell_type": "code",
   "execution_count": 12,
   "id": "2351d60e-f6de-449f-9ee6-32090a380c6f",
   "metadata": {},
   "outputs": [
    {
     "name": "stdout",
     "output_type": "stream",
     "text": [
      "\\begin{tabular}{lllllll}\n",
      "\\toprule\n",
      "gender & US Campaigns & Dollars To Cutoff & Goal & Amount Pledged & Backers & Obs. \\\\\n",
      "\\midrule\n",
      "andy & 0.73 & -13643.02 & 14802.13 & 1159.11 & 13.48 & 1879 \\\\\n",
      "female & 0.74 & -11685.68 & 12636.12 & 950.44 & 11.92 & 31479 \\\\\n",
      "male & 0.73 & -14781.22 & 15698.49 & 917.27 & 11.87 & 89921 \\\\\n",
      "mostly_female & 0.8 & -12598.46 & 13775.31 & 1176.85 & 14.33 & 6203 \\\\\n",
      "mostly_male & 0.78 & -13623.6 & 14580.35 & 956.75 & 12.05 & 8423 \\\\\n",
      "unknown & 0.7 & -15568.53 & 17295.21 & 1726.68 & 19.92 & 50465 \\\\\n",
      "andy & 0.69 & 3728.57 & 8183.02 & 11911.58 & 143.52 & 1755 \\\\\n",
      "female & 0.71 & 2144.59 & 7689.7 & 9834.29 & 110.3 & 30655 \\\\\n",
      "male & 0.74 & 3387.9 & 8599.19 & 11987.09 & 142.14 & 51532 \\\\\n",
      "mostly_female & 0.79 & 2788.96 & 8544.68 & 11333.65 & 135.39 & 6902 \\\\\n",
      "mostly_male & 0.79 & 3027.29 & 7127.04 & 10154.32 & 139.1 & 5615 \\\\\n",
      "unknown & 0.66 & 6335.68 & 12406.96 & 18742.63 & 204.75 & 48642 \\\\\n",
      "\\bottomrule\n",
      "\\end{tabular}\n",
      "\n"
     ]
    },
    {
     "name": "stderr",
     "output_type": "stream",
     "text": [
      "C:\\Users\\d0tam\\AppData\\Local\\Temp\\ipykernel_25728\\4018596505.py:2: FutureWarning: ChainedAssignmentError: behaviour will change in pandas 3.0!\n",
      "You are setting values through chained assignment. Currently this works in certain cases, but when using Copy-on-Write (which will become the default behaviour in pandas 3.0) this will never work to update the original DataFrame or Series, because the intermediate object on which we are setting values will behave as a copy.\n",
      "A typical example is when you are setting values in a column of a DataFrame, like:\n",
      "\n",
      "df[\"col\"][row_indexer] = value\n",
      "\n",
      "Use `df.loc[row_indexer, \"col\"] = values` instead, to perform the assignment in a single step and ensure this keeps updating the original `df`.\n",
      "\n",
      "See the caveats in the documentation: https://pandas.pydata.org/pandas-docs/stable/user_guide/indexing.html#returning-a-view-versus-a-copy\n",
      "\n",
      "C:\\Users\\d0tam\\AppData\\Local\\Temp\\ipykernel_25728\\4018596505.py:2: SettingWithCopyWarning: \n",
      "A value is trying to be set on a copy of a slice from a DataFrame\n",
      "\n",
      "See the caveats in the documentation: https://pandas.pydata.org/pandas-docs/stable/user_guide/indexing.html#returning-a-view-versus-a-copy\n"
     ]
    }
   ],
   "source": [
    "df['treat'] = 0\n",
    "df['treat'].loc[df['dollar_difference'] >= 0] = 1\n",
    "gender = df.groupby(['gender', 'treat'], as_index = False).agg({'us':'mean',\n",
    "                                                                'dollar_difference':'mean',\n",
    "                                                                'goal':'mean',\n",
    "                                                                'pledged':'mean',\n",
    "                                                                'backers_count':'mean',\n",
    "                                                                'id':'count'})\n",
    "fail = gender[gender['treat'] == 0].reset_index(drop = True)\n",
    "passed = gender[gender['treat'] == 1].reset_index(drop = True)\n",
    "\n",
    "gender = pd.concat([fail, passed], axis = 0)\n",
    "gender = gender.drop('treat', axis = 1)\n",
    "gender = gender.round(2)\n",
    "gender = gender.rename(columns = {'id':'Obs.',\n",
    "                                  'us':'US Campaigns',\n",
    "                                  'dollar_difference':'Dollars To Cutoff',\n",
    "                                  'goal':'Goal',\n",
    "                                  'pledged':'Amount Pledged',\n",
    "                                  'backers_count':'Backers'})\n",
    "\n",
    "gender = gender.round(decimals=2).astype(str)\n",
    "print(gender.to_latex(index = False))\n"
   ]
  },
  {
   "cell_type": "code",
   "execution_count": 13,
   "id": "be27ff4f-8ab7-451b-b69f-a8c43488f192",
   "metadata": {},
   "outputs": [],
   "source": [
    "\n",
    "df['first_kickstarter'] = 1\n",
    "\n",
    "x = ['category.id', 'currency.id', 'campaign_duration','year', 'goal', 'pledged', 'backers_count']\n",
    "y =  ['first_kickstarter']\n",
    "df['weights'] = probability_weights(x,y)\n",
    "\n"
   ]
  },
  {
   "cell_type": "code",
   "execution_count": 14,
   "id": "3116e5ab-71a6-4489-a6e7-bdde691c4dd8",
   "metadata": {},
   "outputs": [],
   "source": [
    "'''Statistics Balance'''\n",
    "\n",
    "#df_female_1 = df.query(\"female == 1 & dollar_difference > 0\")\n",
    "#df_male_0 =  df.query(\"male == 1 & dollar_difference < 0\")\n",
    "#df = pd.concat([df_female_1, df_male_0], axis = 0)\n",
    "\n",
    "statistics = df.sort_values(by = 'dollar_difference', ignore_index = True)\n",
    "l=statistics[statistics.dollar_difference<0].dollar_difference.count()\n",
    "statistics = statistics[['us', 'company', 'male', 'female', 'campaign_duration', 'pledged','goal','weights']]\n",
    "statistics = statistics.drop(columns=['weights']).mul(statistics['weights'], axis=0)\n",
    "left = statistics[0:l]\n",
    "right = statistics[l:]\n",
    "\n",
    "\n",
    "results = pd.DataFrame(columns = ['N', 'Mean', 'Std. Dev.', 'N ', 'Mean ', 'Std. Dev. ', 'RD Effect', 'Robust p-val'])\n",
    "\n",
    "stat_left_mean = left.mean().round(2)\n",
    "stat_left_std = left.std().round(2)\n",
    "stat_left_count = left.count()\n",
    "\n",
    "stat_right_mean = right.mean().round(2)\n",
    "stat_right_std = right.std().round(2)\n",
    "stat_right_count = right.count()\n",
    "\n",
    "\n",
    "results['N'] = stat_left_count\n",
    "results['Mean'] = stat_left_mean\n",
    "results['Std. Dev.'] = stat_left_std\n",
    "\n",
    "results['N '] = stat_right_count\n",
    "results['Mean '] = stat_right_mean\n",
    "results['Std. Dev. '] = stat_right_std\n"
   ]
  },
  {
   "cell_type": "code",
   "execution_count": 15,
   "id": "f78abd82-22f9-42c4-8b21-32e4d9b45923",
   "metadata": {},
   "outputs": [
    {
     "name": "stdout",
     "output_type": "stream",
     "text": [
      "Mass points detected in the running variable.\n",
      "Mass points detected in the running variable.\n",
      "Mass points detected in the running variable.\n",
      "Mass points detected in the running variable.\n",
      "Mass points detected in the running variable.\n",
      "Mass points detected in the running variable.\n",
      "Mass points detected in the running variable.\n",
      "Call: rdrobust\n",
      "Number of Observations:                333471\n",
      "Polynomial Order Est. (p):                  1\n",
      "Polynomial Order Bias (q):                  2\n",
      "Kernel:                          Epanechnikov\n",
      "Bandwidth Selection:                   Manual\n",
      "Var-Cov Estimator:                         NN\n",
      "\n",
      "                                Left      Right\n",
      "------------------------------------------------\n",
      "Number of Observations        188370     145101\n",
      "Number of Unique Obs.          40789      40942\n",
      "Number of Effective Obs.       11562      69211\n",
      "Bandwidth Estimation             500        500\n",
      "Bandwidth Bias                   500        500\n",
      "rho (h/b)                        1.0        1.0\n",
      "\n",
      "Method             Coef.     S.E.   t-stat    P>|t|       95% CI      \n",
      "-------------------------------------------------------------------------\n",
      "Conventional     -48.594  395.655   -0.123   9.022e-01 [-824.063, 726.874]\n",
      "Robust                 -        -   -0.007   9.941e-01 [-1112.449, 1104.083]\n",
      "\n",
      "\\begin{tabular}{lllllllll}\n",
      "\\toprule\n",
      " & N & Mean & Std. Dev. & N  & Mean  & Std. Dev.  & RD Effect & Robust p-val \\\\\n",
      "\\midrule\n",
      "us & 188370 & 0.69 & 0.42 & 145101 & 0.62 & 0.41 & 0.22 & 0.83 \\\\\n",
      "company & 188370 & 0.25 & 0.42 & 145101 & 0.29 & 0.41 & 0.19 & 0.85 \\\\\n",
      "male & 188370 & 0.45 & 0.47 & 145101 & 0.31 & 0.43 & -0.18 & 0.86 \\\\\n",
      "female & 188370 & 0.16 & 0.35 & 145101 & 0.19 & 0.36 & 0.37 & 0.71 \\\\\n",
      "campaign_duration & 188370 & 34.28 & 69.23 & 145101 & 28.44 & 11.95 & 0.71 & 0.48 \\\\\n",
      "pledged & 188370 & 1072.93 & 4348.2 & 145101 & 10733.72 & 28421.95 & -0.26 & 0.8 \\\\\n",
      "goal & 188370 & 14746.48 & 20083.39 & 145101 & 7819.15 & 25389.38 & -0.12 & 0.9 \\\\\n",
      "\\bottomrule\n",
      "\\end{tabular}\n",
      "\n"
     ]
    }
   ],
   "source": [
    "\n",
    "'''Covariate Balance'''\n",
    "\n",
    "for z in statistics.columns:\n",
    "    est = rdrobust(y=statistics[z], x=df['dollar_difference'], c = 0, kernel = \"epanechnikov\", h = [500,500], p = 1)\n",
    "    results.loc[z,\"RD Effect\"] = est.t[\"t-stat.\"]['Conventional']\n",
    "    results.loc[z,\"Robust p-val\"] = est.pv.iloc[0].values[0]\n",
    "\n",
    "del stat_left_mean, stat_left_std, stat_left_count, stat_right_mean,stat_right_std,stat_right_count,left,right\n",
    "\n",
    "print(est)\n",
    "\n",
    "results['RD Effect'] = round(results['RD Effect'].astype(float),2)\n",
    "results['Robust p-val'] = round(results['Robust p-val'].astype(float),2)\n",
    "\n",
    "results = results.round(decimals=2).astype(str)\n",
    "print(results.to_latex())\n"
   ]
  },
  {
   "cell_type": "code",
   "execution_count": null,
   "id": "86306d82-c920-4273-84b4-b27e943b92f8",
   "metadata": {},
   "outputs": [],
   "source": []
  },
  {
   "cell_type": "code",
   "execution_count": 16,
   "id": "3d09f348-411a-4b17-acce-195b50d3eb58",
   "metadata": {},
   "outputs": [
    {
     "name": "stderr",
     "output_type": "stream",
     "text": [
      "C:\\Users\\d0tam\\AppData\\Local\\Temp\\ipykernel_25728\\2138675272.py:13: FutureWarning: Downcasting behavior in `replace` is deprecated and will be removed in a future version. To retain the old behavior, explicitly call `result.infer_objects(copy=False)`. To opt-in to the future behavior, set `pd.set_option('future.no_silent_downcasting', True)`\n"
     ]
    }
   ],
   "source": [
    "#Regression\n",
    "df = df.reset_index(drop = True)\n",
    "x = df['dollar_difference']\n",
    "y = df['total_kickstarters']\n",
    "#y = df['total_kickstarters']\n",
    "weights = df['weights']\n",
    "\n",
    "\n",
    "covs = df[['campaign_duration', 'us', 'category.id']]\n",
    "covs = pd.concat([covs,pd.get_dummies(covs['category.id'], prefix = 'cat',drop_first = True)], axis = 1)\n",
    "covs = covs.replace(np.nan, 'unknown')\n",
    "covs = covs.squeeze()\n",
    "covs = covs.replace({False: 0, True: 1})\n",
    "\n",
    "\n",
    "threshold = 0\n",
    "bandwidth_opt = rdd.optimal_bandwidth(y, x, cut=threshold)\n"
   ]
  },
  {
   "cell_type": "code",
   "execution_count": 17,
   "id": "9e3f9d3e-98b7-420a-a465-a4dcf548c308",
   "metadata": {},
   "outputs": [
    {
     "name": "stdout",
     "output_type": "stream",
     "text": [
      "Mass points detected in the running variable.\n",
      "Call: rdrobust\n",
      "Number of Observations:                333471\n",
      "Polynomial Order Est. (p):                  1\n",
      "Polynomial Order Bias (q):                  2\n",
      "Kernel:                            Triangular\n",
      "Bandwidth Selection:                   Manual\n",
      "Var-Cov Estimator:                         NN\n",
      "\n",
      "                                Left      Right\n",
      "------------------------------------------------\n",
      "Number of Observations        188370     145101\n",
      "Number of Unique Obs.          40789      40942\n",
      "Number of Effective Obs.      119941     131423\n",
      "Bandwidth Estimation           10000      10000\n",
      "Bandwidth Bias                 10000      10000\n",
      "rho (h/b)                        1.0        1.0\n",
      "\n",
      "Method             Coef.     S.E.   t-stat    P>|t|       95% CI      \n",
      "-------------------------------------------------------------------------\n",
      "Conventional       0.043    0.006    7.049   1.803e-12     [0.031, 0.055]\n",
      "Bias-Corrected     0.021    0.006    3.468   5.251e-04     [0.009, 0.033]\n",
      "Robust             0.021    0.008    2.812   4.923e-03     [0.006, 0.036]\n",
      "\n"
     ]
    }
   ],
   "source": [
    "print(rdrobust(y=y, x=x, c = 0, all=True, kernel = \"triangular\", h = [10000,10000], p = 1))\n",
    "#print(rdrobust(y=y, x=x, c = 0, all=True, kernel = \"epanechnikov\", p = 1))\n",
    "#print(rdrobust(y=y, x=x, c = 0, all=True, kernel = \"epanechnikov\", h = [bandwidth_opt,bandwidth_opt], p = 1))\n",
    "#print(rdrobust(y=y, x=x, c = 0, all=True, kernel = \"epanechnikov\", h = [500,500], p = 1, covs = covs, covs_drop = False))\n",
    "#print(rdrobust(y=y, x=x, c = 0, all=True, kernel = \"epanechnikov\", h = [-1000,1000], p = 1, weights=weights))\n"
   ]
  },
  {
   "cell_type": "markdown",
   "id": "d849b604-aa5b-4723-b7c5-7aa28b5015af",
   "metadata": {},
   "source": [
    "# Figures"
   ]
  },
  {
   "cell_type": "code",
   "execution_count": 19,
   "id": "40a9fdcd-66f1-48e1-b88a-160b0985ba02",
   "metadata": {},
   "outputs": [
    {
     "data": {
      "text/plain": [
       "<matplotlib.collections.PathCollection at 0x25143e880d0>"
      ]
     },
     "execution_count": 19,
     "metadata": {},
     "output_type": "execute_result"
    },
    {
     "data": {
      "image/png": "[encoded data removed]",
      "text/plain": [
       "<Figure size 1000x1000 with 1 Axes>"
      ]
     },
     "metadata": {},
     "output_type": "display_data"
    }
   ],
   "source": [
    "plot_data = df[(df['dollar_difference'] > -10000) & (df['dollar_difference'] < 10000)]\n",
    "plot_data = plot_data.groupby([''])\n",
    "plt.figure(figsize = (10,10))\n",
    "plt.scatter(plot_data['dollar_difference'], plot_data['total_raised_after'])"
   ]
  },
  {
   "cell_type": "code",
   "execution_count": null,
   "id": "95389ba1-d94f-4272-a3e8-b595f6658179",
   "metadata": {},
   "outputs": [],
   "source": []
  }
 ],
 "metadata": {
  "kernelspec": {
   "display_name": "Python 3 (ipykernel)",
   "language": "python",
   "name": "python3"
  },
  "language_info": {
   "codemirror_mode": {
    "name": "ipython",
    "version": 3
   },
   "file_extension": ".py",
   "mimetype": "text/x-python",
   "name": "python",
   "nbconvert_exporter": "python",
   "pygments_lexer": "ipython3",
   "version": "3.11.7"
  }
 },
 "nbformat": 4,
 "nbformat_minor": 5
}
