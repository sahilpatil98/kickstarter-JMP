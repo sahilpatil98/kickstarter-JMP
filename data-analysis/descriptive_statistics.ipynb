{
 "cells": [
  {
   "cell_type": "markdown",
   "metadata": {},
   "source": [
    "# Descriptive Statistics"
   ]
  },
  {
   "cell_type": "code",
   "execution_count": 1,
   "metadata": {},
   "outputs": [],
   "source": [
    "# Import Libraries\n",
    "import numpy as np\n",
    "import pandas as pd\n",
    "import matplotlib.pyplot as plt\n",
    "import seaborn as sns\n",
    "\n",
    "sns.set()\n",
    "\n",
    "pd.set_option('display.max_columns', None)\n",
    "pd.set_option('display.max_rows', None)\n",
    "\n",
    "# Show statistics in non-scientific format\n",
    "pd.options.display.float_format = '{:.2f}'.format"
   ]
  },
  {
   "cell_type": "markdown",
   "metadata": {},
   "source": [
    "## Import Data"
   ]
  },
  {
   "cell_type": "code",
   "execution_count": 2,
   "metadata": {},
   "outputs": [
    {
     "name": "stdout",
     "output_type": "stream",
     "text": [
      "(429463, 129)\n"
     ]
    }
   ],
   "source": [
    "# Load the data\n",
    "data = pd.read_json('../data/kickstarter.json', lines=True)\n",
    "print(data.shape)"
   ]
  },
  {
   "cell_type": "markdown",
   "metadata": {},
   "source": [
    "## Check number of NAs in each column"
   ]
  },
  {
   "cell_type": "code",
   "execution_count": null,
   "metadata": {},
   "outputs": [],
   "source": [
    "# Get number of na values in each column\n",
    "print(data.isna().sum())"
   ]
  },
  {
   "cell_type": "markdown",
   "metadata": {},
   "source": [
    "## Raw Data Descriptive Statistics"
   ]
  },
  {
   "cell_type": "markdown",
   "metadata": {},
   "source": [
    "### Kickstarter by creation, launch and deadline"
   ]
  },
  {
   "cell_type": "code",
   "execution_count": 3,
   "metadata": {},
   "outputs": [
    {
     "name": "stdout",
     "output_type": "stream",
     "text": [
      "First Kickstarter campaign: 2009-04-24 19:52:03\n",
      "Last Kickstarter campaign: 2024-10-09 12:55:10\n"
     ]
    }
   ],
   "source": [
    "# First Kickstarter campaign date\n",
    "first_kickstarter = data['launched_at'].min()\n",
    "last_kickstarter = data['launched_at'].max()\n",
    "\n",
    "print(f\"First Kickstarter campaign: {first_kickstarter}\")\n",
    "print(f\"Last Kickstarter campaign: {last_kickstarter}\")"
   ]
  },
  {
   "cell_type": "code",
   "execution_count": null,
   "metadata": {},
   "outputs": [],
   "source": [
    "# Show statistics of data by created year, launched year, and deadline year\n",
    "data['created_at'] = pd.to_datetime(data['created_at'], unit='s')\n",
    "data['launched_at'] = pd.to_datetime(data['launched_at'], unit='s')\n",
    "data['deadline'] = pd.to_datetime(data['deadline'], unit='s')\n",
    "\n",
    "data['created_year'] = data['created_at'].dt.year\n",
    "data['launched_year'] = data['launched_at'].dt.year\n",
    "data['deadline_year'] = data['deadline'].dt.year\n",
    "\n",
    "# Show in one dataframe\n",
    "years = pd.concat([data['created_year'].value_counts(), data['launched_year'].value_counts(), data['deadline_year'].value_counts()], axis = 1, keys=['Created Year', 'Launched Year', 'Deadline Year'])\n",
    "years.sort_index()"
   ]
  },
  {
   "cell_type": "code",
   "execution_count": null,
   "metadata": {},
   "outputs": [],
   "source": [
    "# Show in one plot\n",
    "years.sort_index().plot(kind='bar', figsize=(15, 5))\n",
    "plt.title('Number of Projects by Year')\n",
    "plt.xlabel('Year')\n",
    "plt.ylabel('Number of Projects')\n",
    "plt.show()\n",
    "\n"
   ]
  },
  {
   "cell_type": "markdown",
   "metadata": {},
   "source": [
    "### Kickstarters by Project State"
   ]
  },
  {
   "cell_type": "code",
   "execution_count": null,
   "metadata": {},
   "outputs": [],
   "source": [
    "# Get total number of projects\n",
    "total_projects = len(data)\n",
    "print(f'Total number of projects: {total_projects}')\n",
    "print('\\n')\n",
    "\n",
    "# Total number of projects by state\n",
    "projects_by_state = pd.concat([data['state'].value_counts(), data['state'].value_counts(normalize = True) * 100], axis = 1, keys=['Total', 'Percentage'])\n",
    "print(projects_by_state)"
   ]
  },
  {
   "cell_type": "markdown",
   "metadata": {},
   "source": [
    "### Kickstarters by Country"
   ]
  },
  {
   "cell_type": "code",
   "execution_count": null,
   "metadata": {},
   "outputs": [],
   "source": [
    "country_data = pd.concat([data['country'].value_counts(), data['country'].value_counts(normalize = True) * 100], axis = 1, keys=['Total', 'Percentage'])\n",
    "print(country_data)"
   ]
  },
  {
   "cell_type": "markdown",
   "metadata": {},
   "source": [
    "### Kickstarters by Category"
   ]
  },
  {
   "cell_type": "code",
   "execution_count": null,
   "metadata": {},
   "outputs": [],
   "source": [
    "data['category_name'].value_counts().sort_index()"
   ]
  },
  {
   "cell_type": "markdown",
   "metadata": {},
   "source": [
    "### Kickstarters by Dollar Goal Bins"
   ]
  },
  {
   "cell_type": "code",
   "execution_count": null,
   "metadata": {},
   "outputs": [],
   "source": [
    "data['pledged_usd_static'] = data['pledged'] * data['static_usd_rate']\n",
    "data['goal_usd_static'] = data['goal'] * data['static_usd_rate']\n",
    "\n",
    "bins = [0, 10, 100, 1000, 10000, 100000, 1000000, np.inf]\n",
    "\n",
    "data['Goal Bins (in US$)'] = pd.cut(data['goal_usd_static'], bins, labels = ['$1-$10', '$10-$100', '$100-$1k', '$1k-$10k', '$10k-$100k', '$100k-$1M', '$1M+'])\n",
    "# Also create a percentage of total in each bin\n",
    "bins = pd.concat([data['Goal Bins (in US$)'].value_counts(), data['Goal Bins (in US$)'].value_counts(normalize = True) * 100], axis = 1, keys=['Total', 'Percentage'])\n",
    "print(bins.sort_index())"
   ]
  },
  {
   "cell_type": "markdown",
   "metadata": {},
   "source": [
    "### Kickstarter by Average Duration"
   ]
  },
  {
   "cell_type": "code",
   "execution_count": null,
   "metadata": {},
   "outputs": [],
   "source": [
    "# Calculate the average duration of Kickstarter\n",
    "data['duration'] = (data['deadline'] - data['launched_at']).dt.days\n",
    "\n",
    "# Calculate the average duration of Kickstarter by state\n",
    "duration_by_state = data.groupby('category_name')['duration']\n",
    "duration_by_state = pd.concat([duration_by_state.mean(), duration_by_state.median(), duration_by_state.min(), duration_by_state.max()], axis = 1, keys=['Mean', 'Median', 'Minimum', 'Maximum'])\n",
    "print(duration_by_state)"
   ]
  },
  {
   "cell_type": "markdown",
   "metadata": {},
   "source": [
    "## First Project Descriptive Statistics"
   ]
  },
  {
   "cell_type": "code",
   "execution_count": null,
   "metadata": {},
   "outputs": [],
   "source": [
    "#Import Data\n",
    "creator_data = pd.read_json('../data/creator_first_project.json', lines = True)\n",
    "creator_data.shape"
   ]
  },
  {
   "cell_type": "markdown",
   "metadata": {},
   "source": [
    "### Creators by Launch Year"
   ]
  },
  {
   "cell_type": "code",
   "execution_count": null,
   "metadata": {},
   "outputs": [],
   "source": [
    "# Get number of creators by creation year, launch year, and deadline year\n",
    "date_columns = ['launched_at', 'created_at', 'deadline']\n",
    "creator_data[date_columns] = creator_data[date_columns].apply(pd.to_datetime, unit='s')\n",
    "\n",
    "creator_data['launched_year'] = creator_data['launched_at'].dt.year\n",
    "creator_data['created_year'] = creator_data['created_at'].dt.year\n",
    "creator_data['deadline_year'] = creator_data['deadline'].dt.year\n",
    "\n",
    "# Show in one dataframe\n",
    "years = pd.concat([creator_data['launched_year'].value_counts(), creator_data['created_year'].value_counts(), creator_data['deadline_year'].value_counts()], axis = 1, keys=['launched_year', 'created_year', 'deadline_year'])\n",
    "years.sort_index()\n"
   ]
  },
  {
   "cell_type": "markdown",
   "metadata": {},
   "source": [
    "### Creators by Project State"
   ]
  },
  {
   "cell_type": "code",
   "execution_count": null,
   "metadata": {},
   "outputs": [],
   "source": [
    "# Get total number of projects\n",
    "total_projects = len(creator_data)\n",
    "print(f'Total number of projects: {total_projects}')\n",
    "print('\\n')\n",
    "\n",
    "# Total number of projects by state\n",
    "projects_by_state = pd.concat([creator_data['state'].value_counts(), creator_data['state'].value_counts(normalize = True) * 100], axis = 1, keys=['Total', 'Percentage'])\n",
    "print(projects_by_state)"
   ]
  },
  {
   "cell_type": "markdown",
   "metadata": {},
   "source": [
    "### Creators by Country"
   ]
  },
  {
   "cell_type": "code",
   "execution_count": null,
   "metadata": {},
   "outputs": [],
   "source": [
    "country_data = pd.concat([creator_data['country'].value_counts(), creator_data['country'].value_counts(normalize = True) * 100], axis = 1, keys=['Total', 'Percentage'])\n",
    "print(country_data)"
   ]
  },
  {
   "cell_type": "markdown",
   "metadata": {},
   "source": [
    "### Creators by Category"
   ]
  },
  {
   "cell_type": "code",
   "execution_count": null,
   "metadata": {},
   "outputs": [],
   "source": [
    "category_data = pd.concat([creator_data['category_name'].value_counts(), creator_data['category_name'].value_counts(normalize = True) * 100], axis = 1, keys=['Total', 'Percentage'])\n",
    "print(category_data)"
   ]
  },
  {
   "cell_type": "markdown",
   "metadata": {},
   "source": [
    "### Creators by Dollar Goal Bins"
   ]
  },
  {
   "cell_type": "code",
   "execution_count": null,
   "metadata": {},
   "outputs": [],
   "source": [
    "creator_data['pledged_usd_static'] = creator_data['pledged'] * creator_data['static_usd_rate']\n",
    "creator_data['goal_usd_static'] = creator_data['goal'] * creator_data['static_usd_rate']\n",
    "\n",
    "bins = [0, 10, 100, 1000, 10000, 100000, 1000000, np.inf]\n",
    "\n",
    "creator_data['Goal Bins (in US$)'] = pd.cut(creator_data['goal_usd_static'], bins, labels = ['$1-$10', '$10-$100', '$100-$1k', '$1k-$10k', '$10k-$100k', '$100k-$1M', '$1M+'])\n",
    "# Also create a percentage of total in each bin\n",
    "bins = pd.concat([creator_data['Goal Bins (in US$)'].value_counts(), creator_data['Goal Bins (in US$)'].value_counts(normalize = True) * 100], axis = 1, keys=['Total', 'Percentage'])\n",
    "print(bins.sort_index())"
   ]
  },
  {
   "cell_type": "markdown",
   "metadata": {},
   "source": [
    "### Creators by Average Duration"
   ]
  },
  {
   "cell_type": "code",
   "execution_count": null,
   "metadata": {},
   "outputs": [],
   "source": [
    "# Calculate the average duration of Kickstarter\n",
    "creator_data['duration'] = (creator_data['deadline'] - creator_data['launched_at']).dt.days\n",
    "\n",
    "# Calculate the average duration of Kickstarter by state\n",
    "duration_by_state = creator_data.groupby('category_name')['duration']\n",
    "duration_by_state = pd.concat([duration_by_state.mean(), duration_by_state.median(), duration_by_state.min(), duration_by_state.max()], axis = 1, keys=['Mean', 'Median', 'Minimum', 'Maximum'])\n",
    "print(duration_by_state)"
   ]
  },
  {
   "cell_type": "markdown",
   "metadata": {},
   "source": [
    "## Regression Discontinuity Descriptive Statistics"
   ]
  },
  {
   "cell_type": "markdown",
   "metadata": {},
   "source": [
    "Create Running and Treated Variables"
   ]
  },
  {
   "cell_type": "code",
   "execution_count": null,
   "metadata": {},
   "outputs": [],
   "source": [
    "# Create Running Variable\n",
    "creator_data['dollars_to_goal'] = creator_data['goal_usd_static'] - creator_data['pledged_usd_static']\n",
    "\n",
    "# Create Treated Variable\n",
    "creator_data['treated'] = 0\n",
    "creator_data.loc[creator_data['dollars_to_goal'] >= 0, 'treated'] = 1"
   ]
  },
  {
   "cell_type": "markdown",
   "metadata": {},
   "source": [
    "Create Dummy for Country"
   ]
  },
  {
   "cell_type": "code",
   "execution_count": null,
   "metadata": {},
   "outputs": [],
   "source": [
    "# Create US Dummy Variable\n",
    "creator_data['us'] = 0\n",
    "creator_data.loc[creator_data['country'] == 'US', 'us'] = 1\n"
   ]
  },
  {
   "cell_type": "markdown",
   "metadata": {},
   "source": [
    "Fill NAs for Staff Pick"
   ]
  },
  {
   "cell_type": "code",
   "execution_count": null,
   "metadata": {},
   "outputs": [],
   "source": [
    "# Replace NAs in staff pick with 0\n",
    "creator_data['staff_pick'] = creator_data['staff_pick'].fillna(0)"
   ]
  },
  {
   "cell_type": "markdown",
   "metadata": {},
   "source": [
    "Variables for Summary Statistics"
   ]
  },
  {
   "cell_type": "code",
   "execution_count": null,
   "metadata": {},
   "outputs": [],
   "source": [
    "sum_vars = ['us', 'staff_pick', 'backers_count', 'duration', 'goal_usd_static', 'pledged_usd_static']"
   ]
  },
  {
   "cell_type": "markdown",
   "metadata": {},
   "source": [
    "## Summary Statistics by Treated"
   ]
  },
  {
   "cell_type": "markdown",
   "metadata": {},
   "source": [
    "### Treated vs Control Statistics"
   ]
  },
  {
   "cell_type": "code",
   "execution_count": null,
   "metadata": {},
   "outputs": [],
   "source": [
    "treated_statistics = creator_data.groupby('treated')[sum_vars].agg({'count', 'mean', 'std', 'median'}).T\n",
    "treated_statistics"
   ]
  },
  {
   "cell_type": "markdown",
   "metadata": {},
   "source": [
    "### Distribution of Goal Amount by Treated"
   ]
  },
  {
   "cell_type": "code",
   "execution_count": null,
   "metadata": {},
   "outputs": [],
   "source": [
    "# Loop through each bin and create a separate plot\n",
    "for bin_range in creator_data['Goal Bins (in US$)'].unique():\n",
    "    bin_data = creator_data[creator_data['Goal Bins (in US$)'] == bin_range]\n",
    "    \n",
    "    # Plot distribution of Goal Amount by Treated for the current bin\n",
    "    plt.figure(figsize=(8, 6))\n",
    "    sns.histplot(data=bin_data, x='goal_usd_static', hue='treated', bins=10, kde=False)\n",
    "    plt.title(f'Distribution of Goal Amount by Treated: {bin_range}')\n",
    "    plt.xlabel('Goal Amount (in US$)')\n",
    "    plt.ylabel('Number of Projects')\n",
    "    plt.show()"
   ]
  },
  {
   "cell_type": "markdown",
   "metadata": {},
   "source": [
    "### Distribution of Entrpreneurs near cutoff"
   ]
  },
  {
   "cell_type": "code",
   "execution_count": null,
   "metadata": {},
   "outputs": [],
   "source": [
    "creator_data['dollars_to_goal_usd'] = creator_data['pledged_usd_static'] - creator_data['goal_usd_static']"
   ]
  },
  {
   "cell_type": "code",
   "execution_count": null,
   "metadata": {},
   "outputs": [],
   "source": [
    "# Define bins\n",
    "dollars_to_goal_bins = [-np.inf, -1000000, -100000, -10000, 10000, 100000, 1000000, np.inf]\n",
    "creator_data['Dollars to Goal Bins (in US$)'] = pd.cut(\n",
    "    creator_data['dollars_to_goal_usd'], \n",
    "    dollars_to_goal_bins, \n",
    "    labels=['-1M+', '-1M-$100k', '-$100k-$10k', '-$10k-$10k', '$10k-$100k', '$100k-$1M', '$1M+']\n",
    ")\n",
    "\n",
    "duration_bins = [0, 30, 60, 90, np.inf]\n",
    "creator_data['Duration Bins'] = pd.cut(\n",
    "    creator_data['duration'], \n",
    "    duration_bins, \n",
    "    labels=['0-30', '30-60', '60-90', '90+']\n",
    ")\n",
    "\n",
    "# Create a figure and subplots\n",
    "num_bins = len(dollars_to_goal_bins) - 1  # Number of bins\n",
    "fig, axes = plt.subplots(4, 2, figsize=(15, 20))  # Create a grid of subplots\n",
    "axes = axes.flatten()  # Flatten the 2D array of axes for easier indexing\n",
    "\n",
    "# Loop through each bin and plot\n",
    "for i, bin_range in enumerate(creator_data['Dollars to Goal Bins (in US$)'].unique().sort_values()):\n",
    "    bin_data = creator_data[creator_data['Dollars to Goal Bins (in US$)'] == bin_range]\n",
    "    \n",
    "    # Plot on the corresponding subplot\n",
    "    sns.histplot(\n",
    "        data=bin_data, \n",
    "        x='dollars_to_goal_usd', \n",
    "        bins=20, \n",
    "        kde=False, \n",
    "        hue='Goal Bins (in US$)', \n",
    "        multiple='stack', \n",
    "        ax=axes[i]\n",
    "    )\n",
    "    axes[i].set_title(f'Distribution of Dollars to Goal: {bin_range}')\n",
    "    axes[i].set_xlabel('Dollars to Goal Amount (in US$)')\n",
    "    axes[i].set_ylabel('Number of Projects')\n",
    "\n",
    "# Adjust layout\n",
    "plt.tight_layout()\n",
    "plt.show()"
   ]
  }
 ],
 "metadata": {
  "kernelspec": {
   "display_name": ".venv",
   "language": "python",
   "name": "python3"
  },
  "language_info": {
   "codemirror_mode": {
    "name": "ipython",
    "version": 3
   },
   "file_extension": ".py",
   "mimetype": "text/x-python",
   "name": "python",
   "nbconvert_exporter": "python",
   "pygments_lexer": "ipython3",
   "version": "3.13.0"
  }
 },
 "nbformat": 4,
 "nbformat_minor": 2
}
