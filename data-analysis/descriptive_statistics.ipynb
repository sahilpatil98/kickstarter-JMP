{
 "cells": [
  {
   "cell_type": "markdown",
   "metadata": {},
   "source": [
    "# Descriptive Statistics"
   ]
  },
  {
   "cell_type": "code",
   "execution_count": 1,
   "metadata": {},
   "outputs": [],
   "source": [
    "# Import Libraries\n",
    "import numpy as np\n",
    "import pandas as pd\n",
    "import matplotlib.pyplot as plt\n",
    "import seaborn as sns\n",
    "\n",
    "sns.set()\n",
    "\n",
    "pd.set_option('display.max_columns', None)\n",
    "pd.set_option('display.max_rows', None)"
   ]
  },
  {
   "cell_type": "markdown",
   "metadata": {},
   "source": [
    "## Import Data"
   ]
  },
  {
   "cell_type": "code",
   "execution_count": null,
   "metadata": {},
   "outputs": [],
   "source": [
    "# Load the data\n",
    "data = pd.read_json('../data/kickstarter.json', lines=True)\n",
    "print(data.shape)"
   ]
  },
  {
   "cell_type": "markdown",
   "metadata": {},
   "source": [
    "## Data Cleaning"
   ]
  },
  {
   "cell_type": "code",
   "execution_count": null,
   "metadata": {},
   "outputs": [],
   "source": [
    "# Keeping the last instance based on state_changed_at column\n",
    "data = data.sort_values(by = ['id', 'creator_id', 'launched_at']).reset_index(drop = True)\n",
    "data.head()"
   ]
  },
  {
   "cell_type": "markdown",
   "metadata": {},
   "source": [
    "## Check number of NAs in each column"
   ]
  },
  {
   "cell_type": "code",
   "execution_count": null,
   "metadata": {},
   "outputs": [],
   "source": [
    "# Get number of na values in each column\n",
    "print(data.isna().sum())"
   ]
  },
  {
   "cell_type": "code",
   "execution_count": null,
   "metadata": {},
   "outputs": [],
   "source": [
    "print(data.columns.tolist())"
   ]
  },
  {
   "cell_type": "markdown",
   "metadata": {},
   "source": [
    "## Raw Data Descriptive Statistics"
   ]
  },
  {
   "cell_type": "markdown",
   "metadata": {},
   "source": [
    "### Kickstarter by creation, launch and deadline"
   ]
  },
  {
   "cell_type": "code",
   "execution_count": null,
   "metadata": {},
   "outputs": [],
   "source": [
    "# Show statistics of data by created year, launched year, and deadline year\n",
    "data['created_at'] = pd.to_datetime(data['created_at'], unit='s')\n",
    "data['launched_at'] = pd.to_datetime(data['launched_at'], unit='s')\n",
    "data['deadline'] = pd.to_datetime(data['deadline'], unit='s')\n",
    "\n",
    "data['created_year'] = data['created_at'].dt.year\n",
    "data['launched_year'] = data['launched_at'].dt.year\n",
    "data['deadline_year'] = data['deadline'].dt.year\n",
    "\n",
    "# Show in one dataframe\n",
    "years = pd.concat([data['created_year'].value_counts(), data['launched_year'].value_counts(), data['deadline_year'].value_counts()], axis = 1, keys=['Created Year', 'Launched Year', 'Deadline Year'])\n",
    "years.sort_index()"
   ]
  },
  {
   "cell_type": "code",
   "execution_count": null,
   "metadata": {},
   "outputs": [],
   "source": [
    "# Show in one plot\n",
    "years.sort_index().plot(kind='bar', figsize=(15, 5))\n",
    "plt.title('Number of Projects by Year')\n",
    "plt.xlabel('Year')\n",
    "plt.ylabel('Number of Projects')\n",
    "plt.show()\n",
    "\n"
   ]
  },
  {
   "cell_type": "markdown",
   "metadata": {},
   "source": [
    "### Kickstarters by Project State"
   ]
  },
  {
   "cell_type": "code",
   "execution_count": null,
   "metadata": {},
   "outputs": [],
   "source": [
    "# Get total number of projects\n",
    "total_projects = len(data)\n",
    "print(f'Total number of projects: {total_projects}')\n",
    "print('\\n')\n",
    "\n",
    "# Total number of projects by state\n",
    "projects_by_state = pd.concat([data['state'].value_counts(), data['state'].value_counts(normalize = True) * 100], axis = 1, keys=['Total', 'Percentage'])\n",
    "print(projects_by_state)"
   ]
  },
  {
   "cell_type": "markdown",
   "metadata": {},
   "source": [
    "### Kickstarters by Country"
   ]
  },
  {
   "cell_type": "code",
   "execution_count": null,
   "metadata": {},
   "outputs": [],
   "source": [
    "country_data = pd.concat([data['country'].value_counts(), data['country'].value_counts(normalize = True) * 100], axis = 1, keys=['Total', 'Percentage'])\n",
    "print(country_data)"
   ]
  },
  {
   "cell_type": "markdown",
   "metadata": {},
   "source": [
    "### Kickstarters by Category"
   ]
  },
  {
   "cell_type": "code",
   "execution_count": null,
   "metadata": {},
   "outputs": [],
   "source": [
    "data['category_name'].value_counts().sort_index()"
   ]
  },
  {
   "cell_type": "markdown",
   "metadata": {},
   "source": [
    "### Kickstarters by Dollar Goal Bins"
   ]
  },
  {
   "cell_type": "code",
   "execution_count": null,
   "metadata": {},
   "outputs": [],
   "source": [
    "data['pledged_usd_static'] = data['pledged'] * data['static_usd_rate']\n",
    "data['goal_usd_static'] = data['goal'] * data['static_usd_rate']\n",
    "\n",
    "bins = [0, 10, 100, 1000, 10000, 100000, 1000000, np.inf]\n",
    "\n",
    "data['Goal Bins (in US$)'] = pd.cut(data['goal_usd_static'], bins, labels = ['$1-$10', '$10-$100', '$100-$1k', '$1k-$10k', '$10k-$100k', '$100k-$1M', '$1M+'])\n",
    "# Also create a percentage of total in each bin\n",
    "bins = pd.concat([data['Goal Bins (in US$)'].value_counts(), data['Goal Bins (in US$)'].value_counts(normalize = True) * 100], axis = 1, keys=['Total', 'Percentage'])\n",
    "print(bins.sort_index())"
   ]
  },
  {
   "cell_type": "markdown",
   "metadata": {},
   "source": [
    "### Kickstarter by Average Duration"
   ]
  },
  {
   "cell_type": "code",
   "execution_count": null,
   "metadata": {},
   "outputs": [],
   "source": [
    "# Calculate the average duration of Kickstarter\n",
    "data['duration'] = (data['deadline'] - data['launched_at']).dt.days\n",
    "\n",
    "# Calculate the average duration of Kickstarter by state\n",
    "duration_by_state = data.groupby('category_name')['duration']\n",
    "duration_by_state = pd.concat([duration_by_state.mean(), duration_by_state.median(), duration_by_state.min(), duration_by_state.max()], axis = 1, keys=['Mean', 'Median', 'Minimum', 'Maximum'])\n",
    "print(duration_by_state)"
   ]
  },
  {
   "cell_type": "markdown",
   "metadata": {},
   "source": [
    "## First Project Descriptive Statistics"
   ]
  },
  {
   "cell_type": "code",
   "execution_count": 4,
   "metadata": {},
   "outputs": [
    {
     "data": {
      "text/plain": [
       "(328652, 147)"
      ]
     },
     "execution_count": 4,
     "metadata": {},
     "output_type": "execute_result"
    }
   ],
   "source": [
    "#Import Data\n",
    "creator_data = pd.read_json('../data/creator_first_project.json', lines = True)\n",
    "creator_data.shape"
   ]
  },
  {
   "cell_type": "markdown",
   "metadata": {},
   "source": [
    "### Creators by Launch Year"
   ]
  },
  {
   "cell_type": "code",
   "execution_count": 6,
   "metadata": {},
   "outputs": [
    {
     "data": {
      "text/html": [
       "<div>\n",
       "<style scoped>\n",
       "    .dataframe tbody tr th:only-of-type {\n",
       "        vertical-align: middle;\n",
       "    }\n",
       "\n",
       "    .dataframe tbody tr th {\n",
       "        vertical-align: top;\n",
       "    }\n",
       "\n",
       "    .dataframe thead th {\n",
       "        text-align: right;\n",
       "    }\n",
       "</style>\n",
       "<table border=\"1\" class=\"dataframe\">\n",
       "  <thead>\n",
       "    <tr style=\"text-align: right;\">\n",
       "      <th></th>\n",
       "      <th>launched_year</th>\n",
       "      <th>created_year</th>\n",
       "      <th>deadline_year</th>\n",
       "    </tr>\n",
       "  </thead>\n",
       "  <tbody>\n",
       "    <tr>\n",
       "      <th>2009</th>\n",
       "      <td>883</td>\n",
       "      <td>990</td>\n",
       "      <td>597</td>\n",
       "    </tr>\n",
       "    <tr>\n",
       "      <th>2010</th>\n",
       "      <td>6701</td>\n",
       "      <td>7079</td>\n",
       "      <td>5821</td>\n",
       "    </tr>\n",
       "    <tr>\n",
       "      <th>2011</th>\n",
       "      <td>15222</td>\n",
       "      <td>16183</td>\n",
       "      <td>14650</td>\n",
       "    </tr>\n",
       "    <tr>\n",
       "      <th>2012</th>\n",
       "      <td>23981</td>\n",
       "      <td>26112</td>\n",
       "      <td>24291</td>\n",
       "    </tr>\n",
       "    <tr>\n",
       "      <th>2013</th>\n",
       "      <td>24627</td>\n",
       "      <td>25848</td>\n",
       "      <td>24320</td>\n",
       "    </tr>\n",
       "    <tr>\n",
       "      <th>2014</th>\n",
       "      <td>40799</td>\n",
       "      <td>42282</td>\n",
       "      <td>39580</td>\n",
       "    </tr>\n",
       "    <tr>\n",
       "      <th>2015</th>\n",
       "      <td>47474</td>\n",
       "      <td>45742</td>\n",
       "      <td>47803</td>\n",
       "    </tr>\n",
       "    <tr>\n",
       "      <th>2016</th>\n",
       "      <td>32062</td>\n",
       "      <td>31205</td>\n",
       "      <td>32578</td>\n",
       "    </tr>\n",
       "    <tr>\n",
       "      <th>2017</th>\n",
       "      <td>27566</td>\n",
       "      <td>27064</td>\n",
       "      <td>27969</td>\n",
       "    </tr>\n",
       "    <tr>\n",
       "      <th>2018</th>\n",
       "      <td>22108</td>\n",
       "      <td>21860</td>\n",
       "      <td>22405</td>\n",
       "    </tr>\n",
       "    <tr>\n",
       "      <th>2019</th>\n",
       "      <td>19996</td>\n",
       "      <td>19478</td>\n",
       "      <td>20030</td>\n",
       "    </tr>\n",
       "    <tr>\n",
       "      <th>2020</th>\n",
       "      <td>17331</td>\n",
       "      <td>17494</td>\n",
       "      <td>17364</td>\n",
       "    </tr>\n",
       "    <tr>\n",
       "      <th>2021</th>\n",
       "      <td>15001</td>\n",
       "      <td>14633</td>\n",
       "      <td>15358</td>\n",
       "    </tr>\n",
       "    <tr>\n",
       "      <th>2022</th>\n",
       "      <td>12771</td>\n",
       "      <td>12474</td>\n",
       "      <td>12878</td>\n",
       "    </tr>\n",
       "    <tr>\n",
       "      <th>2023</th>\n",
       "      <td>12982</td>\n",
       "      <td>12719</td>\n",
       "      <td>13000</td>\n",
       "    </tr>\n",
       "    <tr>\n",
       "      <th>2024</th>\n",
       "      <td>9148</td>\n",
       "      <td>7489</td>\n",
       "      <td>10008</td>\n",
       "    </tr>\n",
       "  </tbody>\n",
       "</table>\n",
       "</div>"
      ],
      "text/plain": [
       "      launched_year  created_year  deadline_year\n",
       "2009            883           990            597\n",
       "2010           6701          7079           5821\n",
       "2011          15222         16183          14650\n",
       "2012          23981         26112          24291\n",
       "2013          24627         25848          24320\n",
       "2014          40799         42282          39580\n",
       "2015          47474         45742          47803\n",
       "2016          32062         31205          32578\n",
       "2017          27566         27064          27969\n",
       "2018          22108         21860          22405\n",
       "2019          19996         19478          20030\n",
       "2020          17331         17494          17364\n",
       "2021          15001         14633          15358\n",
       "2022          12771         12474          12878\n",
       "2023          12982         12719          13000\n",
       "2024           9148          7489          10008"
      ]
     },
     "execution_count": 6,
     "metadata": {},
     "output_type": "execute_result"
    }
   ],
   "source": [
    "# Get number of creators by creation year, launch year, and deadline year\n",
    "date_columns = ['launched_at', 'created_at', 'deadline']\n",
    "creator_data[date_columns] = creator_data[date_columns].apply(pd.to_datetime, unit='s')\n",
    "\n",
    "creator_data['launched_year'] = creator_data['launched_at'].dt.year\n",
    "creator_data['created_year'] = creator_data['created_at'].dt.year\n",
    "creator_data['deadline_year'] = creator_data['deadline'].dt.year\n",
    "\n",
    "# Show in one dataframe\n",
    "years = pd.concat([creator_data['launched_year'].value_counts(), creator_data['created_year'].value_counts(), creator_data['deadline_year'].value_counts()], axis = 1, keys=['launched_year', 'created_year', 'deadline_year'])\n",
    "years.sort_index()\n"
   ]
  },
  {
   "cell_type": "markdown",
   "metadata": {},
   "source": [
    "### Creators by Project State"
   ]
  },
  {
   "cell_type": "code",
   "execution_count": 7,
   "metadata": {},
   "outputs": [
    {
     "name": "stdout",
     "output_type": "stream",
     "text": [
      "Total number of projects: 328652\n",
      "\n",
      "\n",
      "             Total  Percentage\n",
      "state                         \n",
      "successful  163258   49.675036\n",
      "failed      147189   44.785670\n",
      "canceled     18205    5.539294\n"
     ]
    }
   ],
   "source": [
    "# Get total number of projects\n",
    "total_projects = len(creator_data)\n",
    "print(f'Total number of projects: {total_projects}')\n",
    "print('\\n')\n",
    "\n",
    "# Total number of projects by state\n",
    "projects_by_state = pd.concat([creator_data['state'].value_counts(), creator_data['state'].value_counts(normalize = True) * 100], axis = 1, keys=['Total', 'Percentage'])\n",
    "print(projects_by_state)"
   ]
  },
  {
   "cell_type": "markdown",
   "metadata": {},
   "source": [
    "### Creators by Country"
   ]
  },
  {
   "cell_type": "code",
   "execution_count": 8,
   "metadata": {},
   "outputs": [
    {
     "name": "stdout",
     "output_type": "stream",
     "text": [
      "          Total  Percentage\n",
      "country                    \n",
      "US       231796   70.529314\n",
      "GB        33178   10.095177\n",
      "CA        14704    4.474033\n",
      "AU         7654    2.328907\n",
      "DE         5772    1.756265\n",
      "FR         4655    1.416392\n",
      "IT         4257    1.295291\n",
      "MX         4179    1.271558\n",
      "ES         3741    1.138286\n",
      "HK         2963    0.901562\n",
      "NL         2800    0.851965\n",
      "SE         2131    0.648406\n",
      "DK         1381    0.420201\n",
      "NZ         1341    0.408030\n",
      "JP         1323    0.402553\n",
      "SG         1316    0.400424\n",
      "CH         1159    0.352653\n",
      "IE          960    0.292102\n",
      "BE          916    0.278714\n",
      "AT          838    0.254981\n",
      "NO          721    0.219381\n",
      "PL          464    0.141183\n",
      "GR          239    0.072721\n",
      "LU           93    0.028297\n",
      "SI           71    0.021603\n"
     ]
    }
   ],
   "source": [
    "country_data = pd.concat([creator_data['country'].value_counts(), creator_data['country'].value_counts(normalize = True) * 100], axis = 1, keys=['Total', 'Percentage'])\n",
    "print(country_data)"
   ]
  },
  {
   "cell_type": "markdown",
   "metadata": {},
   "source": [
    "### Creators by Category"
   ]
  },
  {
   "cell_type": "code",
   "execution_count": 11,
   "metadata": {},
   "outputs": [
    {
     "name": "stdout",
     "output_type": "stream",
     "text": [
      "                    Total  Percentage\n",
      "category_name                        \n",
      "Product Design      12382    3.767511\n",
      "Apps                 9627    2.929238\n",
      "Tabletop Games       9532    2.900332\n",
      "Apparel              8587    2.612794\n",
      "Shorts               8082    2.459136\n",
      "Fiction              8069    2.455181\n",
      "Video Games          8018    2.439663\n",
      "Children's Books     7511    2.285396\n",
      "Nonfiction           7024    2.137215\n",
      "Documentary          6556    1.994815\n",
      "Web                  6420    1.953434\n",
      "Rock                 6012    1.829291\n",
      "Webseries            5381    1.637294\n",
      "Indie Rock           5237    1.593479\n",
      "Narrative Film       4854    1.476942\n",
      "Country & Folk       4828    1.469031\n",
      "Accessories          4676    1.422782\n",
      "Illustration         4659    1.417609\n",
      "Hardware             4651    1.415175\n",
      "Gadgets              4561    1.387790\n",
      "Hip-Hop              4385    1.334238\n",
      "Restaurants          4153    1.263647\n",
      "Software             3956    1.203705\n",
      "Pop                  3907    1.188795\n",
      "Music                3836    1.167192\n",
      "Comic Books          3744    1.139199\n",
      "Drinks               3717    1.130984\n",
      "Art                  3701    1.126115\n",
      "Playing Cards        3665    1.115161\n",
      "Painting             3638    1.106946\n",
      "Theater              3559    1.082908\n",
      "Comedy               3546    1.078953\n",
      "Drama                3546    1.078953\n",
      "Animation            3511    1.068303\n",
      "Mobile Games         3466    1.054611\n",
      "Food                 3381    1.028748\n",
      "Mixed Media          3318    1.009579\n",
      "Public Art           3103    0.944160\n",
      "Art Books            3067    0.933206\n",
      "Crafts               2767    0.841924\n",
      "Classical Music      2743    0.834621\n",
      "Photography          2728    0.830057\n",
      "Small Batch          2553    0.776810\n",
      "Electronic Music     2528    0.769203\n",
      "Food Trucks          2498    0.760074\n",
      "Digital Art          2452    0.746078\n",
      "World Music          2416    0.735124\n",
      "Graphic Novels       2416    0.735124\n",
      "Photobooks           2316    0.704697\n",
      "Fashion              2278    0.693134\n",
      "Performance Art      2277    0.692830\n",
      "Comics               2196    0.668184\n",
      "Horror               2102    0.639582\n",
      "Sculpture            2078    0.632280\n",
      "Jazz                 2077    0.631975\n",
      "Graphic Design       2011    0.611893\n",
      "Wearables            1881    0.572338\n",
      "Dance                1870    0.568991\n",
      "Jewelry              1849    0.562601\n",
      "Poetry               1832    0.557429\n",
      "Plays                1763    0.536434\n",
      "DIY                  1722    0.523958\n",
      "Journalism           1709    0.520003\n",
      "Farms                1602    0.487446\n",
      "Footwear             1554    0.472841\n",
      "Faith                1500    0.456410\n",
      "Live Games           1489    0.453063\n",
      "Technology           1427    0.434198\n",
      "Academic             1405    0.427504\n",
      "Television           1402    0.426591\n",
      "Radio & Podcasts     1398    0.425374\n",
      "Woodworking          1389    0.422635\n",
      "Ready-to-wear        1385    0.421418\n",
      "Publishing           1374    0.418071\n",
      "Young Adult          1371    0.417159\n",
      "Periodicals          1354    0.411986\n",
      "People               1323    0.402553\n",
      "Spaces               1296    0.394338\n",
      "Film & Video         1283    0.390383\n",
      "Experimental         1252    0.380950\n",
      "Thrillers            1203    0.366041\n",
      "Conceptual Art       1180    0.359042\n",
      "Anthologies          1165    0.354478\n",
      "Musical              1154    0.351131\n",
      "Vegan                1154    0.351131\n",
      "Design               1119    0.340482\n",
      "DIY Electronics      1091    0.331962\n",
      "Performances         1089    0.331354\n",
      "Science Fiction      1077    0.327702\n",
      "Action               1063    0.323442\n",
      "Festivals            1009    0.307012\n",
      "Architecture         1000    0.304273\n",
      "Sound                 993    0.302143\n",
      "Events                993    0.302143\n",
      "Print                 978    0.297579\n",
      "Music Videos          972    0.295754\n",
      "Metal                 967    0.294232\n",
      "3D Printing           965    0.293624\n",
      "Webcomics             924    0.281148\n",
      "Fine Art              823    0.250417\n",
      "Toys                  819    0.249200\n",
      "Places                811    0.246766\n",
      "Cookbooks             793    0.241289\n",
      "Robots                782    0.237942\n",
      "Candles               757    0.230335\n",
      "Childrenswear         746    0.226988\n",
      "R&B                   733    0.223032\n",
      "Installations         698    0.212383\n",
      "Zines                 692    0.210557\n",
      "Gaming Hardware       686    0.208731\n",
      "Nature                684    0.208123\n",
      "Camera Equipment      591    0.179825\n",
      "Audio                 581    0.176783\n",
      "Interactive Design    576    0.175261\n",
      "Fantasy               571    0.173740\n",
      "Farmer's Markets      554    0.168567\n",
      "Video                 529    0.160961\n",
      "Ceramics              512    0.155788\n",
      "Textiles              496    0.150920\n",
      "Games                 491    0.149398\n",
      "Puzzles               489    0.148790\n",
      "Calendars             487    0.148181\n",
      "Family                472    0.143617\n",
      "Flight                457    0.139053\n",
      "Immersive             455    0.138444\n",
      "Stationery            442    0.134489\n",
      "Movie Theaters        433    0.131750\n",
      "Literary Journals     424    0.129012\n",
      "Punk                  419    0.127490\n",
      "Couture               402    0.122318\n",
      "Printing              389    0.118362\n",
      "Space Exploration     384    0.116841\n",
      "Civic Design          381    0.115928\n",
      "Kids                  374    0.113798\n",
      "Blues                 369    0.112277\n",
      "Fabrication Tools     365    0.111060\n",
      "Community Gardens     362    0.110147\n",
      "Makerspaces           347    0.105583\n",
      "Romance               322    0.097976\n",
      "Video Art             314    0.095542\n",
      "Animals               280    0.085196\n",
      "Pet Fashion           261    0.079415\n",
      "Literary Spaces       260    0.079111\n",
      "Social Practice       257    0.078198\n",
      "Knitting              254    0.077285\n",
      "Latin                 244    0.074243\n",
      "Translations          235    0.071504\n",
      "Photo                 226    0.068766\n",
      "Pottery               221    0.067244\n",
      "Crochet               208    0.063289\n",
      "Bacon                 206    0.062680\n",
      "Workshops             191    0.058116\n",
      "Glass                 186    0.056595\n",
      "Embroidery            185    0.056291\n",
      "Typography            135    0.041077\n",
      "Weaving               125    0.038034\n",
      "Quilts                111    0.033774\n",
      "Letterpress           101    0.030732\n",
      "Residencies            75    0.022820\n",
      "Chiptune               39    0.011867\n",
      "Taxidermy              12    0.003651\n"
     ]
    }
   ],
   "source": [
    "category_data = pd.concat([creator_data['category_name'].value_counts(), creator_data['category_name'].value_counts(normalize = True) * 100], axis = 1, keys=['Total', 'Percentage'])\n",
    "print(category_data)"
   ]
  },
  {
   "cell_type": "markdown",
   "metadata": {},
   "source": [
    "### Creators by Dollar Goal Bins"
   ]
  },
  {
   "cell_type": "code",
   "execution_count": 13,
   "metadata": {},
   "outputs": [
    {
     "name": "stdout",
     "output_type": "stream",
     "text": [
      "                     Total  Percentage\n",
      "Goal Bins (in US$)                    \n",
      "$1-$10                 661    0.201125\n",
      "$10-$100              3596    1.094166\n",
      "$100-$1k             51654   15.716929\n",
      "$1k-$10k            171908   52.307000\n",
      "$10k-$100k           91211   27.753064\n",
      "$100k-$1M             8789    2.674257\n",
      "$1M+                   833    0.253460\n"
     ]
    }
   ],
   "source": [
    "creator_data['pledged_usd_static'] = creator_data['pledged'] * creator_data['static_usd_rate']\n",
    "creator_data['goal_usd_static'] = creator_data['goal'] * creator_data['static_usd_rate']\n",
    "\n",
    "bins = [0, 10, 100, 1000, 10000, 100000, 1000000, np.inf]\n",
    "\n",
    "creator_data['Goal Bins (in US$)'] = pd.cut(creator_data['goal_usd_static'], bins, labels = ['$1-$10', '$10-$100', '$100-$1k', '$1k-$10k', '$10k-$100k', '$100k-$1M', '$1M+'])\n",
    "# Also create a percentage of total in each bin\n",
    "bins = pd.concat([creator_data['Goal Bins (in US$)'].value_counts(), creator_data['Goal Bins (in US$)'].value_counts(normalize = True) * 100], axis = 1, keys=['Total', 'Percentage'])\n",
    "print(bins.sort_index())"
   ]
  },
  {
   "cell_type": "markdown",
   "metadata": {},
   "source": [
    "### Creators by Average Duration"
   ]
  },
  {
   "cell_type": "code",
   "execution_count": 14,
   "metadata": {},
   "outputs": [
    {
     "name": "stdout",
     "output_type": "stream",
     "text": [
      "                         Mean  Median  Minimum  Maximum\n",
      "category_name                                          \n",
      "3D Printing         34.725389    30.0        4       89\n",
      "Academic            36.523843    30.0        1       67\n",
      "Accessories         31.260265    30.0        1       60\n",
      "Action              37.706491    30.0        1       60\n",
      "Animals             33.614286    30.0        7       60\n",
      "Animation           37.742239    30.0        5       90\n",
      "Anthologies         33.817167    30.0        3       66\n",
      "Apparel             33.531385    30.0        1      120\n",
      "Apps                37.135348    30.0        1       92\n",
      "Architecture        36.858000    30.0        4       60\n",
      "Art                 31.384761    30.0        1       91\n",
      "Art Books           33.957613    30.0        1       90\n",
      "Audio               34.586919    30.0        7       60\n",
      "Bacon               33.839806    30.0        2       60\n",
      "Blues               35.550136    30.0        3       60\n",
      "Calendars           30.650924    30.0        3       60\n",
      "Camera Equipment    34.565144    30.0        5       60\n",
      "Candles             34.278732    30.0        6       60\n",
      "Ceramics            32.708984    30.0        2       60\n",
      "Children's Books    33.425110    30.0        1       91\n",
      "Childrenswear       33.368633    30.0        5       60\n",
      "Chiptune            32.230769    30.0        9       60\n",
      "Civic Design        35.876640    30.0        5       60\n",
      "Classical Music     35.236238    30.0        1       91\n",
      "Comedy              33.508178    30.0        2       67\n",
      "Comic Books         32.340278    30.0        2       60\n",
      "Comics              34.708106    30.0        1       91\n",
      "Community Gardens   37.834254    30.0        6       89\n",
      "Conceptual Art      33.672034    30.0        2       91\n",
      "Cookbooks           34.680958    30.0        1       60\n",
      "Country & Folk      34.425021    30.0        4       91\n",
      "Couture             34.878109    30.0        7       74\n",
      "Crafts              31.548609    30.0        1       90\n",
      "Crochet             34.317308    30.0       11       88\n",
      "DIY                 34.571429    30.0        2       60\n",
      "DIY Electronics     35.107241    30.0        7       67\n",
      "Dance               33.387701    30.0        1       90\n",
      "Design              32.427167    30.0        1       90\n",
      "Digital Art         33.127243    30.0        2       90\n",
      "Documentary         34.933954    30.0        1       91\n",
      "Drama               35.259447    30.0        2       70\n",
      "Drinks              35.767016    30.0        1       60\n",
      "Electronic Music    35.210047    30.0        1       90\n",
      "Embroidery          31.940541    30.0        1       60\n",
      "Events              34.843907    30.0        3       60\n",
      "Experimental        33.181310    30.0        1       60\n",
      "Fabrication Tools   35.800000    30.0        9       60\n",
      "Faith               34.324667    30.0        3       74\n",
      "Family              35.375000    30.0        2       60\n",
      "Fantasy             37.639229    30.0        2       60\n",
      "Farmer's Markets    35.702166    30.0        4       66\n",
      "Farms               36.397004    30.0        7       60\n",
      "Fashion             32.165935    30.0        1       90\n",
      "Festivals           33.076313    30.0        2       70\n",
      "Fiction             32.949064    30.0        1       91\n",
      "Film & Video        34.628215    30.0        1       90\n",
      "Fine Art            32.781288    30.0        1       60\n",
      "Flight              35.472648    30.0        5       60\n",
      "Food                32.547471    30.0        1       90\n",
      "Food Trucks         37.116493    30.0        1       60\n",
      "Footwear            35.020592    30.0        2       81\n",
      "Gadgets             36.067529    30.0        2       80\n",
      "Games               32.295316    30.0        3       90\n",
      "Gaming Hardware     34.639942    30.0        3       64\n",
      "Glass               34.048387    30.0        7       60\n",
      "Graphic Design      31.378419    30.0        4       89\n",
      "Graphic Novels      33.620447    30.0        2       89\n",
      "Hardware            36.079123    30.0        4       90\n",
      "Hip-Hop             36.502623    30.0        1       91\n",
      "Horror              35.649857    30.0        2       90\n",
      "Illustration        30.913501    30.0        1       90\n",
      "Immersive           33.426374    30.0        3       80\n",
      "Indie Rock          35.845904    30.0        1       91\n",
      "Installations       33.159026    30.0        3       60\n",
      "Interactive Design  34.440972    30.0        1       60\n",
      "Jazz                36.282619    30.0        3       91\n",
      "Jewelry             32.529475    30.0        1       60\n",
      "Journalism          35.948508    30.0        1       90\n",
      "Kids                33.213904    30.0        5       60\n",
      "Knitting            33.358268    30.0        8       60\n",
      "Latin               37.307377    30.0        1       60\n",
      "Letterpress         34.980198    30.0        4       60\n",
      "Literary Journals   35.261792    30.0        5       80\n",
      "Literary Spaces     37.215385    30.0        5       60\n",
      "Live Games          36.372062    30.0        2       89\n",
      "Makerspaces         36.729107    30.0        3       60\n",
      "Metal               38.758014    30.0        4       66\n",
      "Mixed Media         33.410488    30.0        1       90\n",
      "Mobile Games        34.374784    30.0        1       87\n",
      "Movie Theaters      39.695150    32.0        3       60\n",
      "Music               34.698123    30.0        2       90\n",
      "Music Videos        31.526749    30.0        2       87\n",
      "Musical             34.398614    30.0        1       80\n",
      "Narrative Film      36.875155    30.0        1       91\n",
      "Nature              33.846491    30.0        2       66\n",
      "Nonfiction          33.929385    30.0        1       90\n",
      "Painting            33.335624    30.0        2       90\n",
      "People              34.538927    30.0        2       60\n",
      "Performance Art     34.388669    30.0        1       90\n",
      "Performances        32.925620    30.0        3       60\n",
      "Periodicals         33.847858    30.0        1       91\n",
      "Pet Fashion         35.704981    30.0        7       60\n",
      "Photo               34.274336    30.0        1       89\n",
      "Photobooks          33.840242    30.0        1       74\n",
      "Photography         34.783358    30.0        1       91\n",
      "Places              33.378545    30.0        1       60\n",
      "Playing Cards       32.205184    30.0        2       74\n",
      "Plays               33.285309    30.0        1       89\n",
      "Poetry              35.076965    30.0        1       90\n",
      "Pop                 35.770668    30.0        1       91\n",
      "Pottery             33.208145    30.0        7       60\n",
      "Print               35.224949    30.0        1       66\n",
      "Printing            34.200514    30.0        1       60\n",
      "Product Design      33.711436    30.0        1       96\n",
      "Public Art          33.009024    30.0        2       90\n",
      "Publishing          33.513100    30.0        1       90\n",
      "Punk                37.042959    30.0        1       60\n",
      "Puzzles             32.417178    30.0        4       64\n",
      "Quilts              31.324324    30.0       10       60\n",
      "R&B                 35.364256    30.0        1       60\n",
      "Radio & Podcasts    34.869814    30.0        1       88\n",
      "Ready-to-wear       34.658484    30.0        1       60\n",
      "Residencies         34.120000    30.0        8       60\n",
      "Restaurants         36.317120    30.0        1       60\n",
      "Robots              37.342711    30.0        4       60\n",
      "Rock                36.132069    30.0        1       91\n",
      "Romance             35.897516    30.0        6       60\n",
      "Science Fiction     35.389972    30.0        5       60\n",
      "Sculpture           34.568335    30.0        1       91\n",
      "Shorts              31.031428    30.0        1       91\n",
      "Small Batch         33.605562    30.0        2       66\n",
      "Social Practice     36.525292    30.0        1       60\n",
      "Software            36.650910    30.0        1       90\n",
      "Sound               35.003021    30.0        6       60\n",
      "Space Exploration   36.635417    30.0        7       60\n",
      "Spaces              35.712191    30.0        1       74\n",
      "Stationery          31.237557    30.0        2       60\n",
      "Tabletop Games      28.858162    30.0        3       90\n",
      "Taxidermy           33.000000    30.0       19       59\n",
      "Technology          34.747022    30.0        5       97\n",
      "Television          36.881598    30.0        1       60\n",
      "Textiles            33.439516    30.0        5       60\n",
      "Theater             32.345041    30.0        1       91\n",
      "Thrillers           35.554447    30.0        3       60\n",
      "Toys                34.958486    30.0        7       60\n",
      "Translations        37.412766    30.0        7       90\n",
      "Typography          32.311111    30.0        7       60\n",
      "Vegan               34.935009    30.0        2       60\n",
      "Video               34.981096    30.0        1       60\n",
      "Video Art           35.487261    30.0        3       90\n",
      "Video Games         33.353330    30.0        1       91\n",
      "Wearables           36.162679    30.0        5       83\n",
      "Weaving             34.200000    30.0       10       60\n",
      "Web                 35.822118    30.0        1       60\n",
      "Webcomics           35.231602    30.0        4       89\n",
      "Webseries           34.839249    30.0        1       91\n",
      "Woodworking         32.957523    30.0        3       60\n",
      "Workshops           33.790576    30.0        3       60\n",
      "World Music         36.750414    30.0        1       90\n",
      "Young Adult         35.194019    30.0        2       66\n",
      "Zines               31.966763    30.0        1       66\n"
     ]
    }
   ],
   "source": [
    "# Calculate the average duration of Kickstarter\n",
    "creator_data['duration'] = (creator_data['deadline'] - creator_data['launched_at']).dt.days\n",
    "\n",
    "# Calculate the average duration of Kickstarter by state\n",
    "duration_by_state = creator_data.groupby('category_name')['duration']\n",
    "duration_by_state = pd.concat([duration_by_state.mean(), duration_by_state.median(), duration_by_state.min(), duration_by_state.max()], axis = 1, keys=['Mean', 'Median', 'Minimum', 'Maximum'])\n",
    "print(duration_by_state)"
   ]
  }
 ],
 "metadata": {
  "kernelspec": {
   "display_name": ".venv",
   "language": "python",
   "name": "python3"
  },
  "language_info": {
   "codemirror_mode": {
    "name": "ipython",
    "version": 3
   },
   "file_extension": ".py",
   "mimetype": "text/x-python",
   "name": "python",
   "nbconvert_exporter": "python",
   "pygments_lexer": "ipython3",
   "version": "3.13.0"
  }
 },
 "nbformat": 4,
 "nbformat_minor": 2
}
