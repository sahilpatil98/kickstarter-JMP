{
 "cells": [
  {
   "cell_type": "markdown",
   "metadata": {},
   "source": [
    "# 2016 Data Reader"
   ]
  },
  {
   "cell_type": "code",
   "execution_count": 3,
   "metadata": {},
   "outputs": [],
   "source": [
    "import pandas as pd\n",
    "import json\n",
    "import os\n",
    "from flatten_json import flatten\n",
    "from glob import glob\n",
    "# print all columns\n",
    "pd.set_option('display.max_columns', None)\n"
   ]
  },
  {
   "cell_type": "code",
   "execution_count": null,
   "metadata": {},
   "outputs": [],
   "source": [
    "# STATIC Variables\n",
    "## States to not include while importing\n",
    "DROP_STATES = ['live', 'started', 'submitted']\n",
    "\n",
    "## Columns to check for duplicates\n",
    "CHECK_COLUMNS = ['id', 'creator_id', 'state', 'launched_at']\n",
    "\n",
    "## Skipped Cases Counters\n",
    "LIVE = 0\n",
    "STARTED = 0\n",
    "SUBMITTED = 0\n",
    "SUSPENDED = 0\n",
    "\n",
    "\n",
    "rows = []"
   ]
  },
  {
   "cell_type": "code",
   "execution_count": null,
   "metadata": {},
   "outputs": [],
   "source": [
    "path = \"C:/Users/d0tam/kickstarter-JMP/data/2016/\"\n",
    "\n",
    "\n",
    "# Iterate through JSON files\n",
    "for file in glob(f\"{path}/*.json\"):\n",
    "    print(file)\n",
    "    with open(file, \"r\", encoding=\"utf8\") as f:\n",
    "        for line in f:\n",
    "            data = flatten(json.loads(line)['data'])\n",
    "            if data['state'].lower() in DROP_STATES:\n",
    "                if data['state'].lower() == 'live':\n",
    "                    LIVE += 1\n",
    "                elif data['state'].lower() == 'started':\n",
    "                    STARTED += 1\n",
    "                elif data['state'].lower() == 'submitted':\n",
    "                    SUBMITTED += 1\n",
    "                elif data['state'].lower() == 'suspended':\n",
    "                    SUSPENDED += 1\n",
    "                    \n",
    "                continue  # Skip 'live' rows\n",
    "            rows.append(data)\n",
    "        \n",
    "        print(f\"Skipped {LIVE} 'live', {STARTED} 'started', {SUBMITTED} 'submitted', and {SUSPENDED} 'suspended' rows\")\n",
    "\n"
   ]
  },
  {
   "cell_type": "markdown",
   "metadata": {},
   "source": [
    "Convert list of rows to dataframe"
   ]
  },
  {
   "cell_type": "code",
   "execution_count": null,
   "metadata": {},
   "outputs": [],
   "source": [
    "# Convert accumulated rows to a DataFrame\n",
    "df = pd.DataFrame(rows)\n",
    "print(df.shape)\n",
    "# Delete list\n",
    "del rows\n"
   ]
  },
  {
   "cell_type": "markdown",
   "metadata": {},
   "source": [
    "Drop duplicates based on columns"
   ]
  },
  {
   "cell_type": "code",
   "execution_count": null,
   "metadata": {},
   "outputs": [],
   "source": [
    "# Drop duplicates based on specified columns\n",
    "df = df.drop_duplicates(subset=CHECK_COLUMNS)"
   ]
  },
  {
   "cell_type": "code",
   "execution_count": null,
   "metadata": {},
   "outputs": [],
   "source": [
    "print(df.shape)"
   ]
  },
  {
   "cell_type": "markdown",
   "metadata": {},
   "source": [
    "# Clean the Data"
   ]
  },
  {
   "cell_type": "code",
   "execution_count": null,
   "metadata": {},
   "outputs": [],
   "source": [
    "# Get all unique creator IDs\n",
    "\n",
    "creator_ids = set(df['creator_id'].unique())\n",
    "print(f'Number of Unique creator IDs in 2016: {len(creator_ids)}')"
   ]
  },
  {
   "cell_type": "code",
   "execution_count": null,
   "metadata": {},
   "outputs": [],
   "source": [
    "for i in range(0, len(creator_ids)):\n",
    "    ind = df[df['creator_id'] == list(creator_ids)[i]]\n",
    "    if len(ind) > 10:\n",
    "        break\n",
    "\n",
    "ind"
   ]
  },
  {
   "cell_type": "code",
   "execution_count": null,
   "metadata": {},
   "outputs": [],
   "source": [
    "# Convert unix timestamps to datetime\n",
    "ind['launched_at'] = pd.to_datetime(ind['launched_at'], unit='s')\n",
    "ind['deadline'] = pd.to_datetime(ind['deadline'], unit='s')\n",
    "\n",
    "ind = ind.sort_values(by='launched_at')\n",
    "ind[['id', 'creator_id', 'goal', 'pledged', 'launched_at', 'deadline', 'state', 'category_name', 'location_name', 'backers_count']]"
   ]
  },
  {
   "cell_type": "code",
   "execution_count": null,
   "metadata": {},
   "outputs": [],
   "source": [
    "del df\n",
    "del data"
   ]
  },
  {
   "cell_type": "markdown",
   "metadata": {},
   "source": [
    "## 2024 last file"
   ]
  },
  {
   "cell_type": "code",
   "execution_count": null,
   "metadata": {},
   "outputs": [
    {
     "name": "stdout",
     "output_type": "stream",
     "text": [
      "C:/Users/d0tam/kickstarter-JMP/data/2024\\Kickstarter_2024-01-15T14_13_05_649Z.json\n"
     ]
    },
    {
     "ename": "TypeError",
     "evalue": "can assign only bytes, buffers, or iterables of ints in range(0, 256)",
     "output_type": "error",
     "traceback": [
      "\u001b[1;31m---------------------------------------------------------------------------\u001b[0m",
      "\u001b[1;31mTypeError\u001b[0m                                 Traceback (most recent call last)",
      "Cell \u001b[1;32mIn[4], line 33\u001b[0m\n\u001b[0;32m     30\u001b[0m         \u001b[38;5;28;01mcontinue\u001b[39;00m\n\u001b[0;32m     32\u001b[0m     rows\u001b[38;5;241m.\u001b[39mappend(data)\n\u001b[1;32m---> 33\u001b[0m     stream \u001b[38;5;241m=\u001b[39m \u001b[43mjson_stream\u001b[49m\u001b[38;5;241;43m.\u001b[39;49m\u001b[43mload\u001b[49m\u001b[43m(\u001b[49m\u001b[43mdata\u001b[49m\u001b[43m)\u001b[49m\n\u001b[0;32m     35\u001b[0m \u001b[38;5;28mprint\u001b[39m(\u001b[38;5;124mf\u001b[39m\u001b[38;5;124m\"\u001b[39m\u001b[38;5;124mAdded \u001b[39m\u001b[38;5;132;01m{\u001b[39;00m\u001b[38;5;28mlen\u001b[39m(rows)\u001b[38;5;250m \u001b[39m\u001b[38;5;241m-\u001b[39m\u001b[38;5;250m \u001b[39mDUPLICATED\u001b[38;5;132;01m}\u001b[39;00m\u001b[38;5;124m rows\u001b[39m\u001b[38;5;124m\"\u001b[39m)\n\u001b[0;32m     36\u001b[0m \u001b[38;5;28mprint\u001b[39m(\u001b[38;5;124mf\u001b[39m\u001b[38;5;124m\"\u001b[39m\u001b[38;5;124mSkipped \u001b[39m\u001b[38;5;132;01m{\u001b[39;00mLIVE\u001b[38;5;132;01m}\u001b[39;00m\u001b[38;5;124m \u001b[39m\u001b[38;5;124m'\u001b[39m\u001b[38;5;124mlive\u001b[39m\u001b[38;5;124m'\u001b[39m\u001b[38;5;124m, \u001b[39m\u001b[38;5;132;01m{\u001b[39;00mSTARTED\u001b[38;5;132;01m}\u001b[39;00m\u001b[38;5;124m \u001b[39m\u001b[38;5;124m'\u001b[39m\u001b[38;5;124mstarted\u001b[39m\u001b[38;5;124m'\u001b[39m\u001b[38;5;124m, \u001b[39m\u001b[38;5;132;01m{\u001b[39;00mSUBMITTED\u001b[38;5;132;01m}\u001b[39;00m\u001b[38;5;124m \u001b[39m\u001b[38;5;124m'\u001b[39m\u001b[38;5;124msubmitted\u001b[39m\u001b[38;5;124m'\u001b[39m\u001b[38;5;124m, \u001b[39m\u001b[38;5;132;01m{\u001b[39;00mDUPLICATED\u001b[38;5;132;01m}\u001b[39;00m\u001b[38;5;124m \u001b[39m\u001b[38;5;124m'\u001b[39m\u001b[38;5;124mduplicated\u001b[39m\u001b[38;5;124m'\u001b[39m\u001b[38;5;124m, and \u001b[39m\u001b[38;5;132;01m{\u001b[39;00mSUSPENDED\u001b[38;5;132;01m}\u001b[39;00m\u001b[38;5;124m \u001b[39m\u001b[38;5;124m'\u001b[39m\u001b[38;5;124msuspended\u001b[39m\u001b[38;5;124m'\u001b[39m\u001b[38;5;124m rows\u001b[39m\u001b[38;5;124m\"\u001b[39m)\n",
      "File \u001b[1;32mc:\\Users\\d0tam\\kickstarter-JMP\\.venv\\Lib\\site-packages\\json_stream\\loader.py:9\u001b[0m, in \u001b[0;36mload\u001b[1;34m(fp_or_iterable, persistent, tokenizer)\u001b[0m\n\u001b[0;32m      7\u001b[0m fp \u001b[38;5;241m=\u001b[39m ensure_file(fp_or_iterable)\n\u001b[0;32m      8\u001b[0m token_stream \u001b[38;5;241m=\u001b[39m tokenizer(fp)\n\u001b[1;32m----> 9\u001b[0m token_type, token \u001b[38;5;241m=\u001b[39m \u001b[38;5;28;43mnext\u001b[39;49m\u001b[43m(\u001b[49m\u001b[43mtoken_stream\u001b[49m\u001b[43m)\u001b[49m\n\u001b[0;32m     10\u001b[0m \u001b[38;5;28;01mif\u001b[39;00m token_type \u001b[38;5;241m==\u001b[39m TokenType\u001b[38;5;241m.\u001b[39mOPERATOR:\n\u001b[0;32m     11\u001b[0m     \u001b[38;5;28;01mreturn\u001b[39;00m StreamingJSONBase\u001b[38;5;241m.\u001b[39mfactory(token, token_stream, persistent)\n",
      "File \u001b[1;32mc:\\Users\\d0tam\\kickstarter-JMP\\.venv\\Lib\\site-packages\\json_stream\\tokenizer.py:82\u001b[0m, in \u001b[0;36mtokenize\u001b[1;34m(stream)\u001b[0m\n\u001b[0;32m     81\u001b[0m \u001b[38;5;28;01mdef\u001b[39;00m \u001b[38;5;21mtokenize\u001b[39m(stream):\n\u001b[1;32m---> 82\u001b[0m     stream \u001b[38;5;241m=\u001b[39m \u001b[43m_ensure_text\u001b[49m\u001b[43m(\u001b[49m\u001b[43mstream\u001b[49m\u001b[43m)\u001b[49m\n\u001b[0;32m     84\u001b[0m     \u001b[38;5;28;01mdef\u001b[39;00m \u001b[38;5;21mis_delimiter\u001b[39m(char):\n\u001b[0;32m     85\u001b[0m         \u001b[38;5;28;01mreturn\u001b[39;00m char\u001b[38;5;241m.\u001b[39misspace() \u001b[38;5;129;01mor\u001b[39;00m char \u001b[38;5;129;01min\u001b[39;00m \u001b[38;5;124m\"\u001b[39m\u001b[38;5;132;01m{}\u001b[39;00m\u001b[38;5;124m[]:,\u001b[39m\u001b[38;5;124m\"\u001b[39m \u001b[38;5;129;01mor\u001b[39;00m char \u001b[38;5;241m==\u001b[39m SpecialChar\u001b[38;5;241m.\u001b[39mEOF\n",
      "File \u001b[1;32mc:\\Users\\d0tam\\kickstarter-JMP\\.venv\\Lib\\site-packages\\json_stream\\tokenizer.py:74\u001b[0m, in \u001b[0;36m_ensure_text\u001b[1;34m(stream)\u001b[0m\n\u001b[0;32m     73\u001b[0m \u001b[38;5;28;01mdef\u001b[39;00m \u001b[38;5;21m_ensure_text\u001b[39m(stream):\n\u001b[1;32m---> 74\u001b[0m     data \u001b[38;5;241m=\u001b[39m \u001b[43mstream\u001b[49m\u001b[38;5;241;43m.\u001b[39;49m\u001b[43mread\u001b[49m\u001b[43m(\u001b[49m\u001b[38;5;241;43m0\u001b[39;49m\u001b[43m)\u001b[49m\n\u001b[0;32m     75\u001b[0m     \u001b[38;5;28;01mif\u001b[39;00m \u001b[38;5;28misinstance\u001b[39m(data, \u001b[38;5;28mbytes\u001b[39m):\n\u001b[0;32m     76\u001b[0m         encoding \u001b[38;5;241m=\u001b[39m _guess_encoding(stream)\n",
      "File \u001b[1;32mc:\\Users\\d0tam\\kickstarter-JMP\\.venv\\Lib\\site-packages\\json_stream\\iterators.py:13\u001b[0m, in \u001b[0;36mIterableStream.readinto\u001b[1;34m(self, buffer)\u001b[0m\n\u001b[0;32m     11\u001b[0m     chunk \u001b[38;5;241m=\u001b[39m \u001b[38;5;28mself\u001b[39m\u001b[38;5;241m.\u001b[39mremainder \u001b[38;5;129;01mor\u001b[39;00m \u001b[38;5;28mnext\u001b[39m(\u001b[38;5;28mself\u001b[39m\u001b[38;5;241m.\u001b[39miterator)\n\u001b[0;32m     12\u001b[0m     length \u001b[38;5;241m=\u001b[39m \u001b[38;5;28mmin\u001b[39m(\u001b[38;5;28mlen\u001b[39m(buffer), \u001b[38;5;28mlen\u001b[39m(chunk))\n\u001b[1;32m---> 13\u001b[0m     \u001b[43mbuffer\u001b[49m\u001b[43m[\u001b[49m\u001b[43m:\u001b[49m\u001b[43mlength\u001b[49m\u001b[43m]\u001b[49m, \u001b[38;5;28mself\u001b[39m\u001b[38;5;241m.\u001b[39mremainder \u001b[38;5;241m=\u001b[39m chunk[:length], chunk[length:]\n\u001b[0;32m     14\u001b[0m     \u001b[38;5;28;01mreturn\u001b[39;00m length\n\u001b[0;32m     15\u001b[0m \u001b[38;5;28;01mexcept\u001b[39;00m \u001b[38;5;167;01mStopIteration\u001b[39;00m:\n",
      "\u001b[1;31mTypeError\u001b[0m: can assign only bytes, buffers, or iterables of ints in range(0, 256)"
     ]
    }
   ],
   "source": [
    "rows = []\n",
    "\n",
    "path = \"C:/Users/d0tam/kickstarter-JMP/data/2024/\"\n",
    "\n",
    "DROP_STATES = ['live', 'started', 'submitted', 'suspended']\n",
    "\n",
    "# Live Kickstarters Counter\n",
    "LIVE = 0\n",
    "STARTED = 0\n",
    "SUBMITTED = 0\n",
    "SUSPENDED = 0\n",
    "\n",
    "# Iterate through JSON files\n",
    "for file in glob(f\"{path}/*.json\"):\n",
    "    print(file)\n",
    "    with open(file, \"r\", encoding=\"utf8\") as f:\n",
    "        for line in f:\n",
    "            data = flatten(json.loads(line)['data'])\n",
    "            if data['state'].lower() in DROP_STATES:\n",
    "                if data['state'].lower() == 'live':\n",
    "                    LIVE += 1\n",
    "                elif data['state'].lower() == 'started':\n",
    "                    STARTED += 1\n",
    "                elif data['state'].lower() == 'submitted':\n",
    "                    SUBMITTED += 1\n",
    "                elif data['state'].lower() == 'suspended':\n",
    "                    SUSPENDED += 1\n",
    "                continue\n",
    "\n",
    "            rows.append(data)\n",
    "        \n",
    "        print(f\"Skipped {LIVE} 'live', {STARTED} 'started', {SUBMITTED} 'submitted', and {SUSPENDED} 'suspended' rows\")\n",
    "\n",
    "    \n",
    "\n",
    "        \n"
   ]
  },
  {
   "cell_type": "code",
   "execution_count": null,
   "metadata": {},
   "outputs": [],
   "source": [
    "df1 = pd.DataFrame(rows)\n",
    "df1[['id', 'creator_id', 'goal', 'pledged', 'launched_at', 'deadline', 'state', 'category_name', 'location_name', 'backers_count']].head()"
   ]
  },
  {
   "cell_type": "code",
   "execution_count": null,
   "metadata": {},
   "outputs": [],
   "source": [
    "del rows"
   ]
  },
  {
   "cell_type": "code",
   "execution_count": null,
   "metadata": {},
   "outputs": [],
   "source": [
    "# Drop duplicates based on specified columns\n",
    "df1 = df1.drop_duplicates(subset=CHECK_COLUMNS)\n",
    "df1.shape"
   ]
  },
  {
   "cell_type": "code",
   "execution_count": null,
   "metadata": {},
   "outputs": [],
   "source": [
    "# Convert unix timestamps to datetime\n",
    "df1['launched_at'] = pd.to_datetime(df1['launched_at'], unit='s')\n",
    "df1['created_at'] = pd.to_datetime(df1['created_at'], unit='s')\n",
    "df1['state_changed_at'] = pd.to_datetime(df1['state_changed_at'], unit='s')\n",
    "df1['deadline'] = pd.to_datetime(df1['deadline'], unit='s')\n",
    "\n",
    "df1 = df1.sort_values(by=['creator_id', 'launched_at'])\n"
   ]
  },
  {
   "cell_type": "code",
   "execution_count": null,
   "metadata": {},
   "outputs": [],
   "source": [
    "# Count number of kickstarters launched in 2009\n",
    "df1['launched_at'].dt.year.value_counts().sort_index()\n"
   ]
  },
  {
   "cell_type": "code",
   "execution_count": null,
   "metadata": {},
   "outputs": [],
   "source": [
    "df1.head()"
   ]
  }
 ],
 "metadata": {
  "kernelspec": {
   "display_name": ".venv",
   "language": "python",
   "name": "python3"
  },
  "language_info": {
   "codemirror_mode": {
    "name": "ipython",
    "version": 3
   },
   "file_extension": ".py",
   "mimetype": "text/x-python",
   "name": "python",
   "nbconvert_exporter": "python",
   "pygments_lexer": "ipython3",
   "version": "3.13.0"
  }
 },
 "nbformat": 4,
 "nbformat_minor": 2
}
