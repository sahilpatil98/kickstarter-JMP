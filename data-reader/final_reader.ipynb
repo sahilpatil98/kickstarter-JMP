{
 "cells": [
  {
   "cell_type": "markdown",
   "metadata": {},
   "source": [
    "# Final Reader for Kickstarter Data"
   ]
  },
  {
   "cell_type": "code",
   "execution_count": 1,
   "metadata": {},
   "outputs": [],
   "source": [
    "from glob import glob\n",
    "from flatten_json import flatten\n",
    "import json\n",
    "import pandas as pd\n",
    "import os"
   ]
  },
  {
   "cell_type": "code",
   "execution_count": null,
   "metadata": {},
   "outputs": [
    {
     "name": "stdout",
     "output_type": "stream",
     "text": [
      "Processing: D:/Downloads/Kickstarter\\Kickstarter_2024-02-15T03_20_05_339Z.json\n",
      "Added by Creators: 20922, Added by Project: 2541, Skipped: 562\n",
      "Skipped rows by state: live: 612, started: 72, submitted: 871\n",
      "\n",
      "\n",
      "Processing: D:/Downloads/Kickstarter\\Kickstarter_2024-01-15T14_13_05_649Z.json\n",
      "Added by Creators: 696, Added by Project: 182, Skipped: 23738\n",
      "Skipped rows by state: live: 441, started: 73, submitted: 825\n",
      "\n",
      "\n",
      "Processing: D:/Downloads/Kickstarter\\Kickstarter_2024-03-14T03_20_05_926Z.json\n",
      "Added by Creators: 293, Added by Project: 99, Skipped: 24049\n",
      "Skipped rows by state: live: 653, started: 72, submitted: 901\n",
      "\n",
      "\n",
      "Processing: D:/Downloads/Kickstarter\\Kickstarter_2024-04-15T06_47_07_694Z.json\n",
      "Added by Creators: 148115, Added by Project: 29403, Skipped: 47912\n",
      "Skipped rows by state: live: 5635, started: 467, submitted: 9829\n",
      "\n",
      "\n",
      "Processing: D:/Downloads/Kickstarter\\Kickstarter_2024-05-15T08_20_53_524Z.json\n",
      "Added by Creators: 1323, Added by Project: 778, Skipped: 223477\n",
      "Skipped rows by state: live: 6035, started: 466, submitted: 9770\n",
      "\n",
      "\n",
      "Processing: D:/Downloads/Kickstarter\\Kickstarter_2024-06-20T03_20_39_141Z.json\n",
      "Added by Creators: 1453, Added by Project: 798, Skipped: 190939\n",
      "Skipped rows by state: live: 5057, started: 391, submitted: 8661\n",
      "\n",
      "\n",
      "Processing: D:/Downloads/Kickstarter\\Kickstarter_2024-07-11T03_20_11_021Z.json\n",
      "Added by Creators: 1006, Added by Project: 768, Skipped: 224338\n",
      "Skipped rows by state: live: 5985, started: 465, submitted: 10129\n",
      "\n",
      "\n",
      "Processing: D:/Downloads/Kickstarter\\Kickstarter_2024-08-12T12_06_51_507Z.json\n",
      "Added by Creators: 1395, Added by Project: 876, Skipped: 224806\n",
      "Skipped rows by state: live: 5335, started: 513, submitted: 10676\n",
      "\n",
      "\n",
      "Processing: D:/Downloads/Kickstarter\\Kickstarter_2024-09-12T03_20_25_588Z.json\n",
      "Added by Creators: 1177, Added by Project: 805, Skipped: 224753\n",
      "Skipped rows by state: live: 5880, started: 571, submitted: 10802\n",
      "\n",
      "\n",
      "Processing: D:/Downloads/Kickstarter\\Kickstarter_2024-10-14T06_34_06_986Z.json\n",
      "Added by Creators: 1248, Added by Project: 954, Skipped: 213945\n",
      "Skipped rows by state: live: 6119, started: 573, submitted: 10276\n",
      "\n",
      "\n",
      "Processing: D:/Downloads/Kickstarter\\Kickstarter_2023-01-05T03_20_04_136Z.json\n",
      "Added by Creators: 9, Added by Project: 0, Skipped: 6794\n",
      "Skipped rows by state: live: 294, started: 36, submitted: 298\n",
      "\n",
      "\n",
      "Processing: D:/Downloads/Kickstarter\\Kickstarter_2023-02-16T03_20_05_221Z.json\n",
      "Added by Creators: 405, Added by Project: 296, Skipped: 3008\n",
      "Skipped rows by state: live: 340, started: 26, submitted: 318\n",
      "\n",
      "\n",
      "Processing: D:/Downloads/Kickstarter\\Kickstarter_2023-03-09T03_20_04_199Z.json\n",
      "Added by Creators: 0, Added by Project: 0, Skipped: 2993\n",
      "Skipped rows by state: live: 372, started: 22, submitted: 193\n",
      "\n",
      "\n",
      "Processing: D:/Downloads/Kickstarter\\Kickstarter_2023-04-18T13_03_17_223Z.json\n",
      "Added by Creators: 239, Added by Project: 28, Skipped: 18777\n",
      "Skipped rows by state: live: 327, started: 57, submitted: 215\n",
      "\n",
      "\n",
      "Processing: D:/Downloads/Kickstarter\\Kickstarter_2023-05-18T03_20_08_715Z.json\n",
      "Added by Creators: 2, Added by Project: 0, Skipped: 3352\n",
      "Skipped rows by state: live: 316, started: 4, submitted: 50\n",
      "\n",
      "\n",
      "Processing: D:/Downloads/Kickstarter\\Kickstarter_2023-07-13T03_20_02_827Z.json\n",
      "Added by Creators: 250, Added by Project: 207, Skipped: 22869\n",
      "Skipped rows by state: live: 666, started: 79, submitted: 651\n",
      "\n",
      "\n",
      "Processing: D:/Downloads/Kickstarter\\Kickstarter_2023-06-08T03_20_06_989Z.json\n",
      "Added by Creators: 0, Added by Project: 0, Skipped: 5416\n",
      "Skipped rows by state: live: 194, started: 25, submitted: 159\n",
      "\n",
      "\n",
      "Processing: D:/Downloads/Kickstarter\\Kickstarter_2023-08-17T03_20_11_634Z.json\n",
      "Added by Creators: 2, Added by Project: 0, Skipped: 22817\n",
      "Skipped rows by state: live: 689, started: 74, submitted: 695\n",
      "\n",
      "\n",
      "Processing: D:/Downloads/Kickstarter\\Kickstarter_2023-09-14T03_20_28_258Z.json\n"
     ]
    }
   ],
   "source": [
    "rows = []\n",
    "suspended_rows = []\n",
    "\n",
    "path = \"D:/Downloads/Kickstarter\"\n",
    "\n",
    "# States to Drop\n",
    "DROP_STATES = {'live': 0, 'started': 0, 'submitted': 0}\n",
    "\n",
    "# Sets for Unique Creator and Project IDs\n",
    "creator_ids = set()\n",
    "project_ids = set()\n",
    "unique_rows = set()\n",
    "\n",
    "suspended_creator_ids = set()\n",
    "suspended_project_ids = set()\n",
    "suspended_unique_rows = set()\n",
    "\n",
    "# Counters\n",
    "creators_counter = 0\n",
    "skipped_counter = 0\n",
    "project_counter = 0\n",
    "suspended_counter = 0\n",
    "# Function to reset counters\n",
    "def reset_counters():\n",
    "    global creators_counter, project_counter, skipped_counter, DROP_STATES\n",
    "    creators_counter = project_counter = skipped_counter = 0\n",
    "    DROP_STATES = {state: 0 for state in DROP_STATES}\n",
    "\n",
    "filepaths = glob(f\"{path}/*.json\")\n",
    "filepaths.sort(key = os.path.getctime)\n",
    "\n",
    "# Iterate through JSON files\n",
    "for file in filepaths:\n",
    "    print(f\"Processing: {file}\")\n",
    "    \n",
    "    with open(file, \"r\", encoding=\"utf8\") as f:\n",
    "        for line in f:\n",
    "            # Flatten JSON and Load Data\n",
    "            data = flatten(json.loads(line)['data'])\n",
    "            creator_id, project_id, state, launched_at = data['creator_id'], data['id'], data['state'].lower(), data['launched_at']\n",
    "            \n",
    "            # Skip rows with drop states and update counter\n",
    "            if (state == 'suspended') and (row_id not in suspended_unique_rows):\n",
    "                suspended_counter += 1\n",
    "                suspended_creator_ids.add(creator_id)\n",
    "                suspended_project_ids.add(project_id)\n",
    "                suspended_unique_rows.add((creator_id, project_id, state, launched_at))\n",
    "                suspended_rows.append(data)\n",
    "                continue\n",
    "\n",
    "            if state in DROP_STATES:\n",
    "                DROP_STATES[state] += 1\n",
    "                continue\n",
    "            \n",
    "            # Create a unique row identifier\n",
    "            row_id = (creator_id, project_id, state, launched_at)\n",
    "            \n",
    "            # Check if creator is unique\n",
    "            if creator_id not in creator_ids:\n",
    "                creators_counter += 1\n",
    "                creator_ids.add(creator_id)\n",
    "                project_ids.add(project_id)\n",
    "                unique_rows.add(row_id)\n",
    "                rows.append(data)\n",
    "                continue\n",
    "\n",
    "            else:\n",
    "                # Check for uniqueness\n",
    "                if row_id in unique_rows:\n",
    "                    skipped_counter += 1\n",
    "                    continue\n",
    "                else:\n",
    "                    project_counter += 1\n",
    "                    creator_ids.add(creator_id)\n",
    "                    project_ids.add(project_id)\n",
    "                    unique_rows.add(row_id)\n",
    "                    rows.append(data)\n",
    "\n",
    "\n",
    "\n",
    "    # Display counters\n",
    "    print(f\"Added by Creators: {creators_counter}, Added by Project: {project_counter}, Skipped: {skipped_counter}\")\n",
    "    print(f\"Skipped rows by state: {', '.join([f'{state}: {count}' for state, count in DROP_STATES.items()])}\")\n",
    "    print('\\n')\n",
    "    # Reset counters for the next file\n",
    "    reset_counters()\n",
    "    "
   ]
  },
  {
   "cell_type": "code",
   "execution_count": null,
   "metadata": {},
   "outputs": [],
   "source": [
    "df = pd.DataFrame(rows)\n",
    "df.shape"
   ]
  },
  {
   "cell_type": "code",
   "execution_count": null,
   "metadata": {},
   "outputs": [],
   "source": [
    "del rows"
   ]
  },
  {
   "cell_type": "code",
   "execution_count": null,
   "metadata": {},
   "outputs": [],
   "source": [
    "suspended_df = pd.DataFrame(suspended_rows)\n",
    "suspended_df.shape\n"
   ]
  },
  {
   "cell_type": "code",
   "execution_count": null,
   "metadata": {},
   "outputs": [],
   "source": [
    "del suspended_rows"
   ]
  },
  {
   "cell_type": "markdown",
   "metadata": {},
   "source": [
    "Dropping special cases on import"
   ]
  },
  {
   "cell_type": "code",
   "execution_count": null,
   "metadata": {},
   "outputs": [],
   "source": [
    "# Keeping the last instance based on state_changed_at column\n",
    "df = df.sort_values(by = ['id', 'state_changed_at'], ascending = [True, True]).drop_duplicates(subset = 'id', keep = 'last')\n",
    "print(df.shape)"
   ]
  },
  {
   "cell_type": "markdown",
   "metadata": {},
   "source": [
    "Export to Json"
   ]
  },
  {
   "cell_type": "code",
   "execution_count": null,
   "metadata": {},
   "outputs": [],
   "source": [
    "json_str = df.to_json(orient='records', lines=True)\n",
    "\n",
    "with open(r\"C:\\Users\\d0tam\\kickstarter-JMP\\data\\kickstarter.json\", 'w' , encoding = 'utf-8') as f:\n",
    "    f.write(json_str)"
   ]
  },
  {
   "cell_type": "code",
   "execution_count": null,
   "metadata": {},
   "outputs": [],
   "source": [
    "json_str = suspended_df.to_json(orient='records', lines=True)\n",
    "\n",
    "with open(r\"C:\\Users\\d0tam\\kickstarter-JMP\\data\\suspended_data.json\", 'w' , encoding = 'utf-8') as f:\n",
    "    f.write(json_str)"
   ]
  }
 ],
 "metadata": {
  "kernelspec": {
   "display_name": ".venv",
   "language": "python",
   "name": "python3"
  },
  "language_info": {
   "codemirror_mode": {
    "name": "ipython",
    "version": 3
   },
   "file_extension": ".py",
   "mimetype": "text/x-python",
   "name": "python",
   "nbconvert_exporter": "python",
   "pygments_lexer": "ipython3",
   "version": "3.13.0"
  }
 },
 "nbformat": 4,
 "nbformat_minor": 2
}
