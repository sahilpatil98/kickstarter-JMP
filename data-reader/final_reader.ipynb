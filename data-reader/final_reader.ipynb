{
 "cells": [
  {
   "cell_type": "markdown",
   "metadata": {},
   "source": [
    "# Final Reader for Kickstarter Data"
   ]
  },
  {
   "cell_type": "code",
   "execution_count": 1,
   "metadata": {},
   "outputs": [],
   "source": [
    "from glob import glob\n",
    "from flatten_json import flatten\n",
    "import json\n",
    "import pandas as pd"
   ]
  },
  {
   "cell_type": "code",
   "execution_count": null,
   "metadata": {},
   "outputs": [
    {
     "name": "stderr",
     "output_type": "stream",
     "text": [
      "<>:2: SyntaxWarning: invalid escape sequence '\\D'\n",
      "<>:2: SyntaxWarning: invalid escape sequence '\\D'\n",
      "C:\\Users\\d0tam\\AppData\\Local\\Temp\\ipykernel_3896\\4146818929.py:2: SyntaxWarning: invalid escape sequence '\\D'\n",
      "  path = \"D:\\Downloads\\2015 and older\"\n"
     ]
    }
   ],
   "source": [
    "rows = []\n",
    "path = \"D:\\Downloads\\Kickstarter\"\n",
    "\n",
    "# States to Drop\n",
    "DROP_STATES = {'live': 0, 'started': 0, 'submitted': 0, 'suspended': 0}\n",
    "\n",
    "# Sets for Unique Creator and Project IDs\n",
    "creator_ids = set()\n",
    "project_ids = set()\n",
    "unique_rows = set()\n",
    "\n",
    "# Counters\n",
    "creators_counter = 0\n",
    "skipped_counter = 0\n",
    "project_counter = 0\n",
    "\n",
    "# Function to reset counters\n",
    "def reset_counters():\n",
    "    global creators_counter, project_counter, skipped_counter, DROP_STATES\n",
    "    creators_counter = project_counter = skipped_counter = 0\n",
    "    DROP_STATES = {state: 0 for state in DROP_STATES}\n",
    "\n",
    "# Iterate through JSON files\n",
    "for file in glob(f\"{path}/*.json\"):\n",
    "    print(f\"Processing: {file}\")\n",
    "    \n",
    "    with open(file, \"r\", encoding=\"utf8\") as f:\n",
    "        for line in f:\n",
    "            # Flatten JSON and Load Data\n",
    "            data = flatten(json.loads(line)['data'])\n",
    "            creator_id, project_id, state, launched_at = data['creator_id'], data['id'], data['state'].lower(), data['launched_at']\n",
    "            \n",
    "            # Skip rows with drop states and update counter\n",
    "            if state in DROP_STATES:\n",
    "                DROP_STATES[state] += 1\n",
    "                continue\n",
    "            \n",
    "            # Create a unique row identifier\n",
    "            row_id = (creator_id, project_id, state, launched_at)\n",
    "            \n",
    "            # Check if creator is unique\n",
    "            if creator_id not in creator_ids:\n",
    "                creators_counter += 1\n",
    "                creator_ids.add(creator_id)\n",
    "                project_ids.add(project_id)\n",
    "                unique_rows.add(row_id)\n",
    "                rows.append(data)\n",
    "                continue\n",
    "\n",
    "            else:\n",
    "                # Check for uniqueness\n",
    "                if row_id in unique_rows:\n",
    "                    skipped_counter += 1\n",
    "                    continue\n",
    "                else:\n",
    "                    project_counter += 1\n",
    "                    creator_ids.add(creator_id)\n",
    "                    project_ids.add(project_id)\n",
    "                    unique_rows.add(row_id)\n",
    "                    rows.append(data)\n",
    "\n",
    "\n",
    "\n",
    "    # Display counters\n",
    "    print(f\"Added by Creators: {creators_counter}, Added by Project: {project_counter}, Skipped: {skipped_counter}\")\n",
    "    print(f\"Skipped rows by state: {', '.join([f'{state}: {count}' for state, count in DROP_STATES.items()])}\")\n",
    "    print('\\n')\n",
    "    # Reset counters for the next file\n",
    "    reset_counters()\n",
    "    "
   ]
  },
  {
   "cell_type": "code",
   "execution_count": null,
   "metadata": {},
   "outputs": [],
   "source": [
    "df = pd.DataFrame(rows)\n",
    "df.shape"
   ]
  },
  {
   "cell_type": "code",
   "execution_count": null,
   "metadata": {},
   "outputs": [],
   "source": [
    "df[['id', 'creator_id', 'goal', 'pledged', 'launched_at', 'deadline', 'state', 'category_name', 'location_name', 'backers_count']].head()"
   ]
  },
  {
   "cell_type": "code",
   "execution_count": null,
   "metadata": {},
   "outputs": [],
   "source": [
    "del rows"
   ]
  },
  {
   "cell_type": "code",
   "execution_count": null,
   "metadata": {},
   "outputs": [],
   "source": [
    "json_str = df.to_json(orient='records', lines=True)\n",
    "\n",
    "with open(r\"C:\\Users\\d0tam\\kickstarter-JMP\\data\\kickstarter.json\", 'w' , encoding = 'utf-8') as f:\n",
    "    f.write(json_str)"
   ]
  },
  {
   "cell_type": "code",
   "execution_count": null,
   "metadata": {},
   "outputs": [],
   "source": [
    "df.to_json(r\"C:\\Users\\d0tam\\kickstarter-JMP\\data\\kickstarter.json\", orient=\"records\", lines=True)"
   ]
  },
  {
   "cell_type": "markdown",
   "metadata": {},
   "source": [
    "## Check if json-stream can stream data"
   ]
  }
 ],
 "metadata": {
  "kernelspec": {
   "display_name": ".venv",
   "language": "python",
   "name": "python3"
  },
  "language_info": {
   "codemirror_mode": {
    "name": "ipython",
    "version": 3
   },
   "file_extension": ".py",
   "mimetype": "text/x-python",
   "name": "python",
   "nbconvert_exporter": "python",
   "pygments_lexer": "ipython3",
   "version": "3.13.0"
  }
 },
 "nbformat": 4,
 "nbformat_minor": 2
}
