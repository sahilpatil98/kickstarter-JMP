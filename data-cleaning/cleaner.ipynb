{
 "cells": [
  {
   "cell_type": "markdown",
   "metadata": {},
   "source": [
    "# Cleaner after all projects combined"
   ]
  },
  {
   "cell_type": "code",
   "execution_count": null,
   "metadata": {},
   "outputs": [],
   "source": [
    "import pandas as pd\n",
    "import numpy as np\n",
    "import matplotlib.pyplot as plt\n",
    "import seaborn as sns\n",
    "# Show all columns\n",
    "pd.set_option('display.max_columns', None)\n"
   ]
  },
  {
   "cell_type": "markdown",
   "metadata": {},
   "source": [
    "Read JSON file"
   ]
  },
  {
   "cell_type": "code",
   "execution_count": null,
   "metadata": {},
   "outputs": [],
   "source": [
    "df = pd.read_json('../data/kickstarter.json', lines = True)\n",
    "df.shape"
   ]
  },
  {
   "cell_type": "markdown",
   "metadata": {},
   "source": [
    "Check data head"
   ]
  },
  {
   "cell_type": "code",
   "execution_count": null,
   "metadata": {},
   "outputs": [],
   "source": [
    "df.head()"
   ]
  },
  {
   "cell_type": "markdown",
   "metadata": {},
   "source": [
    "# Clean column types"
   ]
  },
  {
   "cell_type": "markdown",
   "metadata": {},
   "source": [
    "## Change all dates to datetime"
   ]
  },
  {
   "cell_type": "code",
   "execution_count": null,
   "metadata": {},
   "outputs": [],
   "source": [
    "date_columns = ['profile_state_changed_at', 'created_at', 'launched_at', 'deadline', 'state_changed_at']\n",
    "df[date_columns] = df[date_columns].apply(pd.to_datetime, unit='s')"
   ]
  },
  {
   "cell_type": "markdown",
   "metadata": {},
   "source": [
    "## Reorder Data"
   ]
  },
  {
   "cell_type": "code",
   "execution_count": null,
   "metadata": {},
   "outputs": [],
   "source": [
    "df = df.sort_values(by=['creator_id','launched_at'], ascending=True).reset_index(drop = True)\n",
    "df[['creator_id','id','state','launched_at', 'deadline', 'pledged', 'goal']].head(20)"
   ]
  },
  {
   "cell_type": "markdown",
   "metadata": {},
   "source": [
    "# Create Variables"
   ]
  },
  {
   "cell_type": "markdown",
   "metadata": {},
   "source": [
    "## Create dataframe for 1st project only"
   ]
  },
  {
   "cell_type": "code",
   "execution_count": null,
   "metadata": {},
   "outputs": [],
   "source": [
    "# Copy dataframe\n",
    "base = df.copy()\n",
    "\n",
    "# First, let's flag the first project for each creator\n",
    "base['is_first_project'] = base.groupby('creator_id').cumcount() == 0\n",
    "\n",
    "# Now, we filter out rows where 'is_first_project' is False\n",
    "base = base[base['is_first_project'] == True].sort_values(by=['creator_id','launched_at'], ascending=True).reset_index(drop = True)\n",
    "\n",
    "# Set creator id as index\n",
    "base.set_index('creator_id', inplace=True)"
   ]
  },
  {
   "cell_type": "markdown",
   "metadata": {},
   "source": [
    "## Create dataframe for 2nd project only"
   ]
  },
  {
   "cell_type": "code",
   "execution_count": null,
   "metadata": {},
   "outputs": [],
   "source": [
    "# copy dataframe\n",
    "next_campaign = df.copy()\n",
    "\n",
    "# Get all the entrepreneurs' next campaign\n",
    "next_campaign['is_second_project'] = next_campaign.groupby('creator_id').cumcount() == 1\n",
    "\n",
    "# Filter out where is_second_project is True\n",
    "next_campaign = next_campaign[next_campaign['is_second_project'] == True].sort_values(by=['creator_id','launched_at'], ascending=True).reset_index(drop = True)\n",
    "\n",
    "# Check head\n",
    "next_campaign[['creator_id','id','state','launched_at', 'deadline', 'pledged', 'goal']].head()"
   ]
  },
  {
   "cell_type": "markdown",
   "metadata": {},
   "source": [
    "## Variables for Next Campaign"
   ]
  },
  {
   "cell_type": "code",
   "execution_count": null,
   "metadata": {},
   "outputs": [],
   "source": [
    "# Create dummy for success, failed, and canceled\n",
    "next_campaign['success_next'] = np.where(next_campaign['state'] == 'successful', 1, 0)\n",
    "next_campaign['failed_next'] = np.where(next_campaign['state'] == 'failed', 1, 0)\n",
    "next_campaign['canceled_next'] = np.where(next_campaign['state'] == 'canceled', 1, 0)\n",
    "\n",
    "# Create column raised next\n",
    "next_campaign['raised_next'] = np.where(next_campaign['success_next'] == 1, next_campaign['pledged'], 0)\n",
    "\n",
    "# Map variables to first campaign\n",
    "next_campaign = next_campaign[['creator_id', 'success_next', 'failed_next', 'canceled_next', 'raised_next']]\n",
    "# Set creator id as index\n",
    "next_campaign.set_index('creator_id', inplace=True)\n"
   ]
  },
  {
   "cell_type": "code",
   "execution_count": null,
   "metadata": {},
   "outputs": [],
   "source": [
    "# Merge with base\n",
    "base = base.merge(next_campaign, on = 'creator_id', how='left')"
   ]
  },
  {
   "cell_type": "code",
   "execution_count": null,
   "metadata": {},
   "outputs": [],
   "source": [
    "base[['id', 'state', 'goal', 'pledged', 'raised_next', 'success_next', 'failed_next', 'canceled_next']].head()"
   ]
  },
  {
   "cell_type": "markdown",
   "metadata": {},
   "source": [
    "## Variables for all campaigns after first"
   ]
  },
  {
   "cell_type": "code",
   "execution_count": null,
   "metadata": {},
   "outputs": [],
   "source": [
    "# Copy dataframe\n",
    "test = df.copy()\n",
    "\n",
    "# First, let's flag the first project for each creator\n",
    "test['is_first_project'] = test.groupby('creator_id').cumcount() == 0\n",
    "\n",
    "# Now, we filter out rows where 'is_first_project' is False\n",
    "test = test[test['is_first_project'] == False]\n",
    "\n",
    "# Append the first project launched at colmn by each creator as new column \n",
    "test = test.merge(df.groupby('creator_id')['launched_at'].first().reset_index().rename(columns={'launched_at':'first_project_launched_at'}), on='creator_id')\n",
    "\n",
    "# Reset index if needed\n",
    "test = test.reset_index(drop=True)\n",
    "\n",
    "test[['creator_id','id','state', 'state_changed_at','launched_at', 'deadline', 'pledged', 'goal', 'is_first_project', 'first_project_launched_at']].head()"
   ]
  },
  {
   "cell_type": "markdown",
   "metadata": {},
   "source": [
    "Create key variables"
   ]
  },
  {
   "cell_type": "code",
   "execution_count": null,
   "metadata": {},
   "outputs": [],
   "source": [
    "# Calculate total number of Kickstarter campaigns for each creator after first one\n",
    "test.groupby('creator_id', as_index = False)['id'].count().sort_values(by = 'creator_id', ascending = True).rename(columns = {'id':'total_campaigns_after_first'}).head()"
   ]
  },
  {
   "cell_type": "code",
   "execution_count": null,
   "metadata": {},
   "outputs": [],
   "source": [
    "# Calculate total number of successful, failed, canceled Kickstarter campaigns for each creator after first one\n",
    "successful = dict(test[test['state'] == 'successful'].groupby('creator_id')['id'].count().rename('total_successful_campaigns_after_first'))\n",
    "failed = dict(test[test['state'] == 'failed'].groupby('creator_id')['id'].count().rename('total_failed_campaigns_after_first'))\n",
    "canceled = dict(test[test['state'] == 'canceled'].groupby('creator_id')['id'].count().rename('total_canceled_campaigns_after_first'))\n",
    "total = dict(test.groupby('creator_id')['id'].count().rename('total_campaigns_after_first'))\n",
    "total_raised = dict(test[test['state'] == 'successful'].groupby('creator_id')['pledged'].sum().rename('total_raised_after_first'))\n",
    "\n",
    "\n",
    "# Calculate total number of successful, failed, canceled Kickstarter campaigns for each creator after first one for the next 3 years\n",
    "successful_3 = dict(test[(test['state'] == 'successful') & (test['launched_at'] <= test['first_project_launched_at'] + pd.DateOffset(years=3))].groupby('creator_id')['id'].count().rename('total_successful_campaigns_after_first_3'))\n",
    "failed_3 = dict(test[(test['state'] == 'failed') & (test['launched_at'] <= test['first_project_launched_at'] + pd.DateOffset(years=3))].groupby('creator_id')['id'].count().rename('total_failed_campaigns_after_first_3'))\n",
    "canceled_3 = dict(test[(test['state'] == 'canceled') & (test['launched_at'] <= test['first_project_launched_at'] + pd.DateOffset(years=3))].groupby('creator_id')['id'].count().rename('total_canceled_campaigns_after_first_3'))\n",
    "total_3 = dict(test[test['launched_at'] <= test['first_project_launched_at'] + pd.DateOffset(years=3)].groupby('creator_id')['id'].count().rename('total_campaigns_after_first_3'))\n",
    "total_raised_3 = dict(test[(test['state'] == 'successful') & (test['launched_at'] <= test['first_project_launched_at'] + pd.DateOffset(years=3))].groupby('creator_id')['pledged'].sum().rename('total_raised_after_first_3'))\n"
   ]
  },
  {
   "cell_type": "markdown",
   "metadata": {},
   "source": [
    "Create dataset of entrepreneurs' first projects only"
   ]
  },
  {
   "cell_type": "code",
   "execution_count": null,
   "metadata": {},
   "outputs": [],
   "source": [
    "# Map outcomes successful, failed, canceled to new dataframe\n",
    "base['total_successful_after_first'] = base.index.map(successful)\n",
    "base['total_failed_after_first'] = base.index.map(failed)\n",
    "base['total_canceled_after_first'] = base.index.map(canceled)\n",
    "base['total_campaigns_after_first'] = base.index.map(total)\n",
    "base['total_raised_after_first'] = base.index.map(total_raised)\n",
    "# Map outcomes successful, failed, canceled to new dataframe for the next 3 years\n",
    "base['total_successful_after_first_3'] = base.index.map(successful_3)\n",
    "base['total_failed_after_first_3'] = base.index.map(failed_3)\n",
    "base['total_canceled_after_first_3'] = base.index.map(canceled_3)\n",
    "base['total_campaigns_after_first_3'] = base.index.map(total_3)\n",
    "base['total_raised_after_first_3'] = base.index.map(total_raised_3)\n",
    "\n",
    "\n",
    "base[['is_first_project', 'total_successful_after_first', 'total_failed_after_first', 'total_canceled_after_first', 'total_campaigns_after_first', 'total_raised_after_first', 'total_successful_after_first_3', 'total_failed_after_first_3', \n",
    "         'total_canceled_after_first_3', 'total_campaigns_after_first_3', 'total_raised_after_first_3']].head()"
   ]
  },
  {
   "cell_type": "code",
   "execution_count": null,
   "metadata": {},
   "outputs": [],
   "source": [
    "# Dump created dataframe to json\n",
    "base.to_json('..\\data\\creator_first_project.json', orient='records', lines=True)"
   ]
  }
 ],
 "metadata": {
  "kernelspec": {
   "display_name": ".venv",
   "language": "python",
   "name": "python3"
  },
  "language_info": {
   "codemirror_mode": {
    "name": "ipython",
    "version": 3
   },
   "file_extension": ".py",
   "mimetype": "text/x-python",
   "name": "python",
   "nbconvert_exporter": "python",
   "pygments_lexer": "ipython3",
   "version": "3.13.0"
  }
 },
 "nbformat": 4,
 "nbformat_minor": 2
}
